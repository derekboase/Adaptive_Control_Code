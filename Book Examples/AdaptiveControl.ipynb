{
 "cells": [
  {
   "cell_type": "code",
   "execution_count": 2,
   "id": "fc71f35a",
   "metadata": {},
   "outputs": [],
   "source": [
    "import matplotlib.pyplot as plt\n",
    "import control as co\n",
    "import numpy as np\n",
    "import sympy as sp"
   ]
  },
  {
   "cell_type": "markdown",
   "id": "9693907d",
   "metadata": {},
   "source": [
    "# Chapter 1"
   ]
  },
  {
   "cell_type": "markdown",
   "id": "c7f75235",
   "metadata": {},
   "source": [
    "## Example 1.1"
   ]
  },
  {
   "cell_type": "code",
   "execution_count": 8,
   "id": "216bf5b0",
   "metadata": {},
   "outputs": [],
   "source": [
    "# Greek alphabet\n",
    "from sympy.abc import theta\n",
    "# English alphabet\n",
    "from sympy.abc import a, s, t, T"
   ]
  },
  {
   "cell_type": "code",
   "execution_count": null,
   "id": "2dabd586",
   "metadata": {},
   "outputs": [],
   "source": [
    "prod = sp.collect(sp.expand((s + 1)*(s + a)), s)\n",
    "prod"
   ]
  },
  {
   "cell_type": "code",
   "execution_count": null,
   "id": "74945ba9",
   "metadata": {},
   "outputs": [],
   "source": [
    "Go_1 = co.tf([1], [1, 1 - 0.01, -0.01])\n",
    "\n",
    "Go_2 = co.tf([1], [1, 1, 0])\n",
    "\n",
    "Go_3 = co.tf([1], [1, 1 + 0.01, 0.01])"
   ]
  },
  {
   "cell_type": "code",
   "execution_count": null,
   "id": "12b6c1a1",
   "metadata": {},
   "outputs": [],
   "source": [
    "systems = [Go_1, Go_2, Go_3]\n",
    "# time_ol = np.linspace(0, 300, 700) # Full response showing the divergence\n",
    "time_ol = np.linspace(0, 50, 700) # Zoomed in to show that the initial portions of the responses are similar"
   ]
  },
  {
   "cell_type": "markdown",
   "id": "5ad6391e",
   "metadata": {},
   "source": [
    "## Open loop response"
   ]
  },
  {
   "cell_type": "code",
   "execution_count": null,
   "id": "674d9ee7",
   "metadata": {},
   "outputs": [],
   "source": [
    "for sys in systems:\n",
    "    T, y = co.step_response(sys, T=time_ol)\n",
    "    plt.plot(T, y)\n",
    "plt.xlabel('Time, t (s)')\n",
    "plt.ylabel('Response')\n",
    "plt.legend(['a = -0.01', 'a = 0', 'a = 0.01'])\n",
    "plt.show()"
   ]
  },
  {
   "cell_type": "markdown",
   "id": "fd2f468e",
   "metadata": {},
   "source": [
    "## Closed Loop Response"
   ]
  },
  {
   "cell_type": "code",
   "execution_count": null,
   "id": "363f04fd",
   "metadata": {},
   "outputs": [],
   "source": [
    "# time_cl = np.linspace(0, 300, 700) # Full response showing the divergence\n",
    "time_cl = np.linspace(0, 13, 50) # Zoomed in to show that the initial portions of the responses are similar"
   ]
  },
  {
   "cell_type": "code",
   "execution_count": null,
   "id": "7736fbbf",
   "metadata": {},
   "outputs": [],
   "source": [
    "systems_cl = []\n",
    "for sys in systems:\n",
    "    sys_closed_loop = co.feedback(sys, 1)\n",
    "    T, y = co.step_response(sys_closed_loop, T=time_cl)\n",
    "    plt.plot(T, y)\n",
    "    systems_cl.append(sys_closed_loop)\n",
    "plt.xlabel('Time, t (s)')\n",
    "plt.ylabel('Response')\n",
    "plt.legend(['a = -0.01', 'a = 0', 'a = 0.01'])\n",
    "plt.show()"
   ]
  },
  {
   "cell_type": "markdown",
   "id": "a5c1baeb",
   "metadata": {},
   "source": [
    "## Bode Plots "
   ]
  },
  {
   "cell_type": "code",
   "execution_count": null,
   "id": "ef13864d",
   "metadata": {},
   "outputs": [],
   "source": [
    "for sys in systems:\n",
    "    co.bode_plot(sys, dB=False, deg=False)"
   ]
  },
  {
   "cell_type": "code",
   "execution_count": null,
   "id": "2c99d749",
   "metadata": {},
   "outputs": [],
   "source": [
    "for sys in systems_cl:\n",
    "    co.bode(sys, dB=False, deg=False, grid=False)"
   ]
  },
  {
   "cell_type": "markdown",
   "id": "f24cb161",
   "metadata": {},
   "source": [
    "## Example 1.2"
   ]
  },
  {
   "cell_type": "code",
   "execution_count": null,
   "id": "54f5ac59",
   "metadata": {},
   "outputs": [],
   "source": [
    "# Greek alphabet\n",
    "from sympy.abc import theta\n",
    "# English alphabet\n",
    "from sympy.abc import a, s, T"
   ]
  },
  {
   "cell_type": "code",
   "execution_count": null,
   "id": "abf0729c",
   "metadata": {},
   "outputs": [],
   "source": [
    "num = sp.collect(sp.expand(400*(1 - s*T)), s)\n",
    "num"
   ]
  },
  {
   "cell_type": "code",
   "execution_count": null,
   "id": "e51d7368",
   "metadata": {},
   "outputs": [],
   "source": [
    "denum = sp.collect(sp.expand((s + 1)*(s + 20)*(1 + T*s)), s)\n",
    "denum\n"
   ]
  },
  {
   "cell_type": "code",
   "execution_count": null,
   "id": "6684b5d2",
   "metadata": {
    "scrolled": true
   },
   "outputs": [],
   "source": [
    "# systems = [co.tf(Go_1), co.tf(Go_2), co.tf(Go_3)]\n",
    "systems_ol = []\n",
    "systems_cl = []\n",
    "T_vals = [0, 0.015, 0.03]\n",
    "time_ol = np.linspace(0, 5, 200)\n",
    "time_cl = np.linspace(0, 1, 100)\n",
    "for Tv in T_vals:\n",
    "    \n",
    "    if Tv != 0:\n",
    "        num_lop = sp.Poly(num.subs(T, Tv)).all_coeffs()\n",
    "    else:\n",
    "        num_lop = [400]\n",
    "    den_lop = sp.Poly(denum.subs(T, Tv)).all_coeffs()\n",
    "    sys_lop = co.tf([float(n) for n in num_lop], [float(d) for d in den_lop])\n",
    "    \n",
    "    # Open Loop\n",
    "    systems_ol.append(sys_lop)\n",
    "    T_lop, y = co.step_response(sys_lop, time_ol)\n",
    "    plt.figure(1)\n",
    "    plt.plot(T_lop, y)\n",
    "    \n",
    "    # Closed Loop\n",
    "    sys_lop = co.feedback(sys_lop, 1)\n",
    "    systems_cl.append(sys_lop)\n",
    "    T_lop, y = co.step_response(sys_lop, time_cl)\n",
    "    plt.figure(2)\n",
    "    plt.plot(T_lop, y)\n",
    "plt.legend(['T=0', 'T=0.015', 'T=0.03'])\n",
    "plt.figure(1)\n",
    "plt.legend(['T=0', 'T=0.015', 'T=0.03'])\n",
    "plt.show()"
   ]
  },
  {
   "cell_type": "markdown",
   "id": "a0c558e1",
   "metadata": {},
   "source": [
    "### Bode Plots"
   ]
  },
  {
   "cell_type": "code",
   "execution_count": null,
   "id": "c28557c0",
   "metadata": {},
   "outputs": [],
   "source": [
    "for sys in systems_ol:\n",
    "    co.bode_plot(sys, dB=False, deg=True)"
   ]
  },
  {
   "cell_type": "code",
   "execution_count": null,
   "id": "3b3ebc58",
   "metadata": {},
   "outputs": [],
   "source": [
    "for sys in systems_cl:\n",
    "    co.bode_plot(sys, dB=False, deg=True)"
   ]
  },
  {
   "cell_type": "markdown",
   "id": "31c63906",
   "metadata": {},
   "source": [
    "### Example 1.4"
   ]
  },
  {
   "cell_type": "code",
   "execution_count": null,
   "id": "22f6a33f",
   "metadata": {},
   "outputs": [],
   "source": [
    "# Greek alphabet\n",
    "from sympy.abc import theta\n",
    "# English alphabet\n",
    "from sympy.abc import a, s, t, K, T"
   ]
  },
  {
   "cell_type": "code",
   "execution_count": null,
   "id": "d12a3f4b",
   "metadata": {},
   "outputs": [],
   "source": [
    "u_vals = [0.3, 1.1, 5.1]\n",
    "time = np.linspace(0, 50, 200)\n",
    "for idx, uv in enumerate(u_vals):\n",
    "    plt.subplot(3, 1, (idx + 1))\n",
    "    sys1 = co.tf([(0.6*uv**3), (0.6*uv**3)], [1, 0])\n",
    "    sys2 = co.tf([1], [1, 3, 3, 1])\n",
    "    sys = co.feedback(co.series(sys1, sys2))\n",
    "    T_lop, y = co.step_response(sys, T=time)\n",
    "    plt.plot(T_lop, y*uv)\n",
    "# plt.legend(['0.3', '1.1', '5.1'])\n",
    "plt.show()"
   ]
  },
  {
   "cell_type": "markdown",
   "id": "fe3c3667",
   "metadata": {},
   "source": [
    "### Exampl"
   ]
  },
  {
   "cell_type": "code",
   "execution_count": null,
   "id": "13f2e666",
   "metadata": {},
   "outputs": [],
   "source": []
  },
  {
   "cell_type": "code",
   "execution_count": null,
   "id": "c4390822",
   "metadata": {},
   "outputs": [],
   "source": []
  },
  {
   "cell_type": "code",
   "execution_count": null,
   "id": "e9a4491e",
   "metadata": {},
   "outputs": [],
   "source": []
  },
  {
   "cell_type": "code",
   "execution_count": null,
   "id": "94747a30",
   "metadata": {},
   "outputs": [],
   "source": []
  },
  {
   "cell_type": "code",
   "execution_count": null,
   "id": "f2dedcf7",
   "metadata": {},
   "outputs": [],
   "source": []
  },
  {
   "cell_type": "code",
   "execution_count": null,
   "id": "c7f1ef54",
   "metadata": {},
   "outputs": [],
   "source": []
  },
  {
   "cell_type": "code",
   "execution_count": null,
   "id": "6037c135",
   "metadata": {},
   "outputs": [],
   "source": []
  },
  {
   "cell_type": "code",
   "execution_count": null,
   "id": "00b24d81",
   "metadata": {},
   "outputs": [],
   "source": []
  },
  {
   "cell_type": "code",
   "execution_count": null,
   "id": "a87e3654",
   "metadata": {},
   "outputs": [],
   "source": []
  },
  {
   "cell_type": "code",
   "execution_count": 14,
   "id": "8e1185d6",
   "metadata": {},
   "outputs": [],
   "source": []
  },
  {
   "cell_type": "code",
   "execution_count": null,
   "id": "13ffdec5",
   "metadata": {},
   "outputs": [],
   "source": []
  },
  {
   "cell_type": "code",
   "execution_count": null,
   "id": "31d2234d",
   "metadata": {},
   "outputs": [],
   "source": []
  },
  {
   "cell_type": "code",
   "execution_count": null,
   "id": "56b7b839",
   "metadata": {},
   "outputs": [],
   "source": []
  },
  {
   "cell_type": "code",
   "execution_count": null,
   "id": "c529bc15",
   "metadata": {},
   "outputs": [],
   "source": []
  },
  {
   "cell_type": "code",
   "execution_count": null,
   "id": "135e4fde",
   "metadata": {},
   "outputs": [],
   "source": []
  },
  {
   "cell_type": "code",
   "execution_count": null,
   "id": "c32f257f",
   "metadata": {},
   "outputs": [],
   "source": []
  },
  {
   "cell_type": "code",
   "execution_count": null,
   "id": "61346aca",
   "metadata": {},
   "outputs": [],
   "source": []
  },
  {
   "cell_type": "code",
   "execution_count": null,
   "id": "f42d5d25",
   "metadata": {},
   "outputs": [],
   "source": []
  },
  {
   "cell_type": "code",
   "execution_count": null,
   "id": "98cebe0d",
   "metadata": {},
   "outputs": [],
   "source": []
  },
  {
   "cell_type": "code",
   "execution_count": null,
   "id": "20b50325",
   "metadata": {},
   "outputs": [],
   "source": []
  },
  {
   "cell_type": "code",
   "execution_count": null,
   "id": "8ac4bf9b",
   "metadata": {},
   "outputs": [],
   "source": []
  },
  {
   "cell_type": "code",
   "execution_count": null,
   "id": "4cf8263c",
   "metadata": {},
   "outputs": [],
   "source": []
  },
  {
   "cell_type": "code",
   "execution_count": null,
   "id": "b3468f2a",
   "metadata": {},
   "outputs": [],
   "source": []
  },
  {
   "cell_type": "code",
   "execution_count": null,
   "id": "6498a9d4",
   "metadata": {},
   "outputs": [],
   "source": []
  },
  {
   "cell_type": "code",
   "execution_count": null,
   "id": "4fbf7b6a",
   "metadata": {},
   "outputs": [],
   "source": []
  },
  {
   "cell_type": "code",
   "execution_count": null,
   "id": "5632ca9f",
   "metadata": {},
   "outputs": [],
   "source": []
  },
  {
   "cell_type": "code",
   "execution_count": null,
   "id": "d8b9a2af",
   "metadata": {},
   "outputs": [],
   "source": []
  },
  {
   "cell_type": "code",
   "execution_count": null,
   "id": "3f9f98b1",
   "metadata": {},
   "outputs": [],
   "source": []
  },
  {
   "cell_type": "code",
   "execution_count": null,
   "id": "22c0f3f6",
   "metadata": {},
   "outputs": [],
   "source": []
  },
  {
   "cell_type": "code",
   "execution_count": null,
   "id": "730af3a1",
   "metadata": {},
   "outputs": [],
   "source": []
  },
  {
   "cell_type": "code",
   "execution_count": null,
   "id": "e9e898f9",
   "metadata": {},
   "outputs": [],
   "source": []
  },
  {
   "cell_type": "code",
   "execution_count": null,
   "id": "2d30183e",
   "metadata": {},
   "outputs": [],
   "source": []
  },
  {
   "cell_type": "code",
   "execution_count": null,
   "id": "0c2d0a1e",
   "metadata": {},
   "outputs": [],
   "source": []
  },
  {
   "cell_type": "code",
   "execution_count": null,
   "id": "bc831406",
   "metadata": {},
   "outputs": [],
   "source": []
  },
  {
   "cell_type": "code",
   "execution_count": null,
   "id": "33971442",
   "metadata": {},
   "outputs": [],
   "source": []
  },
  {
   "cell_type": "code",
   "execution_count": null,
   "id": "f1f79796",
   "metadata": {},
   "outputs": [],
   "source": []
  },
  {
   "cell_type": "code",
   "execution_count": null,
   "id": "d9ddad06",
   "metadata": {},
   "outputs": [],
   "source": []
  },
  {
   "cell_type": "code",
   "execution_count": null,
   "id": "de0235ee",
   "metadata": {},
   "outputs": [],
   "source": []
  },
  {
   "cell_type": "code",
   "execution_count": null,
   "id": "4e181fd1",
   "metadata": {},
   "outputs": [],
   "source": []
  },
  {
   "cell_type": "code",
   "execution_count": null,
   "id": "aae1bc59",
   "metadata": {},
   "outputs": [],
   "source": []
  },
  {
   "cell_type": "code",
   "execution_count": null,
   "id": "cfed202c",
   "metadata": {},
   "outputs": [],
   "source": []
  },
  {
   "cell_type": "code",
   "execution_count": null,
   "id": "8016ec8c",
   "metadata": {},
   "outputs": [],
   "source": []
  },
  {
   "cell_type": "code",
   "execution_count": null,
   "id": "51ab002b",
   "metadata": {},
   "outputs": [],
   "source": []
  },
  {
   "cell_type": "code",
   "execution_count": null,
   "id": "347f2a2b",
   "metadata": {},
   "outputs": [],
   "source": []
  },
  {
   "cell_type": "code",
   "execution_count": null,
   "id": "19010e89",
   "metadata": {},
   "outputs": [],
   "source": []
  },
  {
   "cell_type": "code",
   "execution_count": null,
   "id": "ab48e1a2",
   "metadata": {},
   "outputs": [],
   "source": []
  },
  {
   "cell_type": "code",
   "execution_count": null,
   "id": "22a4c799",
   "metadata": {},
   "outputs": [],
   "source": []
  },
  {
   "cell_type": "code",
   "execution_count": null,
   "id": "96aefe34",
   "metadata": {},
   "outputs": [],
   "source": []
  },
  {
   "cell_type": "code",
   "execution_count": null,
   "id": "481a60b5",
   "metadata": {},
   "outputs": [],
   "source": []
  },
  {
   "cell_type": "code",
   "execution_count": null,
   "id": "2528f792",
   "metadata": {},
   "outputs": [],
   "source": []
  },
  {
   "cell_type": "code",
   "execution_count": null,
   "id": "d24aabe3",
   "metadata": {},
   "outputs": [],
   "source": []
  },
  {
   "cell_type": "code",
   "execution_count": null,
   "id": "f062f4b6",
   "metadata": {},
   "outputs": [],
   "source": []
  },
  {
   "cell_type": "code",
   "execution_count": null,
   "id": "9e83a6d0",
   "metadata": {},
   "outputs": [],
   "source": []
  },
  {
   "cell_type": "code",
   "execution_count": null,
   "id": "520eaef2",
   "metadata": {},
   "outputs": [],
   "source": []
  },
  {
   "cell_type": "code",
   "execution_count": null,
   "id": "8415359a",
   "metadata": {},
   "outputs": [],
   "source": []
  },
  {
   "cell_type": "code",
   "execution_count": null,
   "id": "7f6a76ba",
   "metadata": {},
   "outputs": [],
   "source": []
  },
  {
   "cell_type": "code",
   "execution_count": null,
   "id": "7383bc2e",
   "metadata": {},
   "outputs": [],
   "source": []
  },
  {
   "cell_type": "code",
   "execution_count": null,
   "id": "29fd8229",
   "metadata": {},
   "outputs": [],
   "source": []
  },
  {
   "cell_type": "code",
   "execution_count": null,
   "id": "15b5405f",
   "metadata": {},
   "outputs": [],
   "source": []
  },
  {
   "cell_type": "code",
   "execution_count": null,
   "id": "006f2290",
   "metadata": {},
   "outputs": [],
   "source": []
  },
  {
   "cell_type": "code",
   "execution_count": null,
   "id": "cf8af60e",
   "metadata": {},
   "outputs": [],
   "source": []
  },
  {
   "cell_type": "code",
   "execution_count": null,
   "id": "9464660a",
   "metadata": {},
   "outputs": [],
   "source": []
  },
  {
   "cell_type": "code",
   "execution_count": null,
   "id": "cf7b6ead",
   "metadata": {},
   "outputs": [],
   "source": []
  },
  {
   "cell_type": "code",
   "execution_count": null,
   "id": "b4c20a42",
   "metadata": {},
   "outputs": [],
   "source": []
  },
  {
   "cell_type": "code",
   "execution_count": null,
   "id": "fb14191f",
   "metadata": {},
   "outputs": [],
   "source": []
  },
  {
   "cell_type": "code",
   "execution_count": null,
   "id": "14cf0f6c",
   "metadata": {},
   "outputs": [],
   "source": []
  },
  {
   "cell_type": "code",
   "execution_count": null,
   "id": "885b77a0",
   "metadata": {},
   "outputs": [],
   "source": []
  },
  {
   "cell_type": "code",
   "execution_count": null,
   "id": "76c53c62",
   "metadata": {},
   "outputs": [],
   "source": []
  },
  {
   "cell_type": "code",
   "execution_count": null,
   "id": "f41f7aaa",
   "metadata": {},
   "outputs": [],
   "source": []
  },
  {
   "cell_type": "code",
   "execution_count": null,
   "id": "84819169",
   "metadata": {},
   "outputs": [],
   "source": []
  },
  {
   "cell_type": "code",
   "execution_count": null,
   "id": "29e895d6",
   "metadata": {},
   "outputs": [],
   "source": []
  },
  {
   "cell_type": "code",
   "execution_count": null,
   "id": "97596076",
   "metadata": {},
   "outputs": [],
   "source": []
  },
  {
   "cell_type": "code",
   "execution_count": null,
   "id": "a761ad2a",
   "metadata": {},
   "outputs": [],
   "source": []
  },
  {
   "cell_type": "code",
   "execution_count": null,
   "id": "734867d7",
   "metadata": {},
   "outputs": [],
   "source": []
  }
 ],
 "metadata": {
  "kernelspec": {
   "display_name": "Python 3 (ipykernel)",
   "language": "python",
   "name": "python3"
  },
  "language_info": {
   "codemirror_mode": {
    "name": "ipython",
    "version": 3
   },
   "file_extension": ".py",
   "mimetype": "text/x-python",
   "name": "python",
   "nbconvert_exporter": "python",
   "pygments_lexer": "ipython3",
   "version": "3.8.10"
  }
 },
 "nbformat": 4,
 "nbformat_minor": 5
}
