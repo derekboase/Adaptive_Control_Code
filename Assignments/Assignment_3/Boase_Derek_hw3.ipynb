{
 "cells": [
  {
   "cell_type": "markdown",
   "id": "f23cf75a",
   "metadata": {},
   "source": [
    "# ELG7113 Machine Learning for Adaptive and Intelligent Control Systems\n",
    "\n",
    "Student: Derek Boase\n",
    "\n",
    "Std Num: 300043860\n",
    "\n",
    "e-mail: dboas065@uottawa.ca\n",
    "\n",
    "assignment GitHub: git@github.com:derekboase/Adaptive_Control_Code.git"
   ]
  },
  {
   "cell_type": "code",
   "execution_count": 1,
   "id": "62611631",
   "metadata": {},
   "outputs": [],
   "source": [
    "import matplotlib.pyplot as plt\n",
    "import control as co\n",
    "import numpy as np\n",
    "import sympy as sp\n",
    "\n",
    "from sympy.abc import e, p, beta, gamma, omega, theta, zeta\n",
    "from scipy.integrate import odeint\n",
    "from numpy import cos, sin, pi"
   ]
  },
  {
   "cell_type": "markdown",
   "id": "d3e88fc1",
   "metadata": {},
   "source": [
    "## Question 1: MIT Rule"
   ]
  },
  {
   "cell_type": "code",
   "execution_count": 2,
   "id": "37cb1921",
   "metadata": {},
   "outputs": [],
   "source": [
    "y, ym, ydot, yddot, u, uc = sp.symbols('y,y_m,\\dot{y},\\ddot{y},u,u_c')\n",
    "theta_1, theta_2 = sp.symbols('theta_1,theta_2')\n",
    "a,b,am,bm = sp.symbols('a,b,a_m,b_m')\n",
    "\n",
    "model = sp.Eq(yddot, -a*ydot + b*u)\n",
    "u_eq = theta_1*(y - uc) - theta_2*ydot\n",
    "model_u_sub = sp.Eq(sp.solve(sp.expand(model.subs(u, u_eq)), b*theta_1*uc)[0], b*theta_1*uc)\n",
    "model_p = sp.Eq((-p**2 - p*(a+b*theta_2) + b*theta_1)*y, b*theta_1*uc) \n",
    "\n",
    "\n",
    "Gm = omega**2/(p**2 + 2*zeta*omega*p + omega**2)\n",
    "ym_eq = sp.Eq(ym, Gm*uc)"
   ]
  },
  {
   "cell_type": "markdown",
   "id": "4b0fdc4e",
   "metadata": {},
   "source": [
    "### Q1.1: Derivation of MIT Rule Adaptation Laws"
   ]
  },
  {
   "cell_type": "markdown",
   "id": "e0937b49",
   "metadata": {
    "variables": {
     "model": "$\\displaystyle \\ddot{y} = - \\dot{y} a + b u$",
     "model_u_sub": "$\\displaystyle - \\ddot{y} - \\dot{y} a - \\dot{y} b \\theta_{2} + b \\theta_{1} y = b \\theta_{1} u_{c}$",
     "sp.Eq(u, u_eq)": "$\\displaystyle u = - \\dot{y} \\theta_{2} + \\theta_{1} \\left(- u_{c} + y\\right)$",
     "theta_1": "$\\displaystyle \\theta_{1}$",
     "theta_2": "$\\displaystyle \\theta_{2}$",
     "u": "$\\displaystyle u$",
     "y": "$\\displaystyle y$"
    }
   },
   "source": [
    "The model of the system is given by, \n",
    "\n",
    "{{model}}\n",
    "\n",
    "where {{y}} is the output and {{u}} is the input. The adjustment law of the controller has two parameters, {{theta_1}} and {{theta_2}}, such that the input to the system is given as, \n",
    "\n",
    "{{sp.Eq(u, u_eq)}}\n",
    "\n",
    "Substituting the input equation into the model equation gives,\n",
    "\n",
    "{{model_u_sub}}"
   ]
  },
  {
   "cell_type": "markdown",
   "id": "76f33f29",
   "metadata": {
    "variables": {
     "model_p": "$\\displaystyle y \\left(b \\theta_{1} - p^{2} - p \\left(a + b \\theta_{2}\\right)\\right) = b \\theta_{1} u_{c}$"
    }
   },
   "source": [
    "To solve for $y(t)$ the differential operator is used such that $p = \\frac{d}{dt}$. With this substitution, the model is then given as, \n",
    "\n",
    "{{model_p}}"
   ]
  },
  {
   "cell_type": "code",
   "execution_count": 3,
   "id": "6fb20ee8",
   "metadata": {
    "variables": {
     "sp.Eq(y, sp.collect(sp.solve(model_p, y)[0], p))": "$\\displaystyle y = - \\frac{b \\theta_{1} u_{c}}{- b \\theta_{1} + p^{2} + p \\left(a - b \\theta_{2}\\right)}$"
    }
   },
   "outputs": [],
   "source": [
    "model_p = sp.Eq(y, sp.collect(sp.solve(model_p, y)[0], p))"
   ]
  },
  {
   "cell_type": "markdown",
   "id": "788351f5",
   "metadata": {
    "variables": {
     "model_p": "$\\displaystyle y = - \\frac{b \\theta_{1} u_{c}}{- b \\theta_{1} + p^{2} + p \\left(a + b \\theta_{2}\\right)}$"
    }
   },
   "source": [
    "\n",
    "This gives, \n",
    "\n",
    "{{model_p}}"
   ]
  },
  {
   "cell_type": "markdown",
   "id": "c6d59d22",
   "metadata": {
    "variables": {
     "theta_1": "$\\displaystyle \\theta_{1}$",
     "theta_2": "$\\displaystyle \\theta_{2}$",
     "ym_eq": "$\\displaystyle y_{m} = \\frac{\\omega^{2} u_{c}}{\\omega^{2} + 2 \\omega p \\zeta + p^{2}}$"
    }
   },
   "source": [
    "To find the values of {{theta_1}} and {{theta_2}} for perfect model following, we consider the given model, \n",
    "\n",
    "{{ym_eq}}\n",
    "\n",
    "By comparing the numerators of the model and the reference model, we find {{theta_1}} to be, "
   ]
  },
  {
   "cell_type": "code",
   "execution_count": 4,
   "id": "e69f68c6",
   "metadata": {},
   "outputs": [],
   "source": [
    "num, denum = sp.fraction(model_p.rhs)\n",
    "num_m, denum_m = sp.fraction(ym_eq.rhs)\n",
    "theta_1_MF = sp.Eq(theta_1, sp.solve(num - num_m, theta_1)[0])\n",
    "theta_2_MF = sp.Eq(theta_2, sp.solve((denum - denum_m).subs(theta_1, theta_1_MF.rhs), theta_2)[0])"
   ]
  },
  {
   "cell_type": "markdown",
   "id": "ad4b86f5",
   "metadata": {
    "variables": {
     "theta_1_MF": "$\\displaystyle \\theta_{1} = - \\frac{\\omega^{2}}{b}$",
     "theta_2_MF": "$\\displaystyle \\theta_{2} = \\frac{- a + 2 \\omega \\zeta}{b}$"
    }
   },
   "source": [
    "Then for perfect model following the values of the parameters should be, \n",
    "\n",
    "{{theta_1_MF}} \n",
    "\n",
    "and\n",
    "\n",
    "{{theta_2_MF}}"
   ]
  },
  {
   "cell_type": "markdown",
   "id": "4f5d73c1",
   "metadata": {},
   "source": [
    "Next we find the sensitivity of the error function, $\\frac{\\partial e(\\theta_1, \\theta_2)}{\\partial \\theta_i}$, for $i \\in\\{1,2\\}$. One note to make is that since $y_m$ doesn't depend on the parameters the sensitivities are given by the derivation of the output, $\\frac{\\partial y(\\theta_1, \\theta_2)}{\\partial \\theta_i}$"
   ]
  },
  {
   "cell_type": "code",
   "execution_count": 5,
   "id": "5ae78ff0",
   "metadata": {},
   "outputs": [],
   "source": [
    "sens_1, sens_2 = sp.symbols('de/dt_1, de/dt_2')\n",
    "sensitivity_1 = sp.diff(model_p.rhs, theta_1)\n",
    "sensitivity_1 = sp.Eq(sens_1, sp.simplify(sensitivity_1))\n",
    "sensitivity_2 = sp.diff(model_p.rhs, theta_2)\n",
    "sensitivity_2 = sp.Eq(sens_2, sp.simplify(sensitivity_2))"
   ]
  },
  {
   "cell_type": "markdown",
   "id": "ed00cbd7",
   "metadata": {
    "variables": {
     "sensitivity_1": "$\\displaystyle de/dt_{1} = - \\frac{b p u_{c} \\left(a + b \\theta_{2} + p\\right)}{\\left(- b \\theta_{1} + p^{2} + p \\left(a + b \\theta_{2}\\right)\\right)^{2}}$",
     "sensitivity_2": "$\\displaystyle de/dt_{2} = \\frac{b^{2} p \\theta_{1} u_{c}}{\\left(- b \\theta_{1} + p^{2} + p \\left(a + b \\theta_{2}\\right)\\right)^{2}}$"
    }
   },
   "source": [
    "The evaluation of these derivatives yeilds, \n",
    "\n",
    "{{sensitivity_1}}\n",
    "\n",
    "{{sensitivity_2}}"
   ]
  },
  {
   "cell_type": "code",
   "execution_count": 6,
   "id": "749ea36f",
   "metadata": {},
   "outputs": [],
   "source": [
    "sensitivity_1 = sensitivity_1.subs(theta_1, theta_1_MF.rhs).subs(theta_2, theta_2_MF.rhs)\n",
    "sensitivity_2 = sensitivity_2.subs(theta_1, theta_1_MF.rhs).subs(theta_2, theta_2_MF.rhs)\n",
    "\n",
    "sens_1_sym = sp.expand(sensitivity_1)\n",
    "sens_2_sym = sp.expand(sensitivity_2)"
   ]
  },
  {
   "cell_type": "markdown",
   "id": "010df9dc",
   "metadata": {
    "variables": {
     "sensitivity_1": "$\\displaystyle de/dt_{1} = - \\frac{b p u_{c} \\left(2 \\omega \\zeta + p\\right)}{\\left(\\omega^{2} + 2 \\omega p \\zeta + p^{2}\\right)^{2}}$",
     "sensitivity_2": "$\\displaystyle de/dt_{2} = - \\frac{b \\omega^{2} p u_{c}}{\\left(\\omega^{2} + 2 \\omega p \\zeta + p^{2}\\right)^{2}}$"
    }
   },
   "source": [
    "These are dependent on the estimated parameters and thus require substitution of the perfect model following parameters, \n",
    "\n",
    "{{sensitivity_1}}\n",
    "\n",
    "{{sensitivity_2}}"
   ]
  },
  {
   "cell_type": "code",
   "execution_count": 7,
   "id": "870c7133",
   "metadata": {},
   "outputs": [],
   "source": [
    "uc_sub = sp.solve(ym_eq, uc)[0]\n",
    "sensitivity_1 = sensitivity_1.subs(theta_1, theta_1_MF.rhs).subs(theta_2, theta_2_MF.rhs).subs(uc, uc_sub)\n",
    "sensitivity_2 = sensitivity_2.subs(theta_1, theta_1_MF.rhs).subs(theta_2, theta_2_MF.rhs).subs(uc, uc_sub)"
   ]
  },
  {
   "cell_type": "markdown",
   "id": "590e038d",
   "metadata": {
    "variables": {
     "sensitivity_1": "$\\displaystyle de/dt_{1} = - \\frac{b p y_{m} \\left(2 \\omega \\zeta + p\\right)}{\\omega^{2} \\left(\\omega^{2} + 2 \\omega p \\zeta + p^{2}\\right)}$",
     "sensitivity_2": "$\\displaystyle de/dt_{2} = - \\frac{b p y_{m}}{\\omega^{2} + 2 \\omega p \\zeta + p^{2}}$",
     "sp.Eq(uc, uc_sub)": "$\\displaystyle u_{c} = \\frac{y_{m} \\left(\\omega^{2} + 2 \\omega p \\zeta + p^{2}\\right)}{\\omega^{2}}$"
    }
   },
   "source": [
    "By rearranging the equation for the reference model to solve for $u_c$ we get, \n",
    "\n",
    "{{sp.Eq(uc, uc_sub)}}\n",
    "\n",
    "Substituting this into the sensitvity equations, \n",
    "\n",
    "{{sensitivity_1}}\n",
    "\n",
    "{{sensitivity_2}}"
   ]
  },
  {
   "cell_type": "markdown",
   "id": "83d81e7e",
   "metadata": {},
   "source": [
    "Then, \n",
    "\n",
    "$ \\dot{\\theta_i} = -\\gamma' e\\frac{\\partial e}{\\partial \\theta_i}$"
   ]
  },
  {
   "cell_type": "markdown",
   "id": "9ebfaa41",
   "metadata": {
    "variables": {
     "-sensitivity_1.rhs": "$\\displaystyle \\frac{b p y_{m} \\left(2 \\omega \\zeta + p\\right)}{\\omega^{2} \\left(\\omega^{2} + 2 \\omega p \\zeta + p^{2}\\right)}$",
     "-sensitivity_2.rhs": "$\\displaystyle \\frac{b p y_{m}}{\\omega^{2} + 2 \\omega p \\zeta + p^{2}}$"
    }
   },
   "source": [
    "Then the adaptation law's are given as, \n",
    "\n",
    "$ \\dot{\\theta}_1 = \\gamma'e${{-sensitivity_1.rhs}}\n",
    "\n",
    "$ \\dot{\\theta}_2 = \\gamma'e${{-sensitivity_2.rhs}}"
   ]
  },
  {
   "cell_type": "markdown",
   "id": "734c3fb6",
   "metadata": {
    "variables": {
     "-sensitivity_1.rhs/b": "$\\displaystyle \\frac{p y_{m} \\left(2 \\omega \\zeta + p\\right)}{\\omega^{2} \\left(\\omega^{2} + 2 \\omega p \\zeta + p^{2}\\right)}$",
     "-sensitivity_2.rhs/b": "$\\displaystyle \\frac{p y_{m}}{\\omega^{2} + 2 \\omega p \\zeta + p^{2}}$"
    }
   },
   "source": [
    "By defining $\\gamma = \\gamma'b$ we get\n",
    "\n",
    "$ \\dot{\\theta}_1 = \\gamma e${{-sensitivity_1.rhs/b}}\n",
    "\n",
    "$ \\dot{\\theta}_2 = \\gamma e${{-sensitivity_2.rhs/b}}"
   ]
  },
  {
   "cell_type": "markdown",
   "id": "7df269a9",
   "metadata": {},
   "source": [
    "### Q1.2: Implementation of MIT Rule Adaptation Laws"
   ]
  },
  {
   "cell_type": "code",
   "execution_count": 8,
   "id": "6f6e6225",
   "metadata": {},
   "outputs": [
    {
     "data": {
      "image/png": "[encoded data removed]",
      "text/plain": [
       "<Figure size 432x288 with 1 Axes>"
      ]
     },
     "metadata": {
      "needs_background": "light"
     },
     "output_type": "display_data"
    }
   ],
   "source": [
    "t = np.linspace(0, 100, 1001)\n",
    "K = 2.0*1.5*0.6\n",
    "C = 1.5**2 \n",
    "def reference_signal(time=t):\n",
    "    _uc = np.array([1])\n",
    "    for _t in time[1:]:\n",
    "        rat = 2.0*pi*_t/30.0\n",
    "        _uc = np.concatenate((_uc, np.array([sin(rat)>= 0])), axis=0)\n",
    "    return _uc\n",
    "uc=reference_signal()\n",
    "plt.plot(t, reference_signal())\n",
    "plt.show()"
   ]
  },
  {
   "cell_type": "code",
   "execution_count": 33,
   "id": "92ad3be1",
   "metadata": {},
   "outputs": [
    {
     "data": {
      "text/latex": [
       "$\\displaystyle y = - \\frac{b \\theta_{1} u_{c}}{- b \\theta_{1} + p^{2} + p \\left(a + b \\theta_{2}\\right)}$"
      ],
      "text/plain": [
       "Eq(y, -b*theta_1*u_c/(-b*theta_1 + p**2 + p*(a + b*theta_2)))"
      ]
     },
     "execution_count": 33,
     "metadata": {},
     "output_type": "execute_result"
    }
   ],
   "source": [
    "model_p"
   ]
  },
  {
   "cell_type": "code",
   "execution_count": 35,
   "id": "7e8e4f04",
   "metadata": {},
   "outputs": [
    {
     "ename": "TypeError",
     "evalue": "The numerator and denominator inputs must be scalars or vectors (for\nSISO), or lists of lists of vectors (for SISO or MIMO).",
     "output_type": "error",
     "traceback": [
      "\u001b[1;31m---------------------------------------------------------------------------\u001b[0m",
      "\u001b[1;31mTypeError\u001b[0m                                 Traceback (most recent call last)",
      "\u001b[1;32m~\\AppData\\Local\\Temp/ipykernel_20512/2124210928.py\u001b[0m in \u001b[0;36m<module>\u001b[1;34m\u001b[0m\n\u001b[0;32m     11\u001b[0m \u001b[1;33m\u001b[0m\u001b[0m\n\u001b[0;32m     12\u001b[0m \u001b[1;31m# Symbolic representation of discretized ym using zoh\u001b[0m\u001b[1;33m\u001b[0m\u001b[1;33m\u001b[0m\u001b[1;33m\u001b[0m\u001b[0m\n\u001b[1;32m---> 13\u001b[1;33m \u001b[0my_zoh\u001b[0m \u001b[1;33m=\u001b[0m \u001b[0mco\u001b[0m\u001b[1;33m.\u001b[0m\u001b[0msample_system\u001b[0m\u001b[1;33m(\u001b[0m\u001b[0mco\u001b[0m\u001b[1;33m.\u001b[0m\u001b[0mtf\u001b[0m\u001b[1;33m(\u001b[0m\u001b[1;33m[\u001b[0m\u001b[0mb\u001b[0m\u001b[1;33m*\u001b[0m\u001b[0mtheta_1\u001b[0m\u001b[1;33m]\u001b[0m\u001b[1;33m,\u001b[0m \u001b[1;33m[\u001b[0m\u001b[1;36m1.\u001b[0m\u001b[1;33m,\u001b[0m \u001b[0mK\u001b[0m\u001b[1;33m,\u001b[0m \u001b[0mC\u001b[0m\u001b[1;33m]\u001b[0m\u001b[1;33m)\u001b[0m\u001b[1;33m,\u001b[0m \u001b[0mTs\u001b[0m\u001b[1;33m=\u001b[0m\u001b[0mTs\u001b[0m\u001b[1;33m,\u001b[0m \u001b[0mmethod\u001b[0m\u001b[1;33m=\u001b[0m\u001b[1;34m'zoh'\u001b[0m\u001b[1;33m)\u001b[0m\u001b[1;33m\u001b[0m\u001b[1;33m\u001b[0m\u001b[0m\n\u001b[0m\u001b[0;32m     14\u001b[0m \u001b[1;33m\u001b[0m\u001b[0m\n\u001b[0;32m     15\u001b[0m \u001b[1;31m# ym_k_1, ym_k_2, uc_k_1, uc_k_2 = sp.symbols('y_{m}(k-1),y_{m}(k-2),u_{c}(k-1),u_{c}(k-2)')\u001b[0m\u001b[1;33m\u001b[0m\u001b[1;33m\u001b[0m\u001b[1;33m\u001b[0m\u001b[0m\n",
      "\u001b[1;32m~\\Anaconda3\\lib\\site-packages\\control\\xferfcn.py\u001b[0m in \u001b[0;36mtf\u001b[1;34m(*args, **kwargs)\u001b[0m\n\u001b[0;32m   1496\u001b[0m \u001b[1;33m\u001b[0m\u001b[0m\n\u001b[0;32m   1497\u001b[0m     \u001b[1;32mif\u001b[0m \u001b[0mlen\u001b[0m\u001b[1;33m(\u001b[0m\u001b[0margs\u001b[0m\u001b[1;33m)\u001b[0m \u001b[1;33m==\u001b[0m \u001b[1;36m2\u001b[0m \u001b[1;32mor\u001b[0m \u001b[0mlen\u001b[0m\u001b[1;33m(\u001b[0m\u001b[0margs\u001b[0m\u001b[1;33m)\u001b[0m \u001b[1;33m==\u001b[0m \u001b[1;36m3\u001b[0m\u001b[1;33m:\u001b[0m\u001b[1;33m\u001b[0m\u001b[1;33m\u001b[0m\u001b[0m\n\u001b[1;32m-> 1498\u001b[1;33m         \u001b[1;32mreturn\u001b[0m \u001b[0mTransferFunction\u001b[0m\u001b[1;33m(\u001b[0m\u001b[1;33m*\u001b[0m\u001b[0margs\u001b[0m\u001b[1;33m,\u001b[0m \u001b[1;33m**\u001b[0m\u001b[0mkwargs\u001b[0m\u001b[1;33m)\u001b[0m\u001b[1;33m\u001b[0m\u001b[1;33m\u001b[0m\u001b[0m\n\u001b[0m\u001b[0;32m   1499\u001b[0m     \u001b[1;32melif\u001b[0m \u001b[0mlen\u001b[0m\u001b[1;33m(\u001b[0m\u001b[0margs\u001b[0m\u001b[1;33m)\u001b[0m \u001b[1;33m==\u001b[0m \u001b[1;36m1\u001b[0m\u001b[1;33m:\u001b[0m\u001b[1;33m\u001b[0m\u001b[1;33m\u001b[0m\u001b[0m\n\u001b[0;32m   1500\u001b[0m         \u001b[1;31m# Look for special cases defining differential/delay operator\u001b[0m\u001b[1;33m\u001b[0m\u001b[1;33m\u001b[0m\u001b[1;33m\u001b[0m\u001b[0m\n",
      "\u001b[1;32m~\\Anaconda3\\lib\\site-packages\\control\\xferfcn.py\u001b[0m in \u001b[0;36m__init__\u001b[1;34m(self, *args, **kwargs)\u001b[0m\n\u001b[0;32m    181\u001b[0m                              % len(args))\n\u001b[0;32m    182\u001b[0m \u001b[1;33m\u001b[0m\u001b[0m\n\u001b[1;32m--> 183\u001b[1;33m         \u001b[0mnum\u001b[0m \u001b[1;33m=\u001b[0m \u001b[0m_clean_part\u001b[0m\u001b[1;33m(\u001b[0m\u001b[0mnum\u001b[0m\u001b[1;33m)\u001b[0m\u001b[1;33m\u001b[0m\u001b[1;33m\u001b[0m\u001b[0m\n\u001b[0m\u001b[0;32m    184\u001b[0m         \u001b[0mden\u001b[0m \u001b[1;33m=\u001b[0m \u001b[0m_clean_part\u001b[0m\u001b[1;33m(\u001b[0m\u001b[0mden\u001b[0m\u001b[1;33m)\u001b[0m\u001b[1;33m\u001b[0m\u001b[1;33m\u001b[0m\u001b[0m\n\u001b[0;32m    185\u001b[0m \u001b[1;33m\u001b[0m\u001b[0m\n",
      "\u001b[1;32m~\\Anaconda3\\lib\\site-packages\\control\\xferfcn.py\u001b[0m in \u001b[0;36m_clean_part\u001b[1;34m(data)\u001b[0m\n\u001b[0;32m   1655\u001b[0m         \u001b[1;31m# If the user passed in anything else, then it's unclear what\u001b[0m\u001b[1;33m\u001b[0m\u001b[1;33m\u001b[0m\u001b[1;33m\u001b[0m\u001b[0m\n\u001b[0;32m   1656\u001b[0m         \u001b[1;31m# the meaning is.\u001b[0m\u001b[1;33m\u001b[0m\u001b[1;33m\u001b[0m\u001b[1;33m\u001b[0m\u001b[0m\n\u001b[1;32m-> 1657\u001b[1;33m         raise TypeError(\n\u001b[0m\u001b[0;32m   1658\u001b[0m             \u001b[1;34m\"The numerator and denominator inputs must be scalars or vectors \"\u001b[0m\u001b[1;33m\u001b[0m\u001b[1;33m\u001b[0m\u001b[0m\n\u001b[0;32m   1659\u001b[0m             \"(for\\nSISO), or lists of lists of vectors (for SISO or MIMO).\")\n",
      "\u001b[1;31mTypeError\u001b[0m: The numerator and denominator inputs must be scalars or vectors (for\nSISO), or lists of lists of vectors (for SISO or MIMO)."
     ]
    }
   ],
   "source": [
    "Ts = t[1] - t[0]\n",
    "\n",
    "# Symbolic representation of discretized ym using zoh\n",
    "ym_zoh = co.sample_system(co.tf([C], [1., K, C]), Ts=Ts, method='zoh')\n",
    "\n",
    "ym_k_1, ym_k_2, uc_k_1, uc_k_2 = sp.symbols('y_{m}(k-1),y_{m}(k-2),u_{c}(k-1),u_{c}(k-2)')\n",
    "ym_num, ym_den = ym_zoh.num[0][0], ym_zoh.den[0][0]\n",
    "ym_k_sym = -ym_den[1]*ym_k_1 - ym_den[2]*ym_k_2 + ym_num[0]*uc_k_1 + ym_num[1]*uc_k_2\n",
    "\n",
    "ym_k_func = sp.lambdify([ym_k_1, ym_k_2, uc_k_1, uc_k_2], ym_k_sym)\n",
    "\n",
    "# Symbolic representation of discretized ym using zoh\n",
    "y_zoh = co.sample_system(co.tf([theta_1], [1., K, C]), Ts=Ts, method='zoh')\n",
    "\n",
    "# ym_k_1, ym_k_2, uc_k_1, uc_k_2 = sp.symbols('y_{m}(k-1),y_{m}(k-2),u_{c}(k-1),u_{c}(k-2)')\n",
    "# ym_num, ym_den = ym_zoh.num[0][0], ym_zoh.den[0][0]\n",
    "# ym_k_sym = -ym_den[1]*ym_k_1 - ym_den[2]*ym_k_2 + ym_num[0]*uc_k_1 + ym_num[1]*uc_k_2\n",
    "\n",
    "# ym_k_func = sp.lambdify([ym_k_1, ym_k_2, uc_k_1, uc_k_2], ym_k_sym)"
   ]
  },
  {
   "cell_type": "code",
   "execution_count": 30,
   "id": "4b41355e",
   "metadata": {},
   "outputs": [
    {
     "data": {
      "image/png": "[encoded data removed]",
      "text/plain": [
       "<Figure size 432x288 with 1 Axes>"
      ]
     },
     "metadata": {
      "needs_background": "light"
     },
     "output_type": "display_data"
    }
   ],
   "source": [
    "# t = 0\n",
    "\n",
    "ym_vals = np.array([ym_k_func(0, 0, 0, 0)]) \n",
    "theta_1_val = np.array([0])\n",
    "theta_2_val = np.array([0])\n",
    "y_vals = np.array([0])\n",
    "\n",
    "\n",
    "# t = 0.1\n",
    "ym_vals = np.concatenate((ym_vals,\n",
    "                          np.array([ym_k_func(ym_vals[0], 0, uc[0], 0)]).reshape(-1,)), \n",
    "                          axis=0)\n",
    "\n",
    "for k, _t in enumerate(t[2:], start=2):\n",
    "    ym_vals = np.concatenate((ym_vals, \n",
    "                              np.array([ym_k_func(ym_vals[k-1], ym_vals[k-2], uc[k-1], uc[k-2])]).reshape(-1,)), \n",
    "                              axis=0)\n",
    "plt.plot(t, ym_vals)\n",
    "plt.plot(t, uc)\n",
    "plt.show()"
   ]
  },
  {
   "cell_type": "code",
   "execution_count": null,
   "id": "97b2417e",
   "metadata": {},
   "outputs": [],
   "source": []
  },
  {
   "cell_type": "code",
   "execution_count": null,
   "id": "7e34d748",
   "metadata": {},
   "outputs": [],
   "source": []
  },
  {
   "cell_type": "code",
   "execution_count": null,
   "id": "88b3beb0",
   "metadata": {},
   "outputs": [],
   "source": []
  },
  {
   "cell_type": "code",
   "execution_count": null,
   "id": "0e451938",
   "metadata": {},
   "outputs": [],
   "source": []
  },
  {
   "cell_type": "code",
   "execution_count": null,
   "id": "8bf6d409",
   "metadata": {},
   "outputs": [],
   "source": []
  },
  {
   "cell_type": "code",
   "execution_count": null,
   "id": "91976f7a",
   "metadata": {},
   "outputs": [],
   "source": []
  },
  {
   "cell_type": "code",
   "execution_count": null,
   "id": "6e2c754f",
   "metadata": {},
   "outputs": [],
   "source": []
  },
  {
   "cell_type": "code",
   "execution_count": null,
   "id": "fb620715",
   "metadata": {},
   "outputs": [],
   "source": []
  },
  {
   "cell_type": "code",
   "execution_count": null,
   "id": "70e8cd98",
   "metadata": {},
   "outputs": [],
   "source": []
  },
  {
   "cell_type": "code",
   "execution_count": null,
   "id": "9edd3066",
   "metadata": {},
   "outputs": [],
   "source": []
  },
  {
   "cell_type": "code",
   "execution_count": null,
   "id": "f2315ebc",
   "metadata": {},
   "outputs": [],
   "source": []
  },
  {
   "cell_type": "code",
   "execution_count": null,
   "id": "a03e2724",
   "metadata": {},
   "outputs": [],
   "source": []
  },
  {
   "cell_type": "code",
   "execution_count": null,
   "id": "66795e3e",
   "metadata": {},
   "outputs": [],
   "source": []
  },
  {
   "cell_type": "code",
   "execution_count": null,
   "id": "02b0af4a",
   "metadata": {},
   "outputs": [],
   "source": []
  },
  {
   "cell_type": "code",
   "execution_count": null,
   "id": "76e33d5e",
   "metadata": {},
   "outputs": [],
   "source": []
  },
  {
   "cell_type": "code",
   "execution_count": null,
   "id": "70e6a27f",
   "metadata": {},
   "outputs": [],
   "source": []
  },
  {
   "cell_type": "code",
   "execution_count": null,
   "id": "931195e3",
   "metadata": {},
   "outputs": [],
   "source": []
  },
  {
   "cell_type": "code",
   "execution_count": null,
   "id": "075d47da",
   "metadata": {},
   "outputs": [],
   "source": []
  },
  {
   "cell_type": "code",
   "execution_count": null,
   "id": "93410fe7",
   "metadata": {},
   "outputs": [],
   "source": []
  },
  {
   "cell_type": "code",
   "execution_count": null,
   "id": "4ca9b7dc",
   "metadata": {},
   "outputs": [],
   "source": []
  },
  {
   "cell_type": "code",
   "execution_count": null,
   "id": "1e6febac",
   "metadata": {},
   "outputs": [],
   "source": []
  },
  {
   "cell_type": "code",
   "execution_count": null,
   "id": "e7e4c2ff",
   "metadata": {},
   "outputs": [],
   "source": []
  },
  {
   "cell_type": "code",
   "execution_count": null,
   "id": "335b8e0a",
   "metadata": {},
   "outputs": [],
   "source": []
  },
  {
   "cell_type": "code",
   "execution_count": null,
   "id": "19687ae6",
   "metadata": {},
   "outputs": [],
   "source": []
  },
  {
   "cell_type": "code",
   "execution_count": null,
   "id": "193bae9a",
   "metadata": {},
   "outputs": [],
   "source": []
  },
  {
   "cell_type": "code",
   "execution_count": null,
   "id": "5e71d965",
   "metadata": {},
   "outputs": [],
   "source": []
  },
  {
   "cell_type": "code",
   "execution_count": null,
   "id": "0f885d64",
   "metadata": {},
   "outputs": [],
   "source": []
  },
  {
   "cell_type": "code",
   "execution_count": null,
   "id": "836a4d03",
   "metadata": {},
   "outputs": [],
   "source": []
  },
  {
   "cell_type": "code",
   "execution_count": null,
   "id": "c3b55d18",
   "metadata": {},
   "outputs": [],
   "source": []
  },
  {
   "cell_type": "code",
   "execution_count": null,
   "id": "023ca534",
   "metadata": {},
   "outputs": [],
   "source": []
  },
  {
   "cell_type": "code",
   "execution_count": null,
   "id": "bc618ce5",
   "metadata": {},
   "outputs": [],
   "source": []
  },
  {
   "cell_type": "code",
   "execution_count": null,
   "id": "171cab08",
   "metadata": {},
   "outputs": [],
   "source": []
  },
  {
   "cell_type": "code",
   "execution_count": null,
   "id": "018542db",
   "metadata": {},
   "outputs": [],
   "source": []
  },
  {
   "cell_type": "code",
   "execution_count": null,
   "id": "70707108",
   "metadata": {},
   "outputs": [],
   "source": []
  },
  {
   "cell_type": "markdown",
   "id": "e7589e8e",
   "metadata": {},
   "source": [
    "# ABANDONED ODE SOLUTION"
   ]
  },
  {
   "cell_type": "code",
   "execution_count": 9,
   "id": "2bc9baa1",
   "metadata": {},
   "outputs": [
    {
     "data": {
      "image/png": "[encoded data removed]",
      "text/plain": [
       "<Figure size 432x288 with 1 Axes>"
      ]
     },
     "metadata": {
      "needs_background": "light"
     },
     "output_type": "display_data"
    }
   ],
   "source": [
    "t = np.linspace(0, 100, 1001)\n",
    "K = 2.0*1.5*0.6\n",
    "C = 1.5**2 \n",
    "def reference_signal(time=t):\n",
    "    _uc = np.array([1])\n",
    "    for _t in time[1:]:\n",
    "        rat = 2.0*pi*_t/30.0\n",
    "        _uc = np.concatenate((_uc, np.array([sin(rat)>= 0])), axis=0)\n",
    "    return _uc\n",
    "uc=reference_signal()\n",
    "plt.plot(t, reference_signal())\n",
    "plt.show()"
   ]
  },
  {
   "cell_type": "code",
   "execution_count": 53,
   "id": "598cc573",
   "metadata": {},
   "outputs": [
    {
     "data": {
      "text/latex": [
       "$\\displaystyle y = - \\frac{b \\theta_{1} u_{c}}{- b \\theta_{1} + p^{2} + p \\left(a + b \\theta_{2}\\right)}$"
      ],
      "text/plain": [
       "Eq(y, -b*theta_1*u_c/(-b*theta_1 + p**2 + p*(a + b*theta_2)))"
      ]
     },
     "execution_count": 53,
     "metadata": {},
     "output_type": "execute_result"
    }
   ],
   "source": [
    "model_p"
   ]
  },
  {
   "cell_type": "code",
   "execution_count": 31,
   "id": "335d0ffa",
   "metadata": {},
   "outputs": [
    {
     "data": {
      "image/png": "[encoded data removed]",
      "text/plain": [
       "<Figure size 432x288 with 1 Axes>"
      ]
     },
     "metadata": {
      "needs_background": "light"
     },
     "output_type": "display_data"
    }
   ],
   "source": [
    "def model_response(init_m, t):  # init = [0: ym, 1: ym']       \n",
    "    global C, K\n",
    "    \n",
    "    # Initial conditions \n",
    "    ym, ym_prime, ym_pprime = init_m[0], init_m[1], init_m[2]\n",
    "    \n",
    "    uc = sin(2.0*pi*t/30.0) >= 0\n",
    "    \n",
    "    # This block calculates ym and ym'\n",
    "    dym_dt = ym_prime\n",
    "    d2ym_dt2 = -K*dym_dt - C*ym + C*uc\n",
    "    d3ym_dt3 = -K*d2ym_dt2 - C*d2ym_dt2 + C*uc\n",
    "    \n",
    "    return [dym_dt, d2ym_dt2, d3ym_dt3]\n",
    "\n",
    "init_m = np.array([0, 0, 0])\n",
    "model_sol = odeint(model_response, init_m, t)\n",
    "ym, dym_dt, d2ym_dt2 = model_sol[:,0], model_sol[:,1], model_sol[:,2]\n",
    "plt.plot(t, ym)\n",
    "plt.plot(t, dym_dt)\n",
    "# plt.plot(t, d2ym_dt2)\n",
    "plt.legend(['$y_m$', '$\\dot{y}_m$'])\n",
    "plt.show()"
   ]
  },
  {
   "cell_type": "code",
   "execution_count": 74,
   "id": "52931907",
   "metadata": {},
   "outputs": [
    {
     "data": {
      "image/png": "[encoded data removed]",
      "text/plain": [
       "<Figure size 432x288 with 1 Axes>"
      ]
     },
     "metadata": {
      "needs_background": "light"
     },
     "output_type": "display_data"
    },
    {
     "data": {
      "image/png": "[encoded data removed]",
      "text/plain": [
       "<Figure size 432x288 with 1 Axes>"
      ]
     },
     "metadata": {
      "needs_background": "light"
     },
     "output_type": "display_data"
    }
   ],
   "source": [
    "d2ym_dt2_arr = np.array([0])\n",
    "def parameters(init, t):\n",
    "    global C, K, d2ym_dt2_arr\n",
    "    gamma = 1\n",
    "    \n",
    "    # Initial conditions\n",
    "    ym, ym_prime = init[0], init[1]\n",
    "    y, y_prime = init[2], init[3]\n",
    "    theta1, theta1_p, theta1_pp = init[4], init[5], init[6]\n",
    "    theta2, theta2_p, theta2_pp = init[7], init[8], init[9]\n",
    "    \n",
    "    uc = float(sin(2.0*pi*t/30.0) >= 0)\n",
    "    \n",
    "    # ym calculation\n",
    "    dym_dt = ym_prime\n",
    "    d2ym_dt2 = -K*dym_dt - C*ym + C*uc\n",
    "    \n",
    "    # y calculation\n",
    "    dy_dt = y_prime\n",
    "    d2y_dt2 = -(3 + theta2)*dy_dt + theta1*(y + uc)\n",
    "    e = y-ym\n",
    "\n",
    "    # Theta1 calculation\n",
    "    M = gamma*e*(K*dym_dt + d2ym_dt2)\n",
    "#     M = 0.8\n",
    "    dth1_dt = theta1_p\n",
    "    d2th1_dt2 = theta1_pp\n",
    "    d3th1_dt3 = -K*d2th1_dt2 -C*dth1_dt + M/C\n",
    "    \n",
    "    # Theta2 calculation\n",
    "    N = gamma*e*dym_dt\n",
    "    dth2_dt = theta2_p\n",
    "    d2th2_dt2 = theta1_pp\n",
    "    d3th2_dt3 = -K*d2th2_dt2 - C*dth2_dt + N\n",
    "    \n",
    "    return [dym_dt, d2ym_dt2, dy_dt, d2y_dt2, dth1_dt, d2th1_dt2, d3th1_dt3, dth2_dt, d2th2_dt2, d3th2_dt3]\n",
    "\n",
    "init = np.zeros(10,)\n",
    "params_sol = odeint(parameters, init, t)\n",
    "plt.plot(t, params_sol[:, 0])\n",
    "plt.plot(t, params_sol[:, 1])\n",
    "\n",
    "plt.show()\n",
    "plt.plot(t, params_sol[:, 5])\n",
    "plt.plot(t, params_sol[:, 8], '--')\n",
    "plt.show()"
   ]
  },
  {
   "cell_type": "code",
   "execution_count": null,
   "id": "a1e46335",
   "metadata": {},
   "outputs": [],
   "source": []
  },
  {
   "cell_type": "code",
   "execution_count": null,
   "id": "adbd7c85",
   "metadata": {},
   "outputs": [],
   "source": []
  },
  {
   "cell_type": "code",
   "execution_count": null,
   "id": "bdc401ef",
   "metadata": {},
   "outputs": [],
   "source": []
  },
  {
   "cell_type": "code",
   "execution_count": null,
   "id": "c74a10b3",
   "metadata": {},
   "outputs": [],
   "source": []
  },
  {
   "cell_type": "code",
   "execution_count": null,
   "id": "af2f9e39",
   "metadata": {},
   "outputs": [],
   "source": []
  },
  {
   "cell_type": "code",
   "execution_count": null,
   "id": "57e3c981",
   "metadata": {},
   "outputs": [],
   "source": []
  },
  {
   "cell_type": "code",
   "execution_count": null,
   "id": "07b9a0c8",
   "metadata": {},
   "outputs": [],
   "source": []
  },
  {
   "cell_type": "code",
   "execution_count": null,
   "id": "5edd82de",
   "metadata": {},
   "outputs": [],
   "source": []
  },
  {
   "cell_type": "code",
   "execution_count": null,
   "id": "bb2acce2",
   "metadata": {},
   "outputs": [],
   "source": []
  },
  {
   "cell_type": "code",
   "execution_count": null,
   "id": "b6682b15",
   "metadata": {},
   "outputs": [],
   "source": []
  },
  {
   "cell_type": "code",
   "execution_count": null,
   "id": "ea7323b4",
   "metadata": {},
   "outputs": [],
   "source": []
  },
  {
   "cell_type": "markdown",
   "id": "e7c60a6c",
   "metadata": {},
   "source": [
    "## Question 2: Lyapunov Method"
   ]
  },
  {
   "cell_type": "code",
   "execution_count": null,
   "id": "6f12c0cd",
   "metadata": {},
   "outputs": [],
   "source": []
  },
  {
   "cell_type": "code",
   "execution_count": null,
   "id": "1e6f9a29",
   "metadata": {},
   "outputs": [],
   "source": []
  },
  {
   "cell_type": "code",
   "execution_count": null,
   "id": "126fb980",
   "metadata": {},
   "outputs": [],
   "source": []
  },
  {
   "cell_type": "code",
   "execution_count": null,
   "id": "e3070d86",
   "metadata": {},
   "outputs": [],
   "source": []
  },
  {
   "cell_type": "code",
   "execution_count": null,
   "id": "641b5ade",
   "metadata": {},
   "outputs": [],
   "source": []
  },
  {
   "cell_type": "code",
   "execution_count": null,
   "id": "454bafbf",
   "metadata": {},
   "outputs": [],
   "source": []
  },
  {
   "cell_type": "code",
   "execution_count": null,
   "id": "4039f8ea",
   "metadata": {},
   "outputs": [],
   "source": []
  },
  {
   "cell_type": "code",
   "execution_count": null,
   "id": "94bdc91d",
   "metadata": {},
   "outputs": [],
   "source": []
  },
  {
   "cell_type": "code",
   "execution_count": null,
   "id": "29db4599",
   "metadata": {},
   "outputs": [],
   "source": []
  },
  {
   "cell_type": "code",
   "execution_count": null,
   "id": "33141335",
   "metadata": {},
   "outputs": [],
   "source": []
  },
  {
   "cell_type": "code",
   "execution_count": null,
   "id": "99d10ab0",
   "metadata": {},
   "outputs": [],
   "source": []
  }
 ],
 "metadata": {
  "kernelspec": {
   "display_name": "Python 3 (ipykernel)",
   "language": "python",
   "name": "python3"
  },
  "language_info": {
   "codemirror_mode": {
    "name": "ipython",
    "version": 3
   },
   "file_extension": ".py",
   "mimetype": "text/x-python",
   "name": "python",
   "nbconvert_exporter": "python",
   "pygments_lexer": "ipython3",
   "version": "3.8.10"
  }
 },
 "nbformat": 4,
 "nbformat_minor": 5
}
