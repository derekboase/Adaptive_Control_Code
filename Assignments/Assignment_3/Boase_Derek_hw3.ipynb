{
 "cells": [
  {
   "cell_type": "markdown",
   "id": "f23cf75a",
   "metadata": {},
   "source": [
    "# ELG7113 Machine Learning for Adaptive and Intelligent Control Systems\n",
    "\n",
    "Student: Derek Boase\n",
    "\n",
    "Std Num: 300043860\n",
    "\n",
    "e-mail: dboas065@uottawa.ca\n",
    "\n",
    "assignment GitHub: git@github.com:derekboase/Adaptive_Control_Code.git"
   ]
  },
  {
   "cell_type": "code",
   "execution_count": 9,
   "id": "62611631",
   "metadata": {},
   "outputs": [],
   "source": [
    "import sympy as sp\n",
    "from sympy.abc import p, omega, zeta"
   ]
  },
  {
   "cell_type": "markdown",
   "id": "d3e88fc1",
   "metadata": {},
   "source": [
    "## Question 1: MIT Rule"
   ]
  },
  {
   "cell_type": "code",
   "execution_count": 17,
   "id": "dfae2ab0",
   "metadata": {},
   "outputs": [],
   "source": [
    "y, ydot, yddot, u, uc = sp.symbols('y,\\dot{y},\\ddot{y},u,u_c')\n",
    "theta_1, theta_2 = sp.symbols('theta_1,theta_2')\n",
    "a,b,am,bm = sp.symbols('a,b,a_m,b_m')\n",
    "\n",
    "Gm = omega**2/(p**2 + 2*zeta*omega*p + omega**2)\n",
    "u_eq = theta_1*(y - uc) - theta_2*ydot"
   ]
  },
  {
   "cell_type": "code",
   "execution_count": 20,
   "id": "4c485706",
   "metadata": {},
   "outputs": [
    {
     "data": {
      "text/latex": [
       "$\\displaystyle \\ddot{y} = - \\dot{y} a + b u$"
      ],
      "text/plain": [
       "Eq(\\ddot{y}, -\\dot{y}*a + b*u)"
      ]
     },
     "execution_count": 20,
     "metadata": {},
     "output_type": "execute_result"
    }
   ],
   "source": [
    "model = sp.Eq(yddot, -a*ydot + b*u)\n",
    "model"
   ]
  },
  {
   "cell_type": "code",
   "execution_count": 34,
   "id": "d0363036",
   "metadata": {},
   "outputs": [
    {
     "data": {
      "text/latex": [
       "$\\displaystyle - \\ddot{y} - \\dot{y} a - \\dot{y} b \\theta_{2} + b \\theta_{1} y$"
      ],
      "text/plain": [
       "-\\ddot{y} - \\dot{y}*a - \\dot{y}*b*theta_2 + b*theta_1*y"
      ]
     },
     "execution_count": 34,
     "metadata": {},
     "output_type": "execute_result"
    }
   ],
   "source": [
    "model_u_sub = model.subs(u, u_eq)\n",
    "sp.solve(sp.expand(model_u_sub), b*theta_1*uc)[0]"
   ]
  },
  {
   "cell_type": "code",
   "execution_count": null,
   "id": "b0ff35da",
   "metadata": {},
   "outputs": [],
   "source": []
  }
 ],
 "metadata": {
  "kernelspec": {
   "display_name": "Python 3",
   "language": "python",
   "name": "python3"
  },
  "language_info": {
   "codemirror_mode": {
    "name": "ipython",
    "version": 3
   },
   "file_extension": ".py",
   "mimetype": "text/x-python",
   "name": "python",
   "nbconvert_exporter": "python",
   "pygments_lexer": "ipython3",
   "version": "3.8.8"
  }
 },
 "nbformat": 4,
 "nbformat_minor": 5
}
