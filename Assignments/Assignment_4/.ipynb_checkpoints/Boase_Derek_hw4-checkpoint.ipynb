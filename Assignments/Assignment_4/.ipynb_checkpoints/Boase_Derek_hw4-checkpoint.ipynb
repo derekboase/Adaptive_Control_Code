{
 "cells": [
  {
   "cell_type": "markdown",
   "id": "4b8ab455",
   "metadata": {},
   "source": [
    "# ELG7113 Machine Learning for Adaptive and Intelligent Control Systems\n",
    "\n",
    "Student: Derek Boase\n",
    "\n",
    "Std Num: 300043860\n",
    "\n",
    "e-mail: dboas065@uottawa.ca\n",
    "\n",
    "assignment GitHub: git@github.com:derekboase/Adaptive_Control_Code.git"
   ]
  },
  {
   "cell_type": "code",
   "execution_count": 1,
   "id": "84469d42",
   "metadata": {},
   "outputs": [],
   "source": [
    "import matplotlib.pyplot as plt\n",
    "import pandas as pd\n",
    "import numpy as np\n",
    "import sympy as sp\n",
    "\n",
    "from sympy.abc import r, alpha\n",
    "from numpy import cos, sin, pi"
   ]
  },
  {
   "cell_type": "markdown",
   "id": "78ded0c0",
   "metadata": {},
   "source": [
    "## Question 1: Optimal Control in Discrete Time"
   ]
  },
  {
   "cell_type": "code",
   "execution_count": 2,
   "id": "b18a1c68",
   "metadata": {},
   "outputs": [],
   "source": [
    "_uk, _lamk, _lamk1, _xk, _xk1, = sp.symbols('u_k,lambda_k,lambda_k+1,x_k,x_k+1')\n",
    "Ham = sp.symbols('H^k')\n",
    "\n",
    "xk1 = _xk * _uk + alpha\n",
    "L = r/2*_uk ** 2\n",
    "\n",
    "H_eq = sp.Eq(Ham, L + _lamk1*xk1)\n",
    "state = sp.Eq(_xk1, sp.diff(H_eq.rhs, _lamk1))\n",
    "costate = sp.Eq(_lamk, sp.diff(H_eq.rhs, _xk))\n",
    "stationarity = sp.Eq(0, sp.diff(H_eq.rhs, _uk)) "
   ]
  },
  {
   "cell_type": "markdown",
   "id": "083dc7e5",
   "metadata": {},
   "source": [
    "### Q1.1 Hamiltonian Derivation"
   ]
  },
  {
   "cell_type": "markdown",
   "id": "3f86654a",
   "metadata": {
    "variables": {
     "H_eq": "$\\displaystyle H^{k} = \\lambda_{k+1} \\left(\\alpha + u_{k} x_{k}\\right) + \\frac{r u_{k}^{2}}{2}$"
    }
   },
   "source": [
    "The Hamiltonian is found by implementing the equation, \n",
    "\n",
    "$ H^k = L^k(x_k, u_k) + \\lambda_{k+1}f^k(x_k, u_k) $\n",
    "\n",
    "where, \n",
    "\n",
    "$ L^k(x_k, u_k) = \\frac{r}{2} u_k^2 $\n",
    "\n",
    "$ f^k(x_k, u_k) = x_ku_k + \\alpha $\n",
    "\n",
    "Then, \n",
    "\n",
    "{{H_eq}}"
   ]
  },
  {
   "cell_type": "code",
   "execution_count": 3,
   "id": "87ea5c0b",
   "metadata": {},
   "outputs": [
    {
     "data": {
      "text/latex": [
       "$\\displaystyle x_{k+1} = \\alpha + u_{k} x_{k}$"
      ],
      "text/plain": [
       "Eq(x_k+1, alpha + u_k*x_k)"
      ]
     },
     "execution_count": 3,
     "metadata": {},
     "output_type": "execute_result"
    }
   ],
   "source": [
    "state"
   ]
  },
  {
   "cell_type": "code",
   "execution_count": 4,
   "id": "cfdb3d3d",
   "metadata": {},
   "outputs": [
    {
     "data": {
      "text/latex": [
       "$\\displaystyle \\lambda_{k} = \\lambda_{k+1} u_{k}$"
      ],
      "text/plain": [
       "Eq(lambda_k, lambda_k+1*u_k)"
      ]
     },
     "execution_count": 4,
     "metadata": {},
     "output_type": "execute_result"
    }
   ],
   "source": [
    "costate"
   ]
  },
  {
   "cell_type": "code",
   "execution_count": 5,
   "id": "eaa1b633",
   "metadata": {},
   "outputs": [
    {
     "data": {
      "text/latex": [
       "$\\displaystyle 0 = \\lambda_{k+1} x_{k} + r u_{k}$"
      ],
      "text/plain": [
       "Eq(0, lambda_k+1*x_k + r*u_k)"
      ]
     },
     "execution_count": 5,
     "metadata": {},
     "output_type": "execute_result"
    }
   ],
   "source": [
    "stationarity"
   ]
  },
  {
   "cell_type": "markdown",
   "id": "72b1b5eb",
   "metadata": {},
   "source": [
    "### Q1.2 Elimination of $u_k$"
   ]
  },
  {
   "cell_type": "code",
   "execution_count": 6,
   "id": "dd30fdd7",
   "metadata": {},
   "outputs": [],
   "source": [
    "uk = sp.solve(stationarity, _uk)[0]"
   ]
  },
  {
   "cell_type": "code",
   "execution_count": 7,
   "id": "e46fcfa7",
   "metadata": {},
   "outputs": [
    {
     "data": {
      "text/latex": [
       "$\\displaystyle x_{k+1} = \\alpha - \\frac{\\lambda_{k+1} x_{k}^{2}}{r}$"
      ],
      "text/plain": [
       "Eq(x_k+1, alpha - lambda_k+1*x_k**2/r)"
      ]
     },
     "execution_count": 7,
     "metadata": {},
     "output_type": "execute_result"
    }
   ],
   "source": [
    "state_subs = state.subs(_uk, uk)\n",
    "state_subs"
   ]
  },
  {
   "cell_type": "code",
   "execution_count": 8,
   "id": "d7723a6b",
   "metadata": {},
   "outputs": [
    {
     "data": {
      "text/latex": [
       "$\\displaystyle \\lambda_{k} = - \\frac{\\lambda_{k+1}^{2} x_{k}}{r}$"
      ],
      "text/plain": [
       "Eq(lambda_k, -lambda_k+1**2*x_k/r)"
      ]
     },
     "execution_count": 8,
     "metadata": {},
     "output_type": "execute_result"
    }
   ],
   "source": [
    "costate_subs = costate.subs(_uk, uk)\n",
    "costate_subs"
   ]
  },
  {
   "cell_type": "markdown",
   "id": "fd7bddc7",
   "metadata": {},
   "source": [
    "### Q1.3 Characteristic Equation"
   ]
  },
  {
   "cell_type": "code",
   "execution_count": 9,
   "id": "4d8c26a0",
   "metadata": {},
   "outputs": [
    {
     "data": {
      "text/latex": [
       "$\\displaystyle - \\alpha \\lambda_{2} r^{3} + \\lambda_{2}^{4} x_{0}^{4} - 2 \\lambda_{2}^{2} r^{2} x_{0}^{2} + r^{4} = 0$"
      ],
      "text/plain": [
       "Eq(-alpha*lambda_2*r**3 + lambda_2**4*x_0**4 - 2*lambda_2**2*r**2*x_0**2 + r**4, 0)"
      ]
     },
     "execution_count": 9,
     "metadata": {},
     "output_type": "execute_result"
    }
   ],
   "source": [
    "_x0, _x1, _x2, _lam0, _lam1, _lam2 = sp.symbols('x_0,x_1,x_2,lambda_0,lambda_1,lambda_2')\n",
    "\n",
    "x1 = state_subs.subs([(_xk1, _x1),\n",
    "                      (_lamk1, _lam1),\n",
    "                      (_xk, _x0)])\n",
    "\n",
    "lam1 = costate_subs.subs([(_lamk, _lam1),\n",
    "                          (_lamk1, _lam2),\n",
    "                          (_xk, _x1)])\n",
    "\n",
    "x1_lam2 = sp.Eq(_x1, sp.solve(x1.subs(_lam1, lam1.rhs), _x1)[0])\n",
    "\n",
    "x2 = state_subs.subs([(_xk1, _x2),\n",
    "                      (_lamk1, _lam2),\n",
    "                      (_xk, _x1)])\n",
    "x2_x1 = sp.simplify(sp.expand(x2.subs([(_x1, x1_lam2.rhs), (_x2, 0)])))\n",
    "num, denum = sp.fraction(x2_x1.lhs)\n",
    "characteristic = sp.Eq(sp.simplify(sp.expand(num))/alpha, 0)\n",
    "characteristic"
   ]
  },
  {
   "cell_type": "markdown",
   "id": "1869fde9",
   "metadata": {},
   "source": [
    "### Q1.4 Optimal Stragety"
   ]
  },
  {
   "cell_type": "code",
   "execution_count": 10,
   "id": "c2bd2589",
   "metadata": {},
   "outputs": [],
   "source": [
    "_u0star, _u1star, _x0star, _x1star, _x2star = sp.symbols('u_0{^*},u_1{^*},x_0{^*},x_1{^*},x_2{^*}') \n",
    "sub_vals = [alpha, r, _lam2, _x0]\n",
    "\n",
    "u0star = sp.Eq(_u0star, \n",
    "               sp.simplify(sp.expand(uk.subs([(_lamk1, lam1.rhs),\n",
    "                                              (_xk, _x0),\n",
    "                                              (_x1, x1_lam2.rhs)]))))\n",
    "u0star_func = sp.lambdify(sub_vals, u0star.rhs)\n",
    "\n",
    "u1star = sp.Eq(_u1star, \n",
    "\n",
    "               sp.simplify(sp.expand(uk.subs([(_lamk1, _lam2),\n",
    "                                              (_xk, x1_lam2.rhs)]))))\n",
    "u1star_func = sp.lambdify(sub_vals, u1star.rhs)\n",
    "\n",
    "x0star = sp.Eq(_x0star, _x0)\n",
    "x0star_func = sp.lambdify(sub_vals, x0star.rhs)\n",
    "\n",
    "x1star = sp.Eq(_x1star, x1_lam2.rhs)\n",
    "x1star_func = sp.lambdify(sub_vals, x1star.rhs)\n",
    "\n",
    "x2star = sp.Eq(_x2star, 0)\n",
    "x2star_func = sp.lambdify(sub_vals, x2star.rhs)"
   ]
  },
  {
   "cell_type": "markdown",
   "id": "b8b74b78",
   "metadata": {},
   "source": [
    "### Q1.5 Implementation  "
   ]
  },
  {
   "cell_type": "code",
   "execution_count": 11,
   "id": "2e01b06f",
   "metadata": {},
   "outputs": [],
   "source": [
    "vals = [(alpha, 2), (r, 1), (_x0, 1.5)]\n",
    "char_subs = characteristic.subs(vals)\n",
    "char_subs_poly = sp.Poly(char_subs, _lam2)\n",
    "char_coeffs = char_subs_poly.coeffs()\n",
    "char_coeffs.insert(1, 0.0)\n",
    "sols = np.roots(char_coeffs)\n",
    "\n",
    "optimal = []\n",
    "for idx in [2, 3]:\n",
    "    optimal.append([u0star_func(2, 1, np.real(sols[idx]), 1.5),\n",
    "                    u1star_func(2, 1, np.real(sols[idx]), 1.5),\n",
    "                    x0star_func(2, 1, np.real(sols[idx]), 1.5),\n",
    "                    x1star_func(2, 1, np.real(sols[idx]), 1.5),\n",
    "                    x2star_func(2, 1, np.real(sols[idx]), 1.5)])\n",
    "optimal = np.array(optimal).T"
   ]
  },
  {
   "cell_type": "code",
   "execution_count": 12,
   "id": "d0faa475",
   "metadata": {},
   "outputs": [
    {
     "data": {
      "text/html": [
       "<div>\n",
       "<style scoped>\n",
       "    .dataframe tbody tr th:only-of-type {\n",
       "        vertical-align: middle;\n",
       "    }\n",
       "\n",
       "    .dataframe tbody tr th {\n",
       "        vertical-align: top;\n",
       "    }\n",
       "\n",
       "    .dataframe thead th {\n",
       "        text-align: right;\n",
       "    }\n",
       "</style>\n",
       "<table border=\"1\" class=\"dataframe\">\n",
       "  <thead>\n",
       "    <tr style=\"text-align: right;\">\n",
       "      <th></th>\n",
       "      <th>$\\lambda_2$ = 1.0422</th>\n",
       "      <th>$\\lambda_2$ = 0.3086</th>\n",
       "    </tr>\n",
       "  </thead>\n",
       "  <tbody>\n",
       "    <tr>\n",
       "      <th>$u_0^*$</th>\n",
       "      <td>-2.256875</td>\n",
       "      <td>0.363732</td>\n",
       "    </tr>\n",
       "    <tr>\n",
       "      <th>$u_1^*$</th>\n",
       "      <td>1.443717</td>\n",
       "      <td>-0.785670</td>\n",
       "    </tr>\n",
       "    <tr>\n",
       "      <th>$x_0$</th>\n",
       "      <td>1.500000</td>\n",
       "      <td>1.500000</td>\n",
       "    </tr>\n",
       "    <tr>\n",
       "      <th>$x_1^*$</th>\n",
       "      <td>-1.385313</td>\n",
       "      <td>2.545598</td>\n",
       "    </tr>\n",
       "    <tr>\n",
       "      <th>$x_2$</th>\n",
       "      <td>0.000000</td>\n",
       "      <td>0.000000</td>\n",
       "    </tr>\n",
       "  </tbody>\n",
       "</table>\n",
       "</div>"
      ],
      "text/plain": [
       "         $\\lambda_2$ = 1.0422  $\\lambda_2$ = 0.3086\n",
       "$u_0^*$             -2.256875              0.363732\n",
       "$u_1^*$              1.443717             -0.785670\n",
       "$x_0$                1.500000              1.500000\n",
       "$x_1^*$             -1.385313              2.545598\n",
       "$x_2$                0.000000              0.000000"
      ]
     },
     "execution_count": 12,
     "metadata": {},
     "output_type": "execute_result"
    }
   ],
   "source": [
    "col_names = [f'$\\lambda_2$ = {np.round(np.real(sols[2]), 4)}',\n",
    "             f'$\\lambda_2$ = {np.round(np.real(sols[3]), 4)}']\n",
    "idx_names = ['$u_0^*$', '$u_1^*$', '$x_0$', '$x_1^*$', '$x_2$']\n",
    "\n",
    "answer = pd.DataFrame(optimal, index=idx_names, columns=col_names)\n",
    "answer"
   ]
  },
  {
   "cell_type": "markdown",
   "id": "3e8fd853",
   "metadata": {},
   "source": [
    "Clearly in both cases for the real solutions to the characteristic equation $ x_0 = 1.5 $ and $ x_2 = 0 $, as required"
   ]
  },
  {
   "cell_type": "markdown",
   "id": "e656188e",
   "metadata": {},
   "source": [
    "## Question 2: Dynamic Programming"
   ]
  },
  {
   "cell_type": "code",
   "execution_count": 13,
   "id": "f5ec2cef",
   "metadata": {},
   "outputs": [],
   "source": [
    "import matplotlib.pyplot as plt\n",
    "import pandas as pd\n",
    "import numpy as np\n",
    "import sympy as sp\n",
    "\n",
    "from sympy.abc import r, alpha\n",
    "from numpy import cos, sin, pi"
   ]
  },
  {
   "cell_type": "code",
   "execution_count": 14,
   "id": "1d744f4f",
   "metadata": {},
   "outputs": [
    {
     "data": {
      "text/latex": [
       "$\\displaystyle J_1^{*} = 0.5 \\alpha^{2} + 1.0 \\alpha u_{1} x_{1} + u_{1}^{2} \\left(\\frac{r}{2} + 0.5 x_{1}^{2}\\right)$"
      ],
      "text/plain": [
       "Eq(J_1^{*}, 0.5*alpha**2 + 1.0*alpha*u_1*x_1 + u_1**2*(r/2 + 0.5*x_1**2))"
      ]
     },
     "metadata": {},
     "output_type": "display_data"
    }
   ],
   "source": [
    "syms = 'J_2^{*},J_1^{*},J_0^{*},u_k,u_1,u_0,x_{k},x_{k+1},x_2,x_1,x_0'\n",
    "_J2, _J1, _J0, _uk, _u1, _u0, _xk, _xk1, _x2, _x1, _x0 = sp.symbols(syms)\n",
    "_u0star, _u1star, _x0star, _x1star, _x2star = sp.symbols('u_0{^*},u_1{^*},x_0{^*},x_1{^*},x_2{^*}') \n",
    "\n",
    "xk1_eq = sp.Eq(_xk1, _xk*_uk + alpha)\n",
    "\n",
    "# For k = N = 2\n",
    "J2_eq = sp.Eq(_J2, 1/2*_x2**2)\n",
    "\n",
    "\n",
    "# For k = N-1 = 1\n",
    "J1_eq = sp.Eq(_J1, J2_eq.rhs + r/2*(_u1**2))\n",
    "x2 = (xk1_eq.rhs).subs([(_uk, _u1),\n",
    "                        (_xk, _x1)])\n",
    "J1_subs = sp.Eq(_J1, sp.collect(sp.expand(J1_eq.subs(_x2, x2)).rhs, _u1))\n",
    "J1_diff_eq = sp.diff(J1_subs, _u1)\n",
    "J1_diff = sp.diff(J1_subs.rhs, _u1)\n",
    "u1_star_func = sp.solve(J1_diff, _u1)[0]\n",
    "u1_star_eq = sp.Eq(_u1star, u1_star_func)\n",
    "\n",
    "\n",
    "# For k = N-2 = 0\n",
    "J0_eq = sp.Eq(_J0, sp.collect(J1_eq.rhs + r/2*(_u0**2), r))\n",
    "x1 = (xk1_eq.rhs).subs([(_uk, _u0),\n",
    "                        (_xk, _x0)])\n",
    "# J0_subs = sp.Eq()\n",
    "display(J1_subs)"
   ]
  },
  {
   "cell_type": "code",
   "execution_count": 15,
   "id": "aa9e9869",
   "metadata": {},
   "outputs": [
    {
     "data": {
      "text/latex": [
       "$\\displaystyle J_0^{*} = \\frac{\\alpha^{2}}{2} + \\alpha u_{1} x_{1} + \\frac{r u_{0}^{2}}{2} + \\frac{r u_{1}^{2}}{2} + \\frac{u_{1}^{2} x_{1}^{2}}{2}$"
      ],
      "text/plain": [
       "Eq(J_0^{*}, alpha**2/2 + alpha*u_1*x_1 + r*u_0**2/2 + r*u_1**2/2 + u_1**2*x_1**2/2)"
      ]
     },
     "execution_count": 15,
     "metadata": {},
     "output_type": "execute_result"
    }
   ],
   "source": [
    "J0_test = sp.Eq(_J0, sp.simplify(sp.expand(J1_subs.rhs+ r/2*(_u0)**2)))\n",
    "J0_test"
   ]
  },
  {
   "cell_type": "code",
   "execution_count": 16,
   "id": "9a3101f3",
   "metadata": {},
   "outputs": [
    {
     "data": {
      "text/latex": [
       "$\\displaystyle J_0^{*} = \\frac{- \\alpha^{2} \\left(\\alpha + u_{0} x_{0}\\right)^{2} + \\left(\\alpha^{2} + r u_{0}^{2}\\right) \\left(r + \\left(\\alpha + u_{0} x_{0}\\right)^{2}\\right)}{2 \\left(r + \\left(\\alpha + u_{0} x_{0}\\right)^{2}\\right)}$"
      ],
      "text/plain": [
       "Eq(J_0^{*}, (-alpha**2*(alpha + u_0*x_0)**2 + (alpha**2 + r*u_0**2)*(r + (alpha + u_0*x_0)**2))/(2*(r + (alpha + u_0*x_0)**2)))"
      ]
     },
     "execution_count": 16,
     "metadata": {},
     "output_type": "execute_result"
    }
   ],
   "source": [
    "J0_test = J0_test.subs([(_u1, u1_star_func),\n",
    "                        (_x1, x1)])\n",
    "J0_test = sp.simplify(J0_test)\n",
    "J0_test"
   ]
  },
  {
   "cell_type": "code",
   "execution_count": 17,
   "id": "27b1e94a",
   "metadata": {},
   "outputs": [],
   "source": [
    "J0_diff_test = sp.simplify(sp.diff(J0_test.rhs, _u0))\n",
    "num, denum = sp.fraction(J0_diff_test)\n",
    "titties = sp.collect(sp.expand(num), _u0).subs([(alpha, 2),\n",
    "                                                (r, 1),\n",
    "                                                (_x0, 1.5)])\n",
    "titties_poly = sp.Poly(titties, _u0)\n",
    "coeffs_lst = np.roots(titties_poly.coeffs())\n",
    "vals = []\n",
    "for n in coeffs_lst: \n",
    "    if np.imag(n) == 0 and np.real(n) > 0:\n",
    "        vals.append(np.real(n))       "
   ]
  },
  {
   "cell_type": "code",
   "execution_count": 18,
   "id": "37e9bfa6",
   "metadata": {},
   "outputs": [],
   "source": [
    "r1 = [1, 20]\n",
    "dec = 4\n",
    "sols = []\n",
    "for r_val in r1:\n",
    "    x0_star = sp.Eq(_x0star, 1.5)\n",
    "    u0_star = sp.Eq(_u0star, vals[0])\n",
    "    x1_star = sp.Eq(_x1star, x1.subs([(alpha, 2), (r, r_val), (_x0, x0_star.rhs), (_u0, u0_star.rhs)]))\n",
    "    u1_star = sp.Eq(_u1star, u1_star_func.subs([(alpha, 2), (r, r_val), (_x1, x1_star.rhs)]))\n",
    "    x2_star = sp.Eq(_x2star, x2.subs([(alpha, 2), (r, r_val), (_u1, u1_star.rhs), (_x1, x1_star.rhs)]))\n",
    "    sols.append([u0_star.rhs, u1_star.rhs, x0_star.rhs, x1_star.rhs, x2_star.rhs])\n",
    "ans_lst = np.array(sols).T"
   ]
  },
  {
   "cell_type": "code",
   "execution_count": 19,
   "id": "ef6a82bd",
   "metadata": {},
   "outputs": [
    {
     "data": {
      "text/html": [
       "<div>\n",
       "<style scoped>\n",
       "    .dataframe tbody tr th:only-of-type {\n",
       "        vertical-align: middle;\n",
       "    }\n",
       "\n",
       "    .dataframe tbody tr th {\n",
       "        vertical-align: top;\n",
       "    }\n",
       "\n",
       "    .dataframe thead th {\n",
       "        text-align: right;\n",
       "    }\n",
       "</style>\n",
       "<table border=\"1\" class=\"dataframe\">\n",
       "  <thead>\n",
       "    <tr style=\"text-align: right;\">\n",
       "      <th></th>\n",
       "      <th>$r = 1$</th>\n",
       "      <th>r=20</th>\n",
       "    </tr>\n",
       "  </thead>\n",
       "  <tbody>\n",
       "    <tr>\n",
       "      <th>$u_0^*$</th>\n",
       "      <td>0.299851871344322</td>\n",
       "      <td>0.299851871344322</td>\n",
       "    </tr>\n",
       "    <tr>\n",
       "      <th>$u_1^*$</th>\n",
       "      <td>-0.699795427160291</td>\n",
       "      <td>-0.188434218312075</td>\n",
       "    </tr>\n",
       "    <tr>\n",
       "      <th>$x_0^*$</th>\n",
       "      <td>1.50000000000000</td>\n",
       "      <td>1.50000000000000</td>\n",
       "    </tr>\n",
       "    <tr>\n",
       "      <th>$x_1^*$</th>\n",
       "      <td>2.44977780701648</td>\n",
       "      <td>2.44977780701648</td>\n",
       "    </tr>\n",
       "    <tr>\n",
       "      <th>$x_2^*$</th>\n",
       "      <td>0.285656693091098</td>\n",
       "      <td>1.53837803389658</td>\n",
       "    </tr>\n",
       "  </tbody>\n",
       "</table>\n",
       "</div>"
      ],
      "text/plain": [
       "                    $r = 1$                r=20\n",
       "$u_0^*$   0.299851871344322   0.299851871344322\n",
       "$u_1^*$  -0.699795427160291  -0.188434218312075\n",
       "$x_0^*$    1.50000000000000    1.50000000000000\n",
       "$x_1^*$    2.44977780701648    2.44977780701648\n",
       "$x_2^*$   0.285656693091098    1.53837803389658"
      ]
     },
     "execution_count": 19,
     "metadata": {},
     "output_type": "execute_result"
    }
   ],
   "source": [
    "index_names = ['$u_0^*$', '$u_1^*$', '$x_0^*$', '$x_1^*$', '$x_2^*$']\n",
    "column_names = ['$r = 1$', 'r=20']\n",
    "ans = pd.DataFrame(ans_lst, index=index_names, columns=column_names)\n",
    "ans"
   ]
  },
  {
   "cell_type": "markdown",
   "id": "77a14f57",
   "metadata": {},
   "source": [
    "Here the different is that the magnitude of the second input has been decreased substantially. This is due to the fact that the r value is higher which dampens the system response"
   ]
  },
  {
   "cell_type": "code",
   "execution_count": null,
   "id": "7da256e5",
   "metadata": {},
   "outputs": [],
   "source": []
  }
 ],
 "metadata": {
  "kernelspec": {
   "display_name": "Python 3 (ipykernel)",
   "language": "python",
   "name": "python3"
  },
  "language_info": {
   "codemirror_mode": {
    "name": "ipython",
    "version": 3
   },
   "file_extension": ".py",
   "mimetype": "text/x-python",
   "name": "python",
   "nbconvert_exporter": "python",
   "pygments_lexer": "ipython3",
   "version": "3.8.10"
  }
 },
 "nbformat": 4,
 "nbformat_minor": 5
}
