{
 "cells": [
  {
   "cell_type": "markdown",
   "id": "4b8ab455",
   "metadata": {},
   "source": [
    "# ELG7113 Machine Learning for Adaptive and Intelligent Control Systems\n",
    "\n",
    "Student: Derek Boase\n",
    "\n",
    "Std Num: 300043860\n",
    "\n",
    "e-mail: dboas065@uottawa.ca\n",
    "\n",
    "assignment GitHub: git@github.com:derekboase/Adaptive_Control_Code.git"
   ]
  },
  {
   "cell_type": "code",
   "execution_count": 1,
   "id": "84469d42",
   "metadata": {},
   "outputs": [],
   "source": [
    "import matplotlib.pyplot as plt\n",
    "import pandas as pd\n",
    "import numpy as np\n",
    "import sympy as sp\n",
    "\n",
    "from sympy.abc import r, alpha\n",
    "from numpy import cos, sin, pi"
   ]
  },
  {
   "cell_type": "markdown",
   "id": "78ded0c0",
   "metadata": {},
   "source": [
    "## Question 1: Optimal Control in Discrete Time"
   ]
  },
  {
   "cell_type": "code",
   "execution_count": 2,
   "id": "b18a1c68",
   "metadata": {},
   "outputs": [],
   "source": [
    "_uk, _lamk, _lamk1, _xk, _xk1, = sp.symbols('u_k,lambda_k,lambda_k+1,x_k,x_k+1')\n",
    "Ham = sp.symbols('H^k')\n",
    "\n",
    "xk1 = _xk * _uk + alpha\n",
    "L = r/2*_uk ** 2\n",
    "\n",
    "H_eq = sp.Eq(Ham, L + _lamk1*xk1)\n",
    "state = sp.Eq(_xk1, sp.diff(H_eq.rhs, _lamk1))\n",
    "costate = sp.Eq(_lamk, sp.diff(H_eq.rhs, _xk))\n",
    "stationarity = sp.Eq(0, sp.diff(H_eq.rhs, _uk)) "
   ]
  },
  {
   "cell_type": "markdown",
   "id": "083dc7e5",
   "metadata": {},
   "source": [
    "### Q1.1 Hamiltonian Derivation"
   ]
  },
  {
   "cell_type": "markdown",
   "id": "3f86654a",
   "metadata": {
    "variables": {
     "H_eq": "$\\displaystyle H^{k} = \\lambda_{k+1} \\left(\\alpha + u_{k} x_{k}\\right) + \\frac{r u_{k}^{2}}{2}$"
    }
   },
   "source": [
    "The Hamiltonian is found by implementing the equation, \n",
    "\n",
    "$ H^k = L^k(x_k, u_k) + \\lambda_{k+1}f^k(x_k, u_k) $\n",
    "\n",
    "where, \n",
    "\n",
    "$ L^k(x_k, u_k) = \\frac{r}{2} u_k^2 $\n",
    "\n",
    "$ f^k(x_k, u_k) = x_ku_k + \\alpha $\n",
    "\n",
    "Then, \n",
    "\n",
    "{{H_eq}}"
   ]
  },
  {
   "cell_type": "code",
   "execution_count": 20,
   "id": "87ea5c0b",
   "metadata": {},
   "outputs": [
    {
     "data": {
      "text/latex": [
       "$\\displaystyle x_{k+1} = \\alpha + u_{k} x_{k}$"
      ],
      "text/plain": [
       "Eq(x_k+1, alpha + u_k*x_k)"
      ]
     },
     "execution_count": 20,
     "metadata": {},
     "output_type": "execute_result"
    }
   ],
   "source": [
    "state"
   ]
  },
  {
   "cell_type": "code",
   "execution_count": 4,
   "id": "cfdb3d3d",
   "metadata": {},
   "outputs": [
    {
     "data": {
      "text/latex": [
       "$\\displaystyle \\lambda_{k} = \\lambda_{k+1} u_{k}$"
      ],
      "text/plain": [
       "Eq(lambda_k, lambda_k+1*u_k)"
      ]
     },
     "execution_count": 4,
     "metadata": {},
     "output_type": "execute_result"
    }
   ],
   "source": [
    "costate"
   ]
  },
  {
   "cell_type": "code",
   "execution_count": 5,
   "id": "eaa1b633",
   "metadata": {},
   "outputs": [
    {
     "data": {
      "text/latex": [
       "$\\displaystyle 0 = \\lambda_{k+1} x_{k} + r u_{k}$"
      ],
      "text/plain": [
       "Eq(0, lambda_k+1*x_k + r*u_k)"
      ]
     },
     "execution_count": 5,
     "metadata": {},
     "output_type": "execute_result"
    }
   ],
   "source": [
    "stationarity"
   ]
  },
  {
   "cell_type": "markdown",
   "id": "72b1b5eb",
   "metadata": {},
   "source": [
    "### Q1.2 Elimination of $u_k$"
   ]
  },
  {
   "cell_type": "code",
   "execution_count": 6,
   "id": "dd30fdd7",
   "metadata": {},
   "outputs": [],
   "source": [
    "uk = sp.solve(stationarity, _uk)[0]"
   ]
  },
  {
   "cell_type": "code",
   "execution_count": 7,
   "id": "e46fcfa7",
   "metadata": {},
   "outputs": [
    {
     "data": {
      "text/latex": [
       "$\\displaystyle x_{k+1} = \\alpha - \\frac{\\lambda_{k+1} x_{k}^{2}}{r}$"
      ],
      "text/plain": [
       "Eq(x_k+1, alpha - lambda_k+1*x_k**2/r)"
      ]
     },
     "execution_count": 7,
     "metadata": {},
     "output_type": "execute_result"
    }
   ],
   "source": [
    "state_subs = state.subs(_uk, uk)\n",
    "state_subs"
   ]
  },
  {
   "cell_type": "code",
   "execution_count": 8,
   "id": "d7723a6b",
   "metadata": {},
   "outputs": [
    {
     "data": {
      "text/latex": [
       "$\\displaystyle \\lambda_{k} = - \\frac{\\lambda_{k+1}^{2} x_{k}}{r}$"
      ],
      "text/plain": [
       "Eq(lambda_k, -lambda_k+1**2*x_k/r)"
      ]
     },
     "execution_count": 8,
     "metadata": {},
     "output_type": "execute_result"
    }
   ],
   "source": [
    "costate_subs = costate.subs(_uk, uk)\n",
    "costate_subs"
   ]
  },
  {
   "cell_type": "markdown",
   "id": "fd7bddc7",
   "metadata": {},
   "source": [
    "### Q1.3 Characteristic Equation"
   ]
  },
  {
   "cell_type": "code",
   "execution_count": 9,
   "id": "4d8c26a0",
   "metadata": {},
   "outputs": [],
   "source": [
    "_x0, _x1, _x2, _lam0, _lam1, _lam2 = sp.symbols('x_0,x_1,x_2,lambda_0,lambda_1,lambda_2')\n",
    "\n",
    "x1 = state_subs.subs([(_xk1, _x1),\n",
    "                      (_lamk1, _lam1),\n",
    "                      (_xk, _x0)])\n",
    "\n",
    "lam1 = costate_subs.subs([(_lamk, _lam1),\n",
    "                          (_lamk1, _lam2),\n",
    "                          (_xk, _x1)])\n",
    "\n",
    "x1_lam2 = sp.Eq(_x1, sp.solve(x1.subs(_lam1, lam1.rhs), _x1)[0])\n",
    "\n",
    "x2 = state_subs.subs([(_xk1, _x2),\n",
    "                      (_lamk1, _lam2),\n",
    "                      (_xk, _x1)])\n",
    "x2_x1 = sp.simplify(sp.expand(x2.subs([(_x1, x1_lam2.rhs), (_x2, 0)])))\n",
    "num, denum = sp.fraction(x2_x1.lhs)\n",
    "characteristic = sp.Eq(sp.simplify(sp.expand(num))/alpha, 0)\n",
    "characteristic"
   ]
  },
  {
   "cell_type": "markdown",
   "id": "1869fde9",
   "metadata": {},
   "source": [
    "### Q1.4 Optimal Stragety"
   ]
  },
  {
   "cell_type": "code",
   "execution_count": 12,
   "id": "c2bd2589",
   "metadata": {},
   "outputs": [],
   "source": [
    "_u0star, _u1star, _x0star, _x1star, _x2star = sp.symbols('u_0{^*},u_1{^*},x_0{^*},x_1{^*},x_2{^*}') \n",
    "sub_vals = [alpha, r, _lam2, _x0]\n",
    "\n",
    "u0star = sp.Eq(_u0star, \n",
    "               sp.simplify(sp.expand(uk.subs([(_lamk1, lam1.rhs),\n",
    "                                              (_xk, _x0),\n",
    "                                              (_x1, x1_lam2.rhs)]))))\n",
    "u0star_func = sp.lambdify(sub_vals, u0star.rhs)\n",
    "\n",
    "u1star = sp.Eq(_u1star, \n",
    "\n",
    "               sp.simplify(sp.expand(uk.subs([(_lamk1, _lam2),\n",
    "                                              (_xk, x1_lam2.rhs)]))))\n",
    "u1star_func = sp.lambdify(sub_vals, u1star.rhs)\n",
    "\n",
    "x0star = sp.Eq(_x0star, _x0)\n",
    "x0star_func = sp.lambdify(sub_vals, x0star.rhs)\n",
    "\n",
    "x1star = sp.Eq(_x1star, x1_lam2.rhs)\n",
    "x1star_func = sp.lambdify(sub_vals, x1star.rhs)\n",
    "\n",
    "x2star = sp.Eq(_x2star, 0)\n",
    "x2star_func = sp.lambdify(sub_vals, x2star.rhs)"
   ]
  },
  {
   "cell_type": "markdown",
   "id": "b8b74b78",
   "metadata": {},
   "source": [
    "### Q1.5 Implementation  "
   ]
  },
  {
   "cell_type": "code",
   "execution_count": 18,
   "id": "2e01b06f",
   "metadata": {},
   "outputs": [],
   "source": [
    "vals = [(alpha, 2), (r, 1), (_x0, 1.5)]\n",
    "char_subs = characteristic.subs(vals)\n",
    "char_subs_poly = sp.Poly(char_subs, _lam2)\n",
    "char_coeffs = char_subs_poly.coeffs()\n",
    "char_coeffs.insert(1, 0.0)\n",
    "sols = np.roots(char_coeffs)\n",
    "\n",
    "optimal = []\n",
    "for idx in [2, 3]:\n",
    "    optimal.append([u0star_func(2, 1, np.real(sols[idx]), 1.5),\n",
    "                    u1star_func(2, 1, np.real(sols[idx]), 1.5),\n",
    "                    x0star_func(2, 1, np.real(sols[idx]), 1.5),\n",
    "                    x1star_func(2, 1, np.real(sols[idx]), 1.5),\n",
    "                    x2star_func(2, 1, np.real(sols[idx]), 1.5)])\n",
    "optimal = np.array(optimal).T"
   ]
  },
  {
   "cell_type": "code",
   "execution_count": 19,
   "id": "d0faa475",
   "metadata": {},
   "outputs": [
    {
     "data": {
      "text/html": [
       "<div>\n",
       "<style scoped>\n",
       "    .dataframe tbody tr th:only-of-type {\n",
       "        vertical-align: middle;\n",
       "    }\n",
       "\n",
       "    .dataframe tbody tr th {\n",
       "        vertical-align: top;\n",
       "    }\n",
       "\n",
       "    .dataframe thead th {\n",
       "        text-align: right;\n",
       "    }\n",
       "</style>\n",
       "<table border=\"1\" class=\"dataframe\">\n",
       "  <thead>\n",
       "    <tr style=\"text-align: right;\">\n",
       "      <th></th>\n",
       "      <th>$\\lambda_2$ = 1.0422</th>\n",
       "      <th>$\\lambda_2$ = 0.3086</th>\n",
       "    </tr>\n",
       "  </thead>\n",
       "  <tbody>\n",
       "    <tr>\n",
       "      <th>$u_0^*$</th>\n",
       "      <td>-2.256875</td>\n",
       "      <td>0.363732</td>\n",
       "    </tr>\n",
       "    <tr>\n",
       "      <th>$u_1^*$</th>\n",
       "      <td>1.443717</td>\n",
       "      <td>-0.785670</td>\n",
       "    </tr>\n",
       "    <tr>\n",
       "      <th>$x_0$</th>\n",
       "      <td>1.500000</td>\n",
       "      <td>1.500000</td>\n",
       "    </tr>\n",
       "    <tr>\n",
       "      <th>$x_1^*$</th>\n",
       "      <td>-1.385313</td>\n",
       "      <td>2.545598</td>\n",
       "    </tr>\n",
       "    <tr>\n",
       "      <th>$x_2$</th>\n",
       "      <td>0.000000</td>\n",
       "      <td>0.000000</td>\n",
       "    </tr>\n",
       "  </tbody>\n",
       "</table>\n",
       "</div>"
      ],
      "text/plain": [
       "         $\\lambda_2$ = 1.0422  $\\lambda_2$ = 0.3086\n",
       "$u_0^*$             -2.256875              0.363732\n",
       "$u_1^*$              1.443717             -0.785670\n",
       "$x_0$                1.500000              1.500000\n",
       "$x_1^*$             -1.385313              2.545598\n",
       "$x_2$                0.000000              0.000000"
      ]
     },
     "execution_count": 19,
     "metadata": {},
     "output_type": "execute_result"
    }
   ],
   "source": [
    "col_names = [f'$\\lambda_2$ = {np.round(np.real(sols[2]), 4)}',\n",
    "             f'$\\lambda_2$ = {np.round(np.real(sols[3]), 4)}']\n",
    "idx_names = ['$u_0^*$', '$u_1^*$', '$x_0$', '$x_1^*$', '$x_2$']\n",
    "\n",
    "answer = pd.DataFrame(optimal, index=idx_names, columns=col_names)\n",
    "answer"
   ]
  },
  {
   "cell_type": "markdown",
   "id": "3e8fd853",
   "metadata": {},
   "source": [
    "Clearly in both cases for the real solutions to the characteristic equation $ x_0 = 1.5 $ and $ x_2 = 0 $, as required"
   ]
  },
  {
   "cell_type": "markdown",
   "id": "e656188e",
   "metadata": {},
   "source": [
    "## Question 2: Dynamic Programming"
   ]
  },
  {
   "cell_type": "code",
   "execution_count": null,
   "id": "f5ec2cef",
   "metadata": {},
   "outputs": [],
   "source": []
  },
  {
   "cell_type": "code",
   "execution_count": null,
   "id": "1d744f4f",
   "metadata": {},
   "outputs": [],
   "source": []
  },
  {
   "cell_type": "code",
   "execution_count": null,
   "id": "16acebbb",
   "metadata": {},
   "outputs": [],
   "source": []
  },
  {
   "cell_type": "code",
   "execution_count": null,
   "id": "691bb7a8",
   "metadata": {},
   "outputs": [],
   "source": []
  },
  {
   "cell_type": "code",
   "execution_count": null,
   "id": "aa9e9869",
   "metadata": {},
   "outputs": [],
   "source": []
  },
  {
   "cell_type": "code",
   "execution_count": null,
   "id": "de3b5eb1",
   "metadata": {},
   "outputs": [],
   "source": []
  }
 ],
 "metadata": {
  "kernelspec": {
   "display_name": "Python 3 (ipykernel)",
   "language": "python",
   "name": "python3"
  },
  "language_info": {
   "codemirror_mode": {
    "name": "ipython",
    "version": 3
   },
   "file_extension": ".py",
   "mimetype": "text/x-python",
   "name": "python",
   "nbconvert_exporter": "python",
   "pygments_lexer": "ipython3",
   "version": "3.9.7"
  }
 },
 "nbformat": 4,
 "nbformat_minor": 5
}
