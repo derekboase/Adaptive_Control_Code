{
 "cells": [
  {
   "cell_type": "code",
   "execution_count": 1,
   "id": "426ef294",
   "metadata": {},
   "outputs": [],
   "source": [
    "import matplotlib.pyplot as plt\n",
    "import pandas as pd\n",
    "import numpy as np\n",
    "\n",
    "from numpy import transpose as trans\n",
    "from numpy.linalg import inv\n",
    "\n",
    "np.set_printoptions(suppress=True)"
   ]
  },
  {
   "cell_type": "markdown",
   "id": "ca922b26",
   "metadata": {},
   "source": [
    "# Question 1"
   ]
  },
  {
   "cell_type": "markdown",
   "id": "f0edf4ab",
   "metadata": {},
   "source": [
    "Importing the raw data into a dataframe so that it can be visualized  "
   ]
  },
  {
   "cell_type": "code",
   "execution_count": 2,
   "id": "8eb7b0b3",
   "metadata": {},
   "outputs": [],
   "source": [
    "# data = pd.read_csv('dataHw1.csv', header=None, names=['t', 'val'], index_col='t')\n",
    "data = pd.read_csv('dataHw1.csv', header=None).to_numpy()\n",
    "time = data[:,[0]]\n",
    "vals = data[:,[1]]"
   ]
  },
  {
   "cell_type": "code",
   "execution_count": 3,
   "id": "ee0f899e",
   "metadata": {},
   "outputs": [],
   "source": [
    "time -= 1  # Assume the the variable t starts from 0\n"
   ]
  },
  {
   "cell_type": "markdown",
   "id": "f4221428",
   "metadata": {},
   "source": [
    "Plotting the data to get an idea of what it looks like"
   ]
  },
  {
   "cell_type": "code",
   "execution_count": 4,
   "id": "f9729d8d",
   "metadata": {},
   "outputs": [
    {
     "data": {
      "image/png": "[encoded data removed]",
      "text/plain": [
       "<Figure size 432x288 with 1 Axes>"
      ]
     },
     "metadata": {
      "needs_background": "light"
     },
     "output_type": "display_data"
    }
   ],
   "source": [
    "plt.figure(1)\n",
    "plt.scatter(time, vals)\n",
    "plt.title('Raw data')\n",
    "plt.xlabel('Time Index, t')\n",
    "plt.ylabel('Value, y')\n",
    "plt.show()"
   ]
  },
  {
   "cell_type": "markdown",
   "id": "d4c72884",
   "metadata": {},
   "source": [
    "## 1a) "
   ]
  },
  {
   "cell_type": "code",
   "execution_count": 5,
   "id": "846f3c96",
   "metadata": {},
   "outputs": [],
   "source": [
    "def theta_hat(Phi, targets=vals):\n",
    "    P = inv(trans(Phi) @ Phi)\n",
    "    row, col = Phi.shape\n",
    "    temp = np.zeros((col, 1))\n",
    "    for phi, y in zip(Phi, targets):\n",
    "        temp += np.array([trans(phi).reshape(-1,1) @ y]).reshape(-1, 1)\n",
    "        \n",
    "#     print((inv(trans(Phi) @ Phi)) @ (trans(Phi) @ targets))  # Used to test the equations\n",
    "    return P @ temp"
   ]
  },
  {
   "cell_type": "code",
   "execution_count": 6,
   "id": "122fce35",
   "metadata": {},
   "outputs": [
    {
     "data": {
      "text/plain": [
       "array([[    1.,     0.,     0.,     0.,     0.],\n",
       "       [    1.,     1.,     1.,     1.,     1.],\n",
       "       [    1.,     2.,     4.,     8.,    16.],\n",
       "       [    1.,     3.,     9.,    27.,    81.],\n",
       "       [    1.,     4.,    16.,    64.,   256.],\n",
       "       [    1.,     5.,    25.,   125.,   625.],\n",
       "       [    1.,     6.,    36.,   216.,  1296.],\n",
       "       [    1.,     7.,    49.,   343.,  2401.],\n",
       "       [    1.,     8.,    64.,   512.,  4096.],\n",
       "       [    1.,     9.,    81.,   729.,  6561.],\n",
       "       [    1.,    10.,   100.,  1000., 10000.],\n",
       "       [    1.,    11.,   121.,  1331., 14641.],\n",
       "       [    1.,    12.,   144.,  1728., 20736.],\n",
       "       [    1.,    13.,   169.,  2197., 28561.],\n",
       "       [    1.,    14.,   196.,  2744., 38416.]])"
      ]
     },
     "execution_count": 6,
     "metadata": {},
     "output_type": "execute_result"
    }
   ],
   "source": [
    "Phi = np.zeros((1,5))\n",
    "Phi[0][0] = 1\n",
    "for t in np.arange(1, 15):\n",
    "    Phi = np.concatenate((Phi, np.array([t**0, t**1, t**2, t**3, t**4]).reshape(1,5)), axis=0)\n",
    "Phi"
   ]
  },
  {
   "cell_type": "markdown",
   "id": "edd09125",
   "metadata": {},
   "source": [
    "### Model 1"
   ]
  },
  {
   "cell_type": "code",
   "execution_count": 7,
   "id": "00488a3a",
   "metadata": {},
   "outputs": [
    {
     "data": {
      "text/plain": [
       "array([[51.43501323]])"
      ]
     },
     "execution_count": 7,
     "metadata": {},
     "output_type": "execute_result"
    }
   ],
   "source": [
    "Phi1 = Phi[:, 0].reshape(-1, 1)\n",
    "theta1 = theta_hat(Phi1)\n",
    "theta1"
   ]
  },
  {
   "cell_type": "markdown",
   "id": "4f46fcb6",
   "metadata": {},
   "source": [
    "### Model 2"
   ]
  },
  {
   "cell_type": "code",
   "execution_count": 8,
   "id": "1066d377",
   "metadata": {},
   "outputs": [
    {
     "data": {
      "text/plain": [
       "array([[-31.10622879],\n",
       "       [ 11.791606  ]])"
      ]
     },
     "execution_count": 8,
     "metadata": {},
     "output_type": "execute_result"
    }
   ],
   "source": [
    "Phi2 = Phi[:, 0:2]\n",
    "theta2 = theta_hat(Phi2)\n",
    "theta2"
   ]
  },
  {
   "cell_type": "markdown",
   "id": "29f2ea5d",
   "metadata": {},
   "source": [
    "### Model 3"
   ]
  },
  {
   "cell_type": "code",
   "execution_count": 9,
   "id": "fc1148ec",
   "metadata": {},
   "outputs": [
    {
     "data": {
      "text/plain": [
       "array([[11.15056367],\n",
       "       [-7.71152898],\n",
       "       [ 1.39308107]])"
      ]
     },
     "execution_count": 9,
     "metadata": {},
     "output_type": "execute_result"
    }
   ],
   "source": [
    "Phi3 = Phi[:, 0:3]\n",
    "theta3 = theta_hat(Phi3)\n",
    "theta3"
   ]
  },
  {
   "cell_type": "markdown",
   "id": "18e02dbe",
   "metadata": {},
   "source": [
    "### Model 4"
   ]
  },
  {
   "cell_type": "code",
   "execution_count": 10,
   "id": "804055bc",
   "metadata": {},
   "outputs": [
    {
     "data": {
      "text/plain": [
       "array([[ 8.13712788],\n",
       "       [-4.5766727 ],\n",
       "       [ 0.81357419],\n",
       "       [ 0.02759557]])"
      ]
     },
     "execution_count": 10,
     "metadata": {},
     "output_type": "execute_result"
    }
   ],
   "source": [
    "Phi4 = Phi[:, 0:4]\n",
    "theta4 = theta_hat(Phi4)\n",
    "theta4"
   ]
  },
  {
   "cell_type": "markdown",
   "id": "97b99a36",
   "metadata": {},
   "source": [
    "### Model 5"
   ]
  },
  {
   "cell_type": "code",
   "execution_count": 11,
   "id": "f2eddd89",
   "metadata": {},
   "outputs": [
    {
     "data": {
      "text/plain": [
       "array([[ 4.23430957],\n",
       "       [ 3.49733955],\n",
       "       [-1.99202323],\n",
       "       [ 0.34600732],\n",
       "       [-0.01137185]])"
      ]
     },
     "execution_count": 11,
     "metadata": {},
     "output_type": "execute_result"
    }
   ],
   "source": [
    "Phi5 = Phi[:, 0:5]\n",
    "theta5 = theta_hat(Phi5)\n",
    "theta5"
   ]
  },
  {
   "cell_type": "markdown",
   "id": "a7373f41",
   "metadata": {},
   "source": [
    "Print a DataFrame here tabulating the results. "
   ]
  },
  {
   "cell_type": "markdown",
   "id": "bb9a9fda",
   "metadata": {},
   "source": [
    "## 1b)"
   ]
  },
  {
   "cell_type": "markdown",
   "id": "ef9dc95a",
   "metadata": {},
   "source": [
    "Value function calculation"
   ]
  },
  {
   "cell_type": "code",
   "execution_count": 12,
   "id": "405f0c3c",
   "metadata": {},
   "outputs": [],
   "source": [
    "def estimates(Phi_func, theta_func):\n",
    "    return (Phi_func.reshape(1, -1) @ theta_func).reshape(1,)\n",
    "    \n",
    "def square_error(y_func, epsilon):\n",
    "    return np.array([np.square(y_func - epsilon)]).reshape(1,)"
   ]
  },
  {
   "cell_type": "code",
   "execution_count": 13,
   "id": "736be50f",
   "metadata": {},
   "outputs": [],
   "source": [
    "y1_lse, y2_lse, y3_lse, y4_lse, y5_lse = (0, 0, 0, 0, 0)\n",
    "for t, y in zip(time, vals):\n",
    "    if t == 0:\n",
    "        y1 = estimates(Phi[int(t), 0:1], theta1)        \n",
    "        y2 = estimates(Phi[int(t), 0:2], theta2)        \n",
    "        y3 = estimates(Phi[int(t), 0:3], theta3)        \n",
    "        y4 = estimates(Phi[int(t), 0:4], theta4)\n",
    "        y5 = estimates(Phi[int(t), 0:5], theta5)\n",
    "        \n",
    "    else:\n",
    "        y1 = np.concatenate((y1, estimates(Phi[int(t), 0:1], theta1)), axis=0)\n",
    "        y2 = np.concatenate((y2, estimates(Phi[int(t), 0:2], theta2)), axis=0)\n",
    "        y3 = np.concatenate((y3, estimates(Phi[int(t), 0:3], theta3)), axis=0)\n",
    "        y4 = np.concatenate((y4, estimates(Phi[int(t), 0:4], theta4)), axis=0)\n",
    "        y5 = np.concatenate((y5, estimates(Phi[int(t), 0:5], theta5)), axis=0)\n",
    "        \n",
    "    y1_lse += square_error(y, estimates(Phi[int(t), 0:1], theta1))\n",
    "    y2_lse += square_error(y, estimates(Phi[int(t), 0:2], theta2))\n",
    "    y3_lse += square_error(y, estimates(Phi[int(t), 0:3], theta3))\n",
    "    y4_lse += square_error(y, estimates(Phi[int(t), 0:4], theta4))\n",
    "    y5_lse += square_error(y, estimates(Phi[int(t), 0:5], theta5))\n",
    "        \n",
    "        \n",
    "loss = 1/2*np.array([y1_lse, y2_lse, y3_lse, y4_lse, y5_lse])"
   ]
  },
  {
   "cell_type": "code",
   "execution_count": 14,
   "id": "4d4b00d5",
   "metadata": {},
   "outputs": [
    {
     "data": {
      "text/plain": [
       "array([[24103.09284015],\n",
       "       [ 4637.21674014],\n",
       "       [  634.25137857],\n",
       "       [  612.44036325],\n",
       "       [  563.29018315]])"
      ]
     },
     "execution_count": 14,
     "metadata": {},
     "output_type": "execute_result"
    }
   ],
   "source": [
    "loss "
   ]
  },
  {
   "cell_type": "code",
   "execution_count": 15,
   "id": "1b6280ad",
   "metadata": {},
   "outputs": [
    {
     "data": {
      "image/png": "[encoded data removed]",
      "text/plain": [
       "<Figure size 432x288 with 1 Axes>"
      ]
     },
     "metadata": {
      "needs_background": "light"
     },
     "output_type": "display_data"
    }
   ],
   "source": [
    "plt.scatter(time, vals)\n",
    "plt.plot(time, y1)\n",
    "plt.plot(time, y2)\n",
    "plt.plot(time, y3)\n",
    "plt.xlabel('time, t (s)')\n",
    "plt.ylabel('Value')\n",
    "plt.title('Title')\n",
    "plt.legend(['1 param', '2 param', '3 param', 'measure'])\n",
    "plt.show()"
   ]
  },
  {
   "cell_type": "markdown",
   "id": "62cb8759",
   "metadata": {},
   "source": [
    "## 1c)"
   ]
  },
  {
   "cell_type": "code",
   "execution_count": 16,
   "id": "6950dd73",
   "metadata": {},
   "outputs": [],
   "source": [
    "N = np.arange(1, 6)\n",
    "sigma_hat = []\n",
    "for n, _2V in zip(N, 2*loss):\n",
    "    sigma_hat.append(np.sqrt(_2V/(len(time) - n)))"
   ]
  },
  {
   "cell_type": "code",
   "execution_count": 17,
   "id": "b2911a23",
   "metadata": {},
   "outputs": [
    {
     "data": {
      "text/plain": [
       "array([[58.67963   ],\n",
       "       [26.70988506],\n",
       "       [10.28146697],\n",
       "       [10.5523833 ],\n",
       "       [10.61404902]])"
      ]
     },
     "execution_count": 17,
     "metadata": {},
     "output_type": "execute_result"
    }
   ],
   "source": [
    "np.array(sigma_hat)"
   ]
  },
  {
   "cell_type": "code",
   "execution_count": null,
   "id": "1cf45f38",
   "metadata": {},
   "outputs": [],
   "source": []
  },
  {
   "cell_type": "markdown",
   "id": "348e432c",
   "metadata": {},
   "source": [
    "# Question 2"
   ]
  },
  {
   "cell_type": "code",
   "execution_count": 18,
   "id": "ba5f650a",
   "metadata": {},
   "outputs": [],
   "source": [
    "import matplotlib.pyplot as plt\n",
    "import pandas as pd\n",
    "import numpy as np\n",
    "\n",
    "from numpy import transpose as trans\n",
    "from numpy.random import normal\n",
    "from numpy.linalg import inv\n",
    "from numpy import cos, sin"
   ]
  },
  {
   "cell_type": "markdown",
   "id": "0fb81822",
   "metadata": {},
   "source": [
    "## 2 a)"
   ]
  },
  {
   "cell_type": "code",
   "execution_count": 19,
   "id": "836a3417",
   "metadata": {},
   "outputs": [],
   "source": [
    "a1_true, a2_true, b0_true, b1_true, std_dev = 1.3, 0.75, 1.1, -0.35, 0.65\n",
    "N = 2700\n",
    "time = np.arange(N + 1)\n",
    "\n",
    "# Delayed Kronecker delta input\n",
    "delta = np.zeros(time.shape)\n",
    "delta[np.where(time == 100)] = 1\n",
    "\n",
    "# Delayed step input\n",
    "step = np.zeros((100))\n",
    "step = np.concatenate((step, np.ones(N - 99,)))"
   ]
  },
  {
   "cell_type": "code",
   "execution_count": 20,
   "id": "07df1266",
   "metadata": {},
   "outputs": [],
   "source": [
    "def rls(theta_m1, P_m1, a1=a1_true, a2 = a2_true, b0=b0_true, b1=b1_true, sig=std_dev):\n",
    "    global idx, N, y, u, a1_hat, a2_hat, b0_hat, b1_hat\n",
    "    \n",
    "    y[idx] = -a1*y[idx - 1] -a2*y[idx - 2] + b0*u[idx - 1] + b1*u[idx - 2] + normal(scale=sig)\n",
    "    \n",
    "    phi = np.array([[-y[idx- 1]],\n",
    "                   [-y[idx - 2]],\n",
    "                   [u[idx - 1]],\n",
    "                   [u[idx -2]]]) \n",
    "    \n",
    "    K = P_m1 @ phi @ inv(np.eye(1) + trans(phi) @ P_m1 @ phi) \n",
    "    P = (np.eye(len(phi)) - K @ trans(phi)) @ P_m1\n",
    "    theta = theta_m1 + K @ (y[idx] - trans(phi) @ theta_m1)\n",
    "    \n",
    "    a1_hat.append(float(theta[0]))\n",
    "    a2_hat.append(float(theta[1]))\n",
    "    b0_hat.append(float(theta[2]))\n",
    "    b1_hat.append(float(theta[3]))\n",
    "    \n",
    "    idx += 1\n",
    "    if idx == N + 1:\n",
    "        return theta, P\n",
    "    else:\n",
    "        return rls(theta, P)"
   ]
  },
  {
   "cell_type": "markdown",
   "id": "de01ec98",
   "metadata": {},
   "source": [
    "### Parameter Estimation with Delayed Kronecker Delta Input"
   ]
  },
  {
   "cell_type": "code",
   "execution_count": 21,
   "id": "f44908ef",
   "metadata": {},
   "outputs": [],
   "source": [
    "# Initial conditions for t = 0\n",
    "y = np.zeros(time.shape)\n",
    "y[0] = normal(scale=std_dev)\n",
    "theta_naught = np.zeros((4,1))\n",
    "P_naught = 100 * np.eye(4)\n",
    "\n",
    "# Initial conditions for t = 1\n",
    "y[1] = -a1_true*y[0] + normal(scale=std_dev)\n",
    "phi = np.array([[-y[0]],\n",
    "               [0],\n",
    "               [0],\n",
    "               [0]]).reshape(4, -1)\n",
    "K_1 = P_naught @ phi @ inv(np.eye(1) + trans(phi) @ P_naught @ phi)\n",
    "P_1 = (np.eye(4) - K_1 @ trans(phi)) @ P_naught\n",
    "theta_1 = theta_naught + K_1 @ (y[1] - trans(phi) @ theta_naught)"
   ]
  },
  {
   "cell_type": "code",
   "execution_count": 22,
   "id": "6e78c934",
   "metadata": {},
   "outputs": [
    {
     "data": {
      "image/png": "[encoded data removed]",
      "text/plain": [
       "<Figure size 432x288 with 4 Axes>"
      ]
     },
     "metadata": {
      "needs_background": "light"
     },
     "output_type": "display_data"
    },
    {
     "name": "stdout",
     "output_type": "stream",
     "text": [
      "The final values are:\n",
      "a1 = [1.31475287]\n",
      "a2 = [0.75918142]\n",
      "b0 = [0.45969736]\n",
      "b1 = [-0.10385646]\n"
     ]
    }
   ],
   "source": [
    "idx = 1\n",
    "u = delta\n",
    "a1_hat, a2_hat, b0_hat, b1_hat = [0], [0], [0], [0]\n",
    "\n",
    "params, P = rls(theta_1, P_1)\n",
    "\n",
    "plt.subplot(4, 1, 1)\n",
    "plt.plot(time, a1_hat)\n",
    "\n",
    "plt.subplot(4, 1, 2)\n",
    "plt.plot(time, a2_hat)\n",
    "\n",
    "plt.subplot(4, 1, 3)\n",
    "plt.plot(time, b0_hat)\n",
    "\n",
    "plt.subplot(4, 1, 4)\n",
    "plt.plot(time, b1_hat)\n",
    "\n",
    "plt.show()\n",
    "\n",
    "print(f'''The final values are:\n",
    "a1 = {params[0]}\n",
    "a2 = {params[1]}\n",
    "b0 = {params[2]}\n",
    "b1 = {params[3]}''')"
   ]
  },
  {
   "cell_type": "markdown",
   "id": "4159d197",
   "metadata": {},
   "source": [
    "### Parameter Estimation with Delayed Step Input"
   ]
  },
  {
   "cell_type": "code",
   "execution_count": 23,
   "id": "0919da6f",
   "metadata": {},
   "outputs": [],
   "source": [
    "# Initial conditions for t = 0\n",
    "y = np.zeros(time.shape)\n",
    "y[0] = normal(scale=std_dev)\n",
    "theta_naught = np.zeros((4,1))\n",
    "P_naught = 100 * np.eye(4)\n",
    "\n",
    "# Initial conditions for t = 1\n",
    "y[1] = -a1_true*y[0] + normal(scale=std_dev)\n",
    "phi = np.array([[-y[0]],\n",
    "               [0],\n",
    "               [0],\n",
    "               [0]]).reshape(4, -1)\n",
    "K_1 = P_naught @ phi @ inv(np.eye(1) + trans(phi) @ P_naught @ phi)\n",
    "P_1 = (np.eye(4) - K_1 @ trans(phi)) @ P_naught\n",
    "theta_1 = theta_naught + K_1 @ (y[1] - trans(phi) @ theta_naught)"
   ]
  },
  {
   "cell_type": "code",
   "execution_count": 24,
   "id": "ffb25587",
   "metadata": {
    "scrolled": true
   },
   "outputs": [
    {
     "data": {
      "image/png": "[encoded data removed]",
      "text/plain": [
       "<Figure size 432x288 with 4 Axes>"
      ]
     },
     "metadata": {
      "needs_background": "light"
     },
     "output_type": "display_data"
    },
    {
     "name": "stdout",
     "output_type": "stream",
     "text": [
      "The final values are:\n",
      "a1 = [1.30584353]\n",
      "a2 = [0.75712941]\n",
      "b0 = [1.56920446]\n",
      "b1 = [-0.79922774]\n"
     ]
    }
   ],
   "source": [
    "idx = 1\n",
    "u = step\n",
    "a1_hat, a2_hat, b0_hat, b1_hat = [0], [0], [0], [0]\n",
    "\n",
    "params, P = rls(theta_1, P_1)\n",
    "\n",
    "plt.subplot(4, 1, 1)\n",
    "plt.plot(time, a1_hat)\n",
    "\n",
    "plt.subplot(4, 1, 2)\n",
    "plt.plot(time, a2_hat)\n",
    "\n",
    "plt.subplot(4, 1, 3)\n",
    "plt.plot(time, b0_hat)\n",
    "\n",
    "plt.subplot(4, 1, 4)\n",
    "plt.plot(time, b1_hat)\n",
    "\n",
    "plt.show()\n",
    "\n",
    "print(f'''The final values are:\n",
    "a1 = {params[0]}\n",
    "a2 = {params[1]}\n",
    "b0 = {params[2]}\n",
    "b1 = {params[3]}''')"
   ]
  },
  {
   "cell_type": "code",
   "execution_count": null,
   "id": "1d2b1bbf",
   "metadata": {},
   "outputs": [],
   "source": []
  },
  {
   "cell_type": "markdown",
   "id": "904cd2ff",
   "metadata": {},
   "source": [
    "### 2c)"
   ]
  },
  {
   "cell_type": "code",
   "execution_count": 25,
   "id": "a581881b",
   "metadata": {},
   "outputs": [],
   "source": [
    "# Multi-frequency input signal\n",
    "mfs = np.array([1])\n",
    "for t in time[1:]:\n",
    "    mfs = np.concatenate((mfs, np.array([sin((2*np.pi)/5*t) + cos((4*np.pi)/5*t)])), axis=0)\n",
    "#     mfs.append(sin((2*np.pi)/5*t) + cos((4*np.pi)/5*t))"
   ]
  },
  {
   "cell_type": "code",
   "execution_count": 26,
   "id": "99b196da",
   "metadata": {},
   "outputs": [
    {
     "data": {
      "image/png": "[encoded data removed]",
      "text/plain": [
       "<Figure size 432x288 with 1 Axes>"
      ]
     },
     "metadata": {
      "needs_background": "light"
     },
     "output_type": "display_data"
    }
   ],
   "source": [
    "plt.plot(mfs[0:100])\n",
    "plt.show()"
   ]
  },
  {
   "cell_type": "code",
   "execution_count": 27,
   "id": "046ca19a",
   "metadata": {},
   "outputs": [
    {
     "data": {
      "image/png": "[encoded data removed]",
      "text/plain": [
       "<Figure size 432x288 with 4 Axes>"
      ]
     },
     "metadata": {
      "needs_background": "light"
     },
     "output_type": "display_data"
    },
    {
     "name": "stdout",
     "output_type": "stream",
     "text": [
      "The final values are:\n",
      "a1 = [1.30138364]\n",
      "a2 = [0.752056]\n",
      "b0 = [1.0840967]\n",
      "b1 = [-0.34847701]\n"
     ]
    }
   ],
   "source": [
    "idx = 1\n",
    "u = mfs\n",
    "a1_hat, a2_hat, b0_hat, b1_hat = [0], [0], [0], [0]\n",
    "\n",
    "# Initial conditions for t = 0\n",
    "y = np.zeros(time.shape)\n",
    "y[0] = normal(scale=std_dev)\n",
    "theta_naught = np.zeros((4,1))\n",
    "P_naught = 100 * np.eye(4)\n",
    "\n",
    "# Initial conditions for t = 1\n",
    "y[1] = -a1_true*y[0] + b0_true*u[0] + normal(scale=std_dev)\n",
    "phi = np.array([[-y[0]],\n",
    "               [0],\n",
    "               [u[0]],\n",
    "               [0]]).reshape(4, -1)\n",
    "K_1 = P_naught @ phi @ inv(np.eye(1) + trans(phi) @ P_naught @ phi)\n",
    "P_1 = (np.eye(4) - K_1 @ trans(phi)) @ P_naught\n",
    "theta_1 = theta_naught + K_1 @ (y[1] - trans(phi) @ theta_naught)\n",
    "\n",
    "params, P = rls(theta_1, P_1)\n",
    "\n",
    "plt.subplot(4, 1, 1)\n",
    "plt.plot(time, a1_hat)\n",
    "\n",
    "plt.subplot(4, 1, 2)\n",
    "plt.plot(time, a2_hat)\n",
    "\n",
    "plt.subplot(4, 1, 3)\n",
    "plt.plot(time, b0_hat)\n",
    "\n",
    "plt.subplot(4, 1, 4)\n",
    "plt.plot(time, b1_hat)\n",
    "\n",
    "plt.show()\n",
    "\n",
    "print(f'''The final values are:\n",
    "a1 = {params[0]}\n",
    "a2 = {params[1]}\n",
    "b0 = {params[2]}\n",
    "b1 = {params[3]}''')"
   ]
  },
  {
   "cell_type": "code",
   "execution_count": null,
   "id": "7139b470",
   "metadata": {},
   "outputs": [],
   "source": []
  },
  {
   "cell_type": "code",
   "execution_count": null,
   "id": "ef8c4202",
   "metadata": {},
   "outputs": [],
   "source": []
  },
  {
   "cell_type": "code",
   "execution_count": null,
   "id": "b1c72a4b",
   "metadata": {},
   "outputs": [],
   "source": []
  },
  {
   "cell_type": "code",
   "execution_count": null,
   "id": "3152a7c3",
   "metadata": {},
   "outputs": [],
   "source": []
  },
  {
   "cell_type": "code",
   "execution_count": null,
   "id": "b186523a",
   "metadata": {},
   "outputs": [],
   "source": []
  },
  {
   "cell_type": "code",
   "execution_count": null,
   "id": "9fd38822",
   "metadata": {},
   "outputs": [],
   "source": []
  },
  {
   "cell_type": "code",
   "execution_count": null,
   "id": "2ab9961b",
   "metadata": {},
   "outputs": [],
   "source": []
  },
  {
   "cell_type": "code",
   "execution_count": null,
   "id": "fbb06114",
   "metadata": {},
   "outputs": [],
   "source": []
  }
 ],
 "metadata": {
  "kernelspec": {
   "display_name": "Python 3 (ipykernel)",
   "language": "python",
   "name": "python3"
  },
  "language_info": {
   "codemirror_mode": {
    "name": "ipython",
    "version": 3
   },
   "file_extension": ".py",
   "mimetype": "text/x-python",
   "name": "python",
   "nbconvert_exporter": "python",
   "pygments_lexer": "ipython3",
   "version": "3.9.7"
  }
 },
 "nbformat": 4,
 "nbformat_minor": 5
}
