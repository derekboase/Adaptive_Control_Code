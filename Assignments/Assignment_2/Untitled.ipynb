{
 "cells": [
  {
   "cell_type": "code",
   "execution_count": 3,
   "id": "3d6cf2a1",
   "metadata": {},
   "outputs": [],
   "source": [
    "import control as co\n",
    "import numpy as np\n",
    "import sympy as sp \n",
    "from sympy.abc import omega, zeta"
   ]
  },
  {
   "cell_type": "code",
   "execution_count": 48,
   "id": "2cc3256e",
   "metadata": {},
   "outputs": [],
   "source": [
    "a, ao, b, r1, s, s0, s1, t0 = sp.symbols('a,a_o,b,r_1, s, s_0, s_1, t_0')\n",
    "B = b\n",
    "B_minus = b\n",
    "A = s*(s + a)\n",
    "R_prime = s + r1\n",
    "S = s0*s + s1\n",
    "\n",
    "Ao = s + ao\n",
    "Am = s**2 + 2*zeta*omega*s + omega**2"
   ]
  },
  {
   "cell_type": "markdown",
   "id": "203d02c6",
   "metadata": {},
   "source": [
    "## Diophantine Equation"
   ]
  },
  {
   "cell_type": "code",
   "execution_count": 66,
   "id": "a2514c38",
   "metadata": {},
   "outputs": [
    {
     "data": {
      "text/latex": [
       "$\\displaystyle b s_{1} + s^{3} + s^{2} \\left(a + r_{1}\\right) + s \\left(a r_{1} + b s_{0}\\right)$"
      ],
      "text/plain": [
       "b*s_1 + s**3 + s**2*(a + r_1) + s*(a*r_1 + b*s_0)"
      ]
     },
     "execution_count": 66,
     "metadata": {},
     "output_type": "execute_result"
    }
   ],
   "source": [
    "dio_LHS = sp.collect(sp.expand(A*R_prime + B_minus*S), s)\n",
    "dio_LHS"
   ]
  },
  {
   "cell_type": "code",
   "execution_count": 67,
   "id": "35fd6d81",
   "metadata": {},
   "outputs": [
    {
     "data": {
      "text/latex": [
       "$\\displaystyle a_{o} \\omega^{2} + s^{3} + s^{2} \\left(a_{o} + 2 \\omega \\zeta\\right) + s \\left(2 a_{o} \\omega \\zeta + \\omega^{2}\\right)$"
      ],
      "text/plain": [
       "a_o*omega**2 + s**3 + s**2*(a_o + 2*omega*zeta) + s*(2*a_o*omega*zeta + omega**2)"
      ]
     },
     "execution_count": 67,
     "metadata": {},
     "output_type": "execute_result"
    }
   ],
   "source": [
    "dio_RHS = sp.collect(sp.expand(Ao*Am), s)\n",
    "dio_RHS"
   ]
  },
  {
   "cell_type": "code",
   "execution_count": 68,
   "id": "ea0434f2",
   "metadata": {},
   "outputs": [
    {
     "data": {
      "text/latex": [
       "$\\displaystyle \\operatorname{Poly}{\\left( \\left(a - a_{o} - 2 \\omega \\zeta + r_{1}\\right) s^{2} + \\left(a r_{1} - 2 a_{o} \\omega \\zeta + b s_{0} - \\omega^{2}\\right) s -  a_{o} \\omega^{2} + b s_{1}, s, domain=\\mathbb{Z}\\left[a, b, a_{o}, \\omega, r_{1}, s_{0}, s_{1}, \\zeta\\right] \\right)}$"
      ],
      "text/plain": [
       "Poly((a - a_o - 2*omega*zeta + r_1)*s**2 + (a*r_1 - 2*a_o*omega*zeta + b*s_0 - omega**2)*s - a_o*omega**2 + b*s_1, s, domain='ZZ[a,b,a_o,omega,r_1,s_0,s_1,zeta]')"
      ]
     },
     "execution_count": 68,
     "metadata": {},
     "output_type": "execute_result"
    }
   ],
   "source": [
    "dio_poly = sp.Poly(dio_LHS - dio_RHS, s)\n",
    "dio_poly"
   ]
  },
  {
   "cell_type": "code",
   "execution_count": 69,
   "id": "a6467d9e",
   "metadata": {},
   "outputs": [
    {
     "data": {
      "text/latex": [
       "$\\displaystyle - a + a_{o} + 2 \\omega \\zeta$"
      ],
      "text/plain": [
       "-a + a_o + 2*omega*zeta"
      ]
     },
     "execution_count": 69,
     "metadata": {},
     "output_type": "execute_result"
    }
   ],
   "source": [
    "r1_sym = sp.solve(dio_poly.coeffs()[0], r1)\n",
    "r1_sym[0]"
   ]
  },
  {
   "cell_type": "code",
   "execution_count": 70,
   "id": "746e887c",
   "metadata": {},
   "outputs": [
    {
     "data": {
      "text/latex": [
       "$\\displaystyle \\frac{a^{2} - a a_{o} - 2 a \\omega \\zeta + 2 a_{o} \\omega \\zeta + \\omega^{2}}{b}$"
      ],
      "text/plain": [
       "(a**2 - a*a_o - 2*a*omega*zeta + 2*a_o*omega*zeta + omega**2)/b"
      ]
     },
     "execution_count": 70,
     "metadata": {},
     "output_type": "execute_result"
    }
   ],
   "source": [
    "s0_sym = sp.solve(dio_poly.coeffs()[1], s0)\n",
    "s0_sym = sp.simplify(sp.expand(s0_sym[0].subs(r1, r1_sym[0])))\n",
    "s0_sym"
   ]
  },
  {
   "cell_type": "code",
   "execution_count": 71,
   "id": "bb516faa",
   "metadata": {},
   "outputs": [
    {
     "data": {
      "text/latex": [
       "$\\displaystyle \\frac{a_{o} \\omega^{2}}{b}$"
      ],
      "text/plain": [
       "a_o*omega**2/b"
      ]
     },
     "execution_count": 71,
     "metadata": {},
     "output_type": "execute_result"
    }
   ],
   "source": [
    "s1_sym = sp.solve(dio_poly.coeffs()[2], s1)\n",
    "s1_sym[0]"
   ]
  },
  {
   "cell_type": "code",
   "execution_count": 72,
   "id": "ad9305b9",
   "metadata": {},
   "outputs": [
    {
     "data": {
      "text/latex": [
       "$\\displaystyle \\frac{\\omega}{b}$"
      ],
      "text/plain": [
       "omega/b"
      ]
     },
     "execution_count": 72,
     "metadata": {},
     "output_type": "execute_result"
    }
   ],
   "source": [
    "t0 = omega/b\n",
    "t0"
   ]
  },
  {
   "cell_type": "markdown",
   "id": "99ce108c",
   "metadata": {},
   "source": [
    "## RLS"
   ]
  },
  {
   "cell_type": "markdown",
   "id": "e948ace2",
   "metadata": {},
   "source": [
    "### ODE\n",
    "\n",
    "$p^2 y(t) + apy(t) = bu(t)$"
   ]
  },
  {
   "cell_type": "code",
   "execution_count": 76,
   "id": "fd31dfb2",
   "metadata": {},
   "outputs": [],
   "source": [
    "uf, yf = sp.symbols('u_f, y_f')"
   ]
  },
  {
   "cell_type": "code",
   "execution_count": 77,
   "id": "4097a388",
   "metadata": {},
   "outputs": [
    {
     "data": {
      "text/latex": [
       "$\\displaystyle \\frac{1}{\\omega^{2} + 2 \\omega s \\zeta + s^{2}}$"
      ],
      "text/plain": [
       "1/(omega**2 + 2*omega*s*zeta + s**2)"
      ]
     },
     "execution_count": 77,
     "metadata": {},
     "output_type": "execute_result"
    }
   ],
   "source": [
    "Hf = 1/(Am)\n",
    "Hf"
   ]
  },
  {
   "cell_type": "code",
   "execution_count": null,
   "id": "cf3cdd3c",
   "metadata": {},
   "outputs": [],
   "source": []
  }
 ],
 "metadata": {
  "kernelspec": {
   "display_name": "Python 3 (ipykernel)",
   "language": "python",
   "name": "python3"
  },
  "language_info": {
   "codemirror_mode": {
    "name": "ipython",
    "version": 3
   },
   "file_extension": ".py",
   "mimetype": "text/x-python",
   "name": "python",
   "nbconvert_exporter": "python",
   "pygments_lexer": "ipython3",
   "version": "3.8.10"
  }
 },
 "nbformat": 4,
 "nbformat_minor": 5
}
