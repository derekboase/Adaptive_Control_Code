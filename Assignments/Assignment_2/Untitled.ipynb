{
 "cells": [
  {
   "cell_type": "code",
   "execution_count": 1,
   "id": "cf3cdd3c",
   "metadata": {},
   "outputs": [],
   "source": [
    "import matplotlib.pyplot as plt\n",
    "import control as co  # pip install control\n",
    "import numpy as np  \n",
    "import sympy as sp\n",
    "\n",
    "from numpy import cos, sin, pi"
   ]
  },
  {
   "cell_type": "markdown",
   "id": "85fee643",
   "metadata": {},
   "source": [
    "Given values"
   ]
  },
  {
   "cell_type": "code",
   "execution_count": 47,
   "id": "769a075a",
   "metadata": {},
   "outputs": [],
   "source": [
    "r1, s0, s1, a01 = sp.symbols('r_1, s_0, s_1, a_0_1')\n",
    "ao, a1, a2, b0 = sp.symbols('a_o,\\hat{a}_1,\\hat{a}_2,\\hat{b}_0')\n",
    "a, b, c, d, q, s, Ts = sp.symbols('a, b, c, d, q, s, T')\n",
    "yddot, ydot = sp.symbols('\\ddot{y},\\dot{y}')\n",
    "y, u, uc = sp.symbols('y, u, u_c')\n",
    "a_true, b_true, c_true, d_true = (1, 1, 2, 1/2)\n",
    "G1 = (b/(s + a)).subs(a, 1).subs(b, 1)\n",
    "G2 = c/(s + d)\n",
    "G_sym = b0/(s**2 + a1*s + a2)\n",
    "G = sp.Mul(G1, G2)\n",
    "Bm = 1\n",
    "Am = s ** 2 + 2*s + 1"
   ]
  },
  {
   "cell_type": "code",
   "execution_count": 3,
   "id": "b203b397",
   "metadata": {},
   "outputs": [
    {
     "data": {
      "text/latex": [
       "$\\displaystyle \\frac{c}{d + s^{2} + s \\left(d + 1\\right)}$"
      ],
      "text/plain": [
       "c/(d + s**2 + s*(d + 1))"
      ]
     },
     "execution_count": 3,
     "metadata": {},
     "output_type": "execute_result"
    }
   ],
   "source": [
    "G = sp.collect(sp.expand(G), s)\n",
    "G"
   ]
  },
  {
   "cell_type": "code",
   "execution_count": 4,
   "id": "ef46d8f9",
   "metadata": {},
   "outputs": [],
   "source": [
    "B, A = sp.fraction(G)\n",
    "B_plus = 1\n",
    "B_minus = c"
   ]
  },
  {
   "cell_type": "markdown",
   "id": "c0f3c5ed",
   "metadata": {
    "variables": {
     "A": "$\\displaystyle d + s^{2} + s \\left(d + 1\\right)$",
     "B": "$\\displaystyle c$"
    }
   },
   "source": [
    "So,\n",
    "\n",
    "$ A = $ {{A}}\n",
    "\n",
    "and, \n",
    "\n",
    "$ B = $ {{B}}"
   ]
  },
  {
   "cell_type": "code",
   "execution_count": 5,
   "id": "502aec69",
   "metadata": {},
   "outputs": [
    {
     "data": {
      "text/latex": [
       "$\\displaystyle \\frac{\\hat{b}_0}{\\hat{a}_1 s + \\hat{a}_2 + s^{2}}$"
      ],
      "text/plain": [
       "\\hat{b}_0/(\\hat{a}_1*s + \\hat{a}_2 + s**2)"
      ]
     },
     "execution_count": 5,
     "metadata": {},
     "output_type": "execute_result"
    }
   ],
   "source": [
    "G_sym"
   ]
  },
  {
   "cell_type": "markdown",
   "id": "9e66b63f",
   "metadata": {},
   "source": [
    "a) Design control parameters using the Diophantine equation\n",
    "\n",
    "Using the compatability conditions: \n",
    "$$\\text{degA}_m=\\text{degA}=2$$\n",
    "$$\\text{degB}_m=\\text{degB}=0$$\n",
    "$$\\text{degA}_0=\\text{degA - degB}^+-1=1$$\n",
    "\n",
    "The causality condition gives, \n",
    "$$\\text{degA}_m - \\text{degB}_m'\\geq\\text{degA} - \\text{degB}^+$$\n",
    "\n",
    "Given that $$\\text{degA}_m=\\text{degA}=2$$ and $$\\text{degB}_m'=0$$ then $$\\text{degB}^+=0$$\n",
    "\n",
    "With this we can find, \n",
    "$$\\text{degA}_c = \\text{degA}_o + \\text{degA}_m + \\text{degB}^+ = 3$$"
   ]
  },
  {
   "cell_type": "markdown",
   "id": "076955c2",
   "metadata": {},
   "source": [
    "It is then found that, \n",
    "$$\\text{degR} = \\text{degA}_c - \\text{degA} = 3 - 2 = 1$$\n",
    "Using the minimum phase relationship, \n",
    "$$\\text{degR}=\\text{degT}=\\text{degS}=1$$\n",
    "\n",
    "The control parameters may then be found using the Diophantine equation, \n",
    "$$AR' + B^-S = A_0A_m$$\n",
    "$$(s^2 + (a + d)s + ad)(s + r_1) + bc(s_0s + s_1) = (s + a_{o_1})(s^2 + 2s + 1)$$"
   ]
  },
  {
   "cell_type": "code",
   "execution_count": 48,
   "id": "57749ff0",
   "metadata": {},
   "outputs": [],
   "source": [
    "R = s + r1\n",
    "R_prime = R\n",
    "S = s0*s + s1\n",
    "Ao = (s + ao)\n",
    "T = Ao*Bm/B_minus"
   ]
  },
  {
   "cell_type": "markdown",
   "id": "8bdd576b",
   "metadata": {
    "variables": {
     "Am": "$\\displaystyle s^{2} + 2 s + 1$",
     "Bm": "1",
     "R": "$\\displaystyle r_{1} + s$",
     "S": "$\\displaystyle s s_{0} + s_{1}$",
     "T": "$\\displaystyle \\frac{a_{o} + s}{c}$"
    }
   },
   "source": [
    "$ A_m = $ {{Am}}\n",
    "\n",
    "$ B_m = $ {{Bm}}\n",
    "\n",
    "$ R = $ {{R}}\n",
    "\n",
    "$ S = $ {{S}}\n",
    "\n",
    "$ T = $ {{T}}"
   ]
  },
  {
   "cell_type": "code",
   "execution_count": 7,
   "id": "b79c5e71",
   "metadata": {},
   "outputs": [],
   "source": [
    "dio_LHS = sp.collect(sp.expand(A*R_prime + B_minus*S), s)\n",
    "dio_RHS = sp.collect(sp.expand(Ao*Am), s)\n",
    "dio_poly = sp.Poly(sp.collect(sp.expand(dio_LHS - dio_RHS), s), s)\n",
    "\n",
    "var = [r1, s0, s1]\n",
    "control_vars = []\n",
    "for idx in range(len(dio_poly.coeffs())):\n",
    "    control_vars.append(sp.solve(dio_poly.coeffs()[idx], var[idx])[0])\n",
    "r1c_sym = control_vars[0]\n",
    "s0c_sym = control_vars[1]\n",
    "s1c_sym = control_vars[2]"
   ]
  },
  {
   "cell_type": "markdown",
   "id": "d1cc680d",
   "metadata": {
    "variables": {
     "r1c_sym": "$\\displaystyle a_{o} - d + 1$",
     "s0c_sym": "$\\displaystyle \\frac{2 a_{o} - d r_{1} - d - r_{1} + 1}{c}$",
     "s1c_sym": "$\\displaystyle \\frac{a_{o} - d r_{1}}{c}$"
    }
   },
   "source": [
    "$ r_1 = $ {{r1c_sym}}\n",
    "\n",
    "$ s_0 = $ {{s0c_sym}}\n",
    "\n",
    "$ s_1 = $ {{s1c_sym}}"
   ]
  },
  {
   "cell_type": "markdown",
   "id": "1d1f0c38",
   "metadata": {},
   "source": [
    "The process is described by, \n",
    "\n",
    "$ p^2y(t) + (d + 1)py(t) + dy(t) = cu(t) $"
   ]
  },
  {
   "cell_type": "markdown",
   "id": "c84fdfc2",
   "metadata": {},
   "source": [
    "Then we can define, \n",
    "\n",
    "$ y_f(s) = H_f(s)Y(s) $\n",
    "\n",
    "and \n",
    "\n",
    "$ u_f(s) = H_f(s)U(s) $\n",
    "\n",
    "where \n",
    "\n",
    "$ H_f(s) = \\frac{1}{Am(s)} $\n",
    "\n",
    "The model then becomes, \n",
    "\n",
    "$ \\frac{p^2}{A_m(s)}y_f(t) = -(d + 1)\\frac{p}{A_m(s)}y_f(t) - \\frac{d}{A_m(s)}y_f(t) + \\frac{c}{A_m(s)}u_f(t) $"
   ]
  },
  {
   "cell_type": "markdown",
   "id": "b01a008a",
   "metadata": {},
   "source": [
    "The RLS can be used on this model by defining, \n",
    "\n",
    "$ y_i(t) = \\frac{p^i}{Am(p)}y(t) $ \n",
    "\n",
    "$ u_i(t) = \\frac{p^i}{Am(p)}u(t) $"
   ]
  },
  {
   "cell_type": "markdown",
   "id": "58931a8f",
   "metadata": {},
   "source": [
    "With this choice of definition, we can reparameterize the model as, \n",
    "\n",
    "$ y_n(t) = \\phi(t)^T\\theta $\n",
    "\n",
    "where, \n",
    "\n",
    "$ \\phi(t) = \\big[-y_{f1}(t)\\ -y_{f0}(t)\\ u_{f0}(t)\\big]^T $\n",
    "\n",
    "$ \\theta =  \\big[(d + 1)\\ d\\ c\\big]^T$"
   ]
  },
  {
   "cell_type": "markdown",
   "id": "ff20298a",
   "metadata": {},
   "source": [
    "To begin to evaluate the parametesr, the continuous time variables are estimated with the bilinear transformation"
   ]
  },
  {
   "cell_type": "code",
   "execution_count": 8,
   "id": "de7bdf9c",
   "metadata": {},
   "outputs": [],
   "source": [
    "bilinear = 2*(1-q**(-1))/(T*(1+q**(-1)))\n",
    "\n",
    "\n",
    "Hf1 = (s/Am).subs(s, bilinear) \n",
    "Hf1 = sp.collect(sp.simplify(sp.expand(Hf1)), q)\n",
    "\n",
    "Hf0 = (1/Am).subs(s, bilinear) \n",
    "Hf0 = sp.collect(sp.simplify(sp.expand(Hf0)), q)"
   ]
  },
  {
   "cell_type": "code",
   "execution_count": 10,
   "id": "23fca497",
   "metadata": {},
   "outputs": [],
   "source": [
    "bf1, af1 = sp.fraction(Hf1)\n",
    "af1_poly = sp.Poly(af1, q)\n",
    "bf1_poly = sp.Poly(bf1, q)\n",
    "af1_coeffs = []\n",
    "bf1_coeffs = []\n",
    "for n in range(len(af1_poly.coeffs())):\n",
    "    af1_coeffs.append(sp.simplify(af1_poly.coeffs()[n]/af1_poly.coeffs()[0]))\n",
    "for n in range(len(bf1_poly.coeffs())):\n",
    "    bf1_coeffs.append(sp.simplify(bf1_poly.coeffs()[n]/af1_poly.coeffs()[0]))\n",
    "bf1_coeffs.insert(1, 0)"
   ]
  },
  {
   "cell_type": "code",
   "execution_count": 13,
   "id": "a0ac8588",
   "metadata": {},
   "outputs": [
    {
     "data": {
      "text/plain": [
       "[1, 2*(T - 2)/(T + 2), (T**2 - 4*T + 4)/(T**2 + 4*T + 4)]"
      ]
     },
     "execution_count": 13,
     "metadata": {},
     "output_type": "execute_result"
    }
   ],
   "source": [
    "af1_coeffs"
   ]
  },
  {
   "cell_type": "code",
   "execution_count": 12,
   "id": "9453c0d5",
   "metadata": {},
   "outputs": [
    {
     "data": {
      "text/plain": [
       "[2*T/(T**2 + 4*T + 4), 0, -2*T/(T**2 + 4*T + 4)]"
      ]
     },
     "execution_count": 12,
     "metadata": {},
     "output_type": "execute_result"
    }
   ],
   "source": [
    "bf1_coeffs"
   ]
  },
  {
   "cell_type": "code",
   "execution_count": 37,
   "id": "4639c2b1",
   "metadata": {},
   "outputs": [],
   "source": [
    "bf0, af0 = sp.fraction(Hf0)\n",
    "af0_poly = sp.Poly(af0, q)\n",
    "bf0_poly = sp.Poly(bf0, q)\n",
    "af0_coeffs = []\n",
    "bf0_coeffs = []\n",
    "for n in range(len(af0_poly.coeffs())):\n",
    "    af0_coeffs.append(sp.simplify(af0_poly.coeffs()[n]/af0_poly.coeffs()[0]))\n",
    "for n in range(len(bf0_poly.coeffs())):\n",
    "    bf0_coeffs.append(sp.simplify(bf0_poly.coeffs()[n]/af0_poly.coeffs()[0]))"
   ]
  },
  {
   "cell_type": "code",
   "execution_count": 38,
   "id": "62d62243",
   "metadata": {},
   "outputs": [
    {
     "data": {
      "text/plain": [
       "[1, 2*(T - 2)/(T + 2), (T**2 - 4*T + 4)/(T**2 + 4*T + 4)]"
      ]
     },
     "execution_count": 38,
     "metadata": {},
     "output_type": "execute_result"
    }
   ],
   "source": [
    "af0_coeffs"
   ]
  },
  {
   "cell_type": "code",
   "execution_count": 43,
   "id": "4e16d274",
   "metadata": {},
   "outputs": [
    {
     "data": {
      "text/plain": [
       "[T**2/(T**2 + 4*T + 4), 2*T**2/(T**2 + 4*T + 4), T**2/(T**2 + 4*T + 4)]"
      ]
     },
     "execution_count": 43,
     "metadata": {},
     "output_type": "execute_result"
    }
   ],
   "source": [
    "bf0_coeffs"
   ]
  },
  {
   "cell_type": "code",
   "execution_count": null,
   "id": "11fb7f8a",
   "metadata": {},
   "outputs": [],
   "source": []
  },
  {
   "cell_type": "code",
   "execution_count": null,
   "id": "1210aa06",
   "metadata": {},
   "outputs": [],
   "source": []
  },
  {
   "cell_type": "code",
   "execution_count": null,
   "id": "7b53dbc0",
   "metadata": {},
   "outputs": [],
   "source": []
  },
  {
   "cell_type": "code",
   "execution_count": null,
   "id": "7edc3194",
   "metadata": {},
   "outputs": [],
   "source": []
  },
  {
   "cell_type": "code",
   "execution_count": null,
   "id": "e53c4b2f",
   "metadata": {},
   "outputs": [],
   "source": []
  },
  {
   "cell_type": "code",
   "execution_count": null,
   "id": "5cd601b8",
   "metadata": {},
   "outputs": [],
   "source": []
  },
  {
   "cell_type": "code",
   "execution_count": null,
   "id": "04d4f2c1",
   "metadata": {},
   "outputs": [],
   "source": []
  },
  {
   "cell_type": "code",
   "execution_count": null,
   "id": "67960663",
   "metadata": {},
   "outputs": [],
   "source": []
  }
 ],
 "metadata": {
  "kernelspec": {
   "display_name": "Python 3",
   "language": "python",
   "name": "python3"
  },
  "language_info": {
   "codemirror_mode": {
    "name": "ipython",
    "version": 3
   },
   "file_extension": ".py",
   "mimetype": "text/x-python",
   "name": "python",
   "nbconvert_exporter": "python",
   "pygments_lexer": "ipython3",
   "version": "3.8.8"
  }
 },
 "nbformat": 4,
 "nbformat_minor": 5
}
