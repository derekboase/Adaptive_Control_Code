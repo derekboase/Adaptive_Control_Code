{
 "cells": [
  {
   "cell_type": "markdown",
   "id": "eed92d92",
   "metadata": {},
   "source": [
    "# ELG7113 Machine Learning for Adaptive and Intelligent Control Systems\n",
    "\n",
    "Student: Derek Boase\n",
    "\n",
    "Std Num: 300043860\n",
    "\n",
    "e-mail: dboas065@uottawa.ca\n",
    "\n",
    "assignment GitHub: git@github.com:derekboase/Adaptive_Control_Code.git"
   ]
  },
  {
   "cell_type": "code",
   "execution_count": 1,
   "id": "1b5ebb2d",
   "metadata": {},
   "outputs": [],
   "source": [
    "import matplotlib.pyplot as plt\n",
    "import control as co\n",
    "import numpy as np\n",
    "import sympy as sp\n",
    "\n",
    "from numpy import transpose as trans\n",
    "from numpy import cos, sin, pi\n",
    "from numpy.linalg import inv"
   ]
  },
  {
   "cell_type": "markdown",
   "id": "10ed735c",
   "metadata": {},
   "source": [
    "## Question 1\n"
   ]
  },
  {
   "cell_type": "markdown",
   "id": "72cb4dca",
   "metadata": {},
   "source": [
    "Question declarations:"
   ]
  },
  {
   "cell_type": "code",
   "execution_count": 2,
   "id": "87781cdc",
   "metadata": {},
   "outputs": [],
   "source": [
    "r1, s0, s1, a01 = sp.symbols('r_1, s_0, s_1, a_0_1')\n",
    "ao, a1, a2, b0 = sp.symbols('a_o,\\hat{a}_1,\\hat{a}_2,\\hat{b}_0')\n",
    "a, b, c, d, q, s, Ts = sp.symbols('a, b, c, d, q, s, T')\n",
    "yddot, ydot = sp.symbols('\\ddot{y},\\dot{y}')\n",
    "y, u, uc = sp.symbols('y, u, u_c')\n",
    "a_true, b_true, c_true, d_true = (1, 1, 2, 1/2)\n",
    "G1 = (b/(s + a)).subs(a, 1).subs(b, 1)\n",
    "G2 = c/(s + d)\n",
    "G_sym = b0/(s**2 + a1*s + a2)\n",
    "G = sp.Mul(G1, G2)\n",
    "Bm = 1\n",
    "Am = s ** 2 + 2*s + 1\n",
    "G = sp.collect(sp.expand(G), s)\n",
    "B, A = sp.fraction(G)\n",
    "B_plus = 1\n",
    "B_minus = c"
   ]
  },
  {
   "cell_type": "markdown",
   "id": "e7141641",
   "metadata": {},
   "source": [
    "### Part 1\n",
    "\n",
    "Using the compatability conditions: \n",
    "$$\\text{degA}_m=\\text{degA}=2$$\n",
    "$$\\text{degB}_m=\\text{degB}=0$$\n",
    "$$\\text{degA}_0=\\text{degA - degB}^+-1=1$$\n",
    "\n",
    "The causality condition gives, \n",
    "$$\\text{degA}_m - \\text{degB}_m'\\geq\\text{degA} - \\text{degB}^+$$\n",
    "\n",
    "Given that $$\\text{degA}_m=\\text{degA}=2$$ and $$\\text{degB}_m'=0$$ then $$\\text{degB}^+=0$$\n",
    "\n",
    "With this we can find, \n",
    "$$\\text{degA}_c = \\text{degA}_o + \\text{degA}_m + \\text{degB}^+ = 3$$"
   ]
  },
  {
   "cell_type": "markdown",
   "id": "700c8cd3",
   "metadata": {},
   "source": [
    "It is then found that, \n",
    "$$\\text{degR} = \\text{degA}_c - \\text{degA} = 3 - 2 = 1$$\n",
    "Using the minimum phase relationship, \n",
    "$$\\text{degR}=\\text{degT}=\\text{degS}=1$$\n",
    "\n",
    "The control parameters may then be found using the Diophantine equation, \n",
    "$$AR' + B^-S = A_0A_m$$\n",
    "$$(s^2 + (a + d)s + ad)(s + r_1) + bc(s_0s + s_1) = (s + a_{o_1})(s^2 + 2s + 1)$$"
   ]
  },
  {
   "cell_type": "code",
   "execution_count": 3,
   "id": "c30b024a",
   "metadata": {},
   "outputs": [],
   "source": [
    "R = s + r1\n",
    "R_prime = R\n",
    "S = s0*s + s1\n",
    "Ao = (s + ao)\n",
    "T = Ao*Bm/B_minus"
   ]
  },
  {
   "cell_type": "markdown",
   "id": "4bb56f27",
   "metadata": {
    "variables": {
     "Am": "$\\displaystyle s^{2} + 2 s + 1$",
     "Bm": "1",
     "R": "$\\displaystyle r_{1} + s$",
     "S": "$\\displaystyle s s_{0} + s_{1}$",
     "T": "$\\displaystyle \\frac{a_{o} + s}{c}$"
    }
   },
   "source": [
    "$ A_m = $ {{Am}}\n",
    "\n",
    "$ B_m = $ {{Bm}}\n",
    "\n",
    "$ R = $ {{R}}\n",
    "\n",
    "$ S = $ {{S}}\n",
    "\n",
    "$ T = $ {{T}}"
   ]
  },
  {
   "cell_type": "code",
   "execution_count": 4,
   "id": "bdc02aea",
   "metadata": {},
   "outputs": [],
   "source": [
    "dio_LHS = sp.collect(sp.expand(A*R_prime + B_minus*S), s)\n",
    "dio_RHS = sp.collect(sp.expand(Ao*Am), s)\n",
    "dio_poly = sp.Poly(sp.collect(sp.expand(dio_LHS - dio_RHS), s), s)\n",
    "\n",
    "var = [r1, s0, s1]\n",
    "control_vars = []\n",
    "for idx in range(len(dio_poly.coeffs())):\n",
    "    control_vars.append(sp.solve(dio_poly.coeffs()[idx], var[idx])[0])\n",
    "r1c_sym = control_vars[0]\n",
    "s0c_sym = control_vars[1]\n",
    "s1c_sym = control_vars[2]"
   ]
  },
  {
   "cell_type": "markdown",
   "id": "db34766f",
   "metadata": {
    "variables": {
     "r1c_sym": "$\\displaystyle a_{o} - d + 1$",
     "s0c_sym": "$\\displaystyle \\frac{2 a_{o} - d r_{1} - d - r_{1} + 1}{c}$",
     "s1c_sym": "$\\displaystyle \\frac{a_{o} - d r_{1}}{c}$"
    }
   },
   "source": [
    "The above equation is described in the estimators by, \n",
    "\n",
    "$ r_1 = $ {{r1c_sym}}\n",
    "\n",
    "$ s_0 = $ {{s0c_sym}}\n",
    "\n",
    "$ s_1 = $ {{s1c_sym}}"
   ]
  },
  {
   "cell_type": "markdown",
   "id": "e9f70016",
   "metadata": {},
   "source": [
    "### Part 2\n",
    "\n",
    "The process is described by, \n",
    "\n",
    "$ p^2y(t) + (d + 1)py(t) + dy(t) = cu(t) $"
   ]
  },
  {
   "cell_type": "markdown",
   "id": "6dc7dbd7",
   "metadata": {
    "variables": {
     "1/Am": "$\\displaystyle \\frac{1}{s^{2} + 2 s + 1}$"
    }
   },
   "source": [
    "Then we can define, \n",
    "\n",
    "$ y_f(s) = H_f(s)Y(s) $\n",
    "\n",
    "and \n",
    "\n",
    "$ u_f(s) = H_f(s)U(s) $\n",
    "\n",
    "where \n",
    "\n",
    "$ H_f(s) = \\frac{1}{Am(s)}  = $ {{1/Am}}\n",
    "\n",
    "The model then becomes, \n",
    "\n",
    "$ \\frac{p^2}{A_m(s)}y_f(t) = -(d + 1)\\frac{p}{A_m(s)}y_f(t) - \\frac{d}{A_m(s)}y_f(t) + \\frac{c}{A_m(s)}u_f(t) $"
   ]
  },
  {
   "cell_type": "markdown",
   "id": "14979eb7",
   "metadata": {},
   "source": [
    "The RLS can be used on this model by defining, \n",
    "\n",
    "$ y_i(t) = \\frac{p^i}{Am(p)}y(t) $ \n",
    "\n",
    "$ u_i(t) = \\frac{p^i}{Am(p)}u(t) $"
   ]
  },
  {
   "cell_type": "markdown",
   "id": "da080d55",
   "metadata": {},
   "source": [
    "With this choice of definition, we can reparameterize the model as, \n",
    "\n",
    "$ y_n(t) = \\phi(t)^T\\theta $\n",
    "\n",
    "where, \n",
    "\n",
    "$ \\phi(t) = \\big[-y_{f1}(t)\\ -y_{f0}(t)\\ u_{f0}(t)\\big]^T $\n",
    "\n",
    "$ \\theta =  \\big[(d + 1)\\ d\\ c\\big]^T$\n",
    "\n",
    "To begin to evaluate these parameters, the continuous time variables are estimated with the bilinear transformation. That is to say the following mapping is used, \n",
    "\n",
    "$ s = \\frac{2(1-q^{-1})}{T_s(1+q^{-1})} $\n",
    "\n",
    "where $ T_s $ is the sampling time"
   ]
  },
  {
   "cell_type": "code",
   "execution_count": 5,
   "id": "ad96d38a",
   "metadata": {},
   "outputs": [],
   "source": [
    "bilinear = 2*(1-q**(-1))/(Ts*(1+q**(-1)))\n",
    "\n",
    "\n",
    "Hf1 = (s/Am).subs(s, bilinear) \n",
    "Hf1 = sp.collect(sp.simplify(sp.expand(Hf1)), q)\n",
    "\n",
    "Hf0 = (1/Am).subs(s, bilinear) \n",
    "Hf0 = sp.collect(sp.simplify(sp.expand(Hf0)), q)\n",
    "\n",
    "bilinear = 2*(1-q**(-1))/(Ts*(1+q**(-1)))\n",
    "\n",
    "bf1, af1 = sp.fraction(Hf1)\n",
    "af1_poly = sp.Poly(af1, q)\n",
    "bf1_poly = sp.Poly(bf1, q)\n",
    "af1_coeffs = []\n",
    "bf1_coeffs = []\n",
    "for n in range(len(af1_poly.coeffs())):\n",
    "    af1_coeffs.append(sp.simplify(af1_poly.coeffs()[n]/af1_poly.coeffs()[0]))\n",
    "for n in range(len(bf1_poly.coeffs())):\n",
    "    bf1_coeffs.append(sp.simplify(bf1_poly.coeffs()[n]/af1_poly.coeffs()[0]))\n",
    "bf1_coeffs.insert(1, 0)\n",
    "\n",
    "Hf1 = (s/Am).subs(s, bilinear) \n",
    "Hf1 = sp.collect(sp.simplify(sp.expand(Hf1)), q)\n",
    "\n",
    "Hf0 = (1/Am).subs(s, bilinear) \n",
    "Hf0 = sp.collect(sp.simplify(sp.expand(Hf0)), q)\n",
    "\n",
    "bf0, af0 = sp.fraction(Hf0)\n",
    "af0_poly = sp.Poly(af0, q)\n",
    "bf0_poly = sp.Poly(bf0, q)\n",
    "af0_coeffs = []\n",
    "bf0_coeffs = []\n",
    "for n in range(len(af0_poly.coeffs())):\n",
    "    af0_coeffs.append(sp.simplify(af0_poly.coeffs()[n]/af0_poly.coeffs()[0]))\n",
    "for n in range(len(bf0_poly.coeffs())):\n",
    "    bf0_coeffs.append(sp.simplify(bf0_poly.coeffs()[n]/af0_poly.coeffs()[0]))"
   ]
  },
  {
   "cell_type": "markdown",
   "id": "7e1cfbf9",
   "metadata": {
    "variables": {
     "af0_coeffs[0]": "$\\displaystyle 1$",
     "af0_coeffs[1]": "$\\displaystyle \\frac{2 \\left(T - 2\\right)}{T + 2}$",
     "af0_coeffs[2]": "$\\displaystyle \\frac{T^{2} - 4 T + 4}{T^{2} + 4 T + 4}$",
     "af1_coeffs[0]": "$\\displaystyle 1$",
     "af1_coeffs[1]": "$\\displaystyle \\frac{2 \\left(T - 2\\right)}{T + 2}$",
     "af1_coeffs[2]": "$\\displaystyle \\frac{T^{2} - 4 T + 4}{T^{2} + 4 T + 4}$",
     "bf0_coeffs[0]": "$\\displaystyle \\frac{T^{2}}{T^{2} + 4 T + 4}$",
     "bf0_coeffs[1]": "$\\displaystyle \\frac{2 T^{2}}{T^{2} + 4 T + 4}$",
     "bf0_coeffs[2]": "$\\displaystyle \\frac{T^{2}}{T^{2} + 4 T + 4}$",
     "bf1_coeffs[0]": "$\\displaystyle \\frac{2 T}{T^{2} + 4 T + 4}$",
     "bf1_coeffs[1]": "0",
     "bf1_coeffs[2]": "$\\displaystyle - \\frac{2 T}{T^{2} + 4 T + 4}$"
    }
   },
   "source": [
    "The coefficients for the denominator of the sampled filter $H_{f1}$ are given as, \n",
    "\n",
    "$ \\text{den}\\{H_{f1}\\}\\Big[${{af1_coeffs[0]}}, {{af1_coeffs[1]}}, {{af1_coeffs[2]}}$\\Big]$\n",
    "\n",
    "The coefficients for the numerator of the sampled filter $H_{f1}$ are given as, \n",
    "\n",
    "$ \\text{num}\\{H_{f1}\\}\\Big[${{bf1_coeffs[0]}}, {{bf1_coeffs[1]}}, {{bf1_coeffs[2]}}$\\Big]$\n",
    "\n",
    "The coefficients for the denominator of the sampled filtered $H_{f0}$ are given as, \n",
    "\n",
    "$ \\text{den}\\{H_{f0}\\}\\Big[${{af0_coeffs[0]}}, {{af0_coeffs[1]}}, {{af0_coeffs[2]}}$\\Big]$\n",
    "\n",
    "The coefficients for the denominator of the sampled filtered $H_{f0}$ are given as, \n",
    "\n",
    "$ \\text{num}\\{H_{f0}\\}\\Big[${{bf0_coeffs[0]}}, {{bf0_coeffs[1]}}, {{bf0_coeffs[2]}}$\\Big]$\n",
    "\n",
    "Attention is taken to two results: \n",
    "\n",
    "    1. The denominators are both the same, as they come from the reference model parameters\n",
    "    \n",
    "    2. The order of the coefficients goes from 0->2"
   ]
  },
  {
   "cell_type": "markdown",
   "id": "61abfc68",
   "metadata": {},
   "source": [
    "The following difference equations are then found for $ y_{f_i} $ and $ u_{f_i} $.\n",
    "\n",
    "$ y_{f1}(k) = \\frac{2T}{T^2 + 4T + 4}y(k) - \\frac{2T}{T^2 + 4T + 4}y(k-2) - \\frac{2(T-2)}{T+2}y_{f1}(k-1) - \\frac{T^2 - 4T + 4}{T^2 + 4T + 4}y_{f1}(k)$\n",
    "\n",
    "$ y_{f0}(k) = \\frac{T^2}{T^2 + 4T + 4}y(k) + \\frac{2T^2}{T^2 + 4T + 4}y(k-1) + \\frac{T^2}{T^2 + 4T + 4}y(k-2) - \\frac{2(T-2)}{T+2}y_{f0}(k-1) - \\frac{T^2 - 4T + 4}{T^2 + 4T + 4}y_{0}(k-2)$\n",
    "\n",
    "$ u_{f0}(k) = \\frac{T^2}{T^2 + 4T + 4}u(k) + \\frac{2T^2}{T^2 + 4T + 4}u(k-1) + \\frac{T^2}{T^2 + 4T + 4}u(k-2) - \\frac{2(T-2)}{T+2}u_{f0}(k-1) - \\frac{T^2 - 4T + 4}{T^2 + 4T + 4}u_{0}(k-2)$\n",
    "\n",
    "Furthermore, rearranging the equation for $ y_{f2}(k) $ we find, \n",
    "\n",
    "$ y(k) = \\frac{T^2 + 4T + 4}{4}y_{f2}(k) + \\frac{T^2-4}{2}y_{f2}(k-1) + \\frac{T^2-4T+4}{4}y_{f2}(k-2) + 2y(k-1) - y(k-2)$\n"
   ]
  },
  {
   "cell_type": "markdown",
   "id": "ae412e0d",
   "metadata": {},
   "source": [
    "To find the control action, $u(k)$, we look to the equation, \n",
    "\n",
    "$ u(t) = \\frac{T}{R}u_c(t) - \\frac{S}{R}y(t) $"
   ]
  },
  {
   "cell_type": "markdown",
   "id": "cd8eefb8",
   "metadata": {},
   "source": [
    "The approach to find the discretized equation is the same as in the previous question so the details are neglected for readability, \n",
    "\n",
    "$ u(k) = -\\frac{r_1T - 2}{r_1T + 2}u(k-1) - \\frac{s_1T + 2s_0}{r_1T + 2}y(k) - \\frac{s_1T-2s_0}{r_1T + 2}y(k-1) + \\frac{a_0T + 2}{c(r_1T+2)}u_c(k) + \\frac{a_0-2)}{c(r_1T+2)}u_c(k-1)$"
   ]
  },
  {
   "cell_type": "markdown",
   "id": "45e0ac35",
   "metadata": {},
   "source": [
    "### Part 3"
   ]
  },
  {
   "cell_type": "code",
   "execution_count": 6,
   "id": "fb265e9a",
   "metadata": {},
   "outputs": [],
   "source": [
    "def reference_signal(time=np.linspace(0, 1000, 1001)):\n",
    "    sig = []\n",
    "    rat = 2.0/40.0*pi\n",
    "#     rat = 1.0/25.0*pi\n",
    "    for t_lop in time:\n",
    "        if sin(10*rat*t_lop) >= 0:\n",
    "            sig.append(1)\n",
    "        else:\n",
    "            sig.append(0)\n",
    "    return np.array(sig, dtype=float)"
   ]
  },
  {
   "cell_type": "code",
   "execution_count": 7,
   "id": "8d2a822d",
   "metadata": {},
   "outputs": [],
   "source": [
    "uc = reference_signal()\n",
    "lam = 0.01\n",
    "Ts = 0.1 \n",
    "end = 1000\n",
    "\n",
    "# Assignmnent, works\n",
    "am1 = -2*np.exp(-2)\n",
    "am2 = np.exp(-4)\n",
    "z_true, d_true, c_true = 1.5, 0.5, 2\n",
    "\n",
    "# # In class example, works perfectly!\n",
    "# am1 = -1.3205\n",
    "# am2 = 0.4966\n",
    "# a1_true, a2_true, b0_true, b1_true = -1.6065, 0.6065, 0.1065, 0.0902\n",
    "\n",
    "theta = np.array([z_true, d_true, c_true ]).reshape(3,1)  # a1[0], a2[1], b0[2], b1[3]"
   ]
  },
  {
   "cell_type": "code",
   "execution_count": 8,
   "id": "257c90b8",
   "metadata": {},
   "outputs": [],
   "source": [
    "theta_hat = np.array([0.1, 0.1, 0.1]).reshape(theta.shape)  # z d c\n",
    "theta_lst = np.concatenate((theta_hat,\n",
    "                            (theta_hat).reshape(3,1)), axis=1)\n",
    "\n",
    "y = np.zeros(2)\n",
    "u = np.zeros(2)\n",
    "\n",
    "\n",
    "y2 = np.zeros(2)\n",
    "y1 = np.zeros(2)\n",
    "y0 = np.zeros(2)\n",
    "u0 = np.zeros(2)\n",
    "\n",
    "P = 10*np.eye(3)\n",
    "\n",
    "    \n",
    "for t in range(2, end):\n",
    "    phi = np.array([-y1[t-1], -y0[t-1], u0[t-1]]).reshape(3,1)    \n",
    "    theta_hat = (theta_hat + Ts*(P @ phi)*(trans(phi) @ theta - trans(phi) @ theta_hat))\n",
    "    theta_lst = np.concatenate((theta_lst,\n",
    "                                theta_hat), axis=1)\n",
    "    P = inv(inv(P) + phi@trans(phi))\n",
    "    K = P@phi\n",
    "\n",
    "    \n",
    "    \n",
    "    r1 = (2-theta_hat[1])\n",
    "    s0 = (3 - theta_hat[1] * r1 - theta_hat[1] - r1)\n",
    "    s1 = (1 - theta_hat[1]*r1)/theta_hat[2]\n",
    "    \n",
    "    \n",
    "    \n",
    "    y2 = np.concatenate((y2,\n",
    "                         (trans(phi) @ theta).reshape(-1,)), axis=0)\n",
    "    \n",
    "    y = np.concatenate((y, \n",
    "                        (1.1025*y2[t] - 1.995*y2[t-1] + 0.9025*y2[t-2] + 2*y[t-1] - y[t-2]).reshape(-1)), axis=0)\n",
    "    u = np.concatenate((u, \n",
    "                        (1/(Ts*r1 + 2)*(-(Ts*r1 - 2)*u[t-1] -(Ts*s1 + 2*s0)*y[t]) - (Ts*s1 -2*s0)* y[t-1] + (Ts + 2)/theta_hat[2]*uc[t] + (Ts - 2)/theta_hat[2]*uc[t-1]).reshape(-1)), axis=0)\n",
    "      \n",
    "    y1 = np.concatenate((y1, \n",
    "                        (0.04535*y[t] - 0.0435*y[t-2] + 1.8095*y1[t-1] - 0.8186*y1[t-2]).reshape(-1)), axis=0)\n",
    "    y0 = np.concatenate((y0, \n",
    "                        (0.00227*y[t] + 0.00454*y[t-1] + 0.00227*y[t-2] + 1.8095*y0[t-1] - 0.8186*y0[t-2]).reshape(-1)), axis=0)\n",
    "    u0 = np.concatenate((u0, \n",
    "                        (0.00227*u[t] + 0.00454*u[t-1] + 0.00227*u[t-2] + 1.80952*u0[t-1] - 0.8186 * u0[t-2]).reshape(-1)), axis=0)\n",
    "    "
   ]
  },
  {
   "cell_type": "code",
   "execution_count": 9,
   "id": "5300414e",
   "metadata": {},
   "outputs": [
    {
     "data": {
      "image/png": "[encoded data removed]",
      "text/plain": [
       "<Figure size 432x288 with 1 Axes>"
      ]
     },
     "metadata": {
      "needs_background": "light"
     },
     "output_type": "display_data"
    }
   ],
   "source": [
    "a, b = theta_lst.shape\n",
    "colours = ['blue', 'orange', 'green']\n",
    "for idx, th in enumerate(theta_lst):\n",
    "    plt.plot(th)\n",
    "    plt.hlines(theta[idx], 0, b, colours[idx], '--')\n",
    "plt.legend(['$\\hat{d+1}_0$', '$\\hat{d}_1$', '$\\hat{c}_0$'])\n",
    "plt.title('Parameters')\n",
    "plt.show()"
   ]
  },
  {
   "cell_type": "markdown",
   "id": "df7e1017",
   "metadata": {},
   "source": [
    "# Question 2"
   ]
  },
  {
   "cell_type": "code",
   "execution_count": 10,
   "id": "ab89b219",
   "metadata": {},
   "outputs": [],
   "source": [
    "import matplotlib.pyplot as plt\n",
    "import control as co\n",
    "import numpy as np\n",
    "import sympy as sp\n",
    "\n",
    "from numpy import transpose as trans\n",
    "from numpy import cos, sin, pi\n",
    "from numpy.linalg import inv"
   ]
  },
  {
   "cell_type": "markdown",
   "id": "765a89bf",
   "metadata": {},
   "source": [
    "Question Parameters"
   ]
  },
  {
   "cell_type": "code",
   "execution_count": 11,
   "id": "177eed1b",
   "metadata": {},
   "outputs": [],
   "source": [
    "a1, a2, b0, b1 = sp.symbols('\\hat{a}_1, \\hat{a}_2, \\hat{b}_0, \\hat{b}_1')\n",
    "r1, s0, s1, a0 = sp.symbols('r_1, s_0, s_1, a_0')\n",
    "am1, am2 = sp.symbols('a_{m1}, a_{m2}')\n",
    "y, u, uc = sp.symbols('y, u, u_c')\n",
    "q = sp.symbols('q')"
   ]
  },
  {
   "cell_type": "code",
   "execution_count": 12,
   "id": "bf8244c2",
   "metadata": {},
   "outputs": [
    {
     "data": {
      "text/latex": [
       "$\\displaystyle \\frac{\\hat{b}_0 q + \\hat{b}_1}{\\hat{a}_1 q + \\hat{a}_2 + q^{2}}$"
      ],
      "text/plain": [
       "(\\hat{b}_0*q + \\hat{b}_1)/(\\hat{a}_1*q + \\hat{a}_2 + q**2)"
      ]
     },
     "execution_count": 12,
     "metadata": {},
     "output_type": "execute_result"
    }
   ],
   "source": [
    "# A = (q**2 - 0.503215*q + 0.0497871)\n",
    "# B = (1.59831*q + 0.587984)\n",
    "A = (q**2 + a1*q + a2)\n",
    "B = (b0*q + b1)\n",
    "B_poly = sp.Poly(B, q)\n",
    "\n",
    "H = B/A\n",
    "B_plus = (q + B_poly.coeffs()[1]/B_poly.coeffs()[0])\n",
    "B_minus = B_poly.coeffs()[0]\n",
    "H"
   ]
  },
  {
   "cell_type": "code",
   "execution_count": 13,
   "id": "ddd726e4",
   "metadata": {},
   "outputs": [
    {
     "data": {
      "text/latex": [
       "$\\displaystyle a_{m1} q + a_{m2} + q^{2}$"
      ],
      "text/plain": [
       "a_{m1}*q + a_{m2} + q**2"
      ]
     },
     "execution_count": 13,
     "metadata": {},
     "output_type": "execute_result"
    }
   ],
   "source": [
    "# Am_test = co.sample_system(co.tf([1.], [1., 2., 1.]), Ts=2, method='zoh')\n",
    "# Am = q**2 - 0.2707*q + 0.01832\n",
    "Am = q**2 + am1*q + am2\n",
    "Am"
   ]
  },
  {
   "cell_type": "markdown",
   "id": "8916108f",
   "metadata": {
    "variables": {
     "G.subs(c, 2).subs(d, 1/2)": "$\\displaystyle \\frac{2}{s^{2} + 1.5 s + 0.5}$"
    }
   },
   "source": [
    "## 2.1 Sampler (Bonus)\n",
    "\n",
    "The original equations for the plany is given by $G = ${{G.subs(c, 2).subs(d, 1/2)}}"
   ]
  },
  {
   "cell_type": "code",
   "execution_count": 14,
   "id": "47159fb2",
   "metadata": {},
   "outputs": [
    {
     "data": {
      "text/latex": [
       "$$\\frac{1.598 z + 0.588}{z^2 - 0.5032 z + 0.04979}\\quad dt = 2$$"
      ],
      "text/plain": [
       "TransferFunction(array([1.5983056 , 0.58798377]), array([ 1.        , -0.50321472,  0.04978707]), 2)"
      ]
     },
     "execution_count": 14,
     "metadata": {},
     "output_type": "execute_result"
    }
   ],
   "source": [
    "co.sample_system(co.tf([2.], [1., 1.5, 0.5]), Ts=2, method='zoh')"
   ]
  },
  {
   "cell_type": "markdown",
   "id": "40c334e1",
   "metadata": {},
   "source": [
    "# 2.2 Indirect Linear Controller Design Using MDPP "
   ]
  },
  {
   "cell_type": "markdown",
   "id": "5ae7debd",
   "metadata": {},
   "source": [
    "We begin by factorizing B as follows, \n",
    "\n",
    "$$ B = B(q)^+B(q)^- = (q + 0.36788)(1.59831) $$"
   ]
  },
  {
   "cell_type": "markdown",
   "id": "547f8565",
   "metadata": {},
   "source": [
    "To cancel the zeros, we require that they are stable and well-damped. In this case the zero is q = -0.36788 and is thus stable (inside the unit circle) and well-damped (sufficiently far from the unit circle). It is then clear that we may cancel the zeros. \n",
    "\n",
    "Using the compatability conditions: \n",
    "$$ \\text{deg}A_m = \\text{deg}A = 2 $$\n",
    "$$ \\text{deg}B_m = \\text{deg}B = \\text{degB}^+ = 1 $$\n",
    "$$ \\text{deg}A_0=\\text{deg}A - \\text{deg}B^+-1=0 $$\n",
    "\n",
    "With this we can find, \n",
    "$$ \\text{deg}A_c = \\text{deg}A_o + \\text{deg}A_m + \\text{deg}B^+ = 3 $$\n",
    "\n",
    "From the minimum phase conditions we then get that, \n",
    "\n",
    "$$  \\text{deg}R = \\text{deg}S = \\text{deg}T = \\text{deg}A_c - \\text{deg}A = 1 $$"
   ]
  },
  {
   "cell_type": "markdown",
   "id": "185f40d6",
   "metadata": {},
   "source": [
    "Noting that $ \\text{deg}R= 1 $ and $ \\text{deg}B^+ = 1 $ then it follows that \n",
    "$$ \\text{deg}R' = 0 $$\n",
    "\n",
    "Let $ R' = 1 $, then the left hand side (LHS) of the Diophatine equation becomes, \n",
    "$$ \\text{LHS} = AR' + B^-S $$"
   ]
  },
  {
   "cell_type": "code",
   "execution_count": 15,
   "id": "2a479605",
   "metadata": {
    "scrolled": true
   },
   "outputs": [],
   "source": [
    "LHS = A + B_minus*(s0*q + s1)\n"
   ]
  },
  {
   "cell_type": "markdown",
   "id": "52829666",
   "metadata": {},
   "source": [
    "From the compatability conditions, we get the $ \\text{deg}A_o = 0 $, thus we choose it to be, \n",
    "$$ A_o = 1 $$\n",
    "The right hand side (RHS) of the Diophantine equation becomes, \n",
    "$$ \\text{RHS} = A_oA_m $$"
   ]
  },
  {
   "cell_type": "code",
   "execution_count": 16,
   "id": "59104c5f",
   "metadata": {},
   "outputs": [],
   "source": [
    "RHS = Am"
   ]
  },
  {
   "cell_type": "code",
   "execution_count": 17,
   "id": "d280d69a",
   "metadata": {},
   "outputs": [],
   "source": [
    "dio_poly = sp.Poly(sp.collect(LHS - RHS, q), q)"
   ]
  },
  {
   "cell_type": "markdown",
   "id": "de077828",
   "metadata": {},
   "source": [
    "To find $ s_0 $ we consider the first degree terms,"
   ]
  },
  {
   "cell_type": "code",
   "execution_count": 18,
   "id": "97878553",
   "metadata": {},
   "outputs": [
    {
     "data": {
      "text/latex": [
       "$\\displaystyle \\frac{- \\hat{a}_1 + a_{m1}}{\\hat{b}_0}$"
      ],
      "text/plain": [
       "(-\\hat{a}_1 + a_{m1})/\\hat{b}_0"
      ]
     },
     "execution_count": 18,
     "metadata": {},
     "output_type": "execute_result"
    }
   ],
   "source": [
    "s0_sym = sp.solve(dio_poly.coeffs()[0], s0)[0]\n",
    "s0_sym"
   ]
  },
  {
   "cell_type": "markdown",
   "id": "fd46c091",
   "metadata": {},
   "source": [
    "To find $ s_1 $ we consider the equations that are constant in q, "
   ]
  },
  {
   "cell_type": "code",
   "execution_count": 19,
   "id": "d8bebd3b",
   "metadata": {},
   "outputs": [
    {
     "data": {
      "text/latex": [
       "$\\displaystyle \\frac{- \\hat{a}_2 + a_{m2}}{\\hat{b}_0}$"
      ],
      "text/plain": [
       "(-\\hat{a}_2 + a_{m2})/\\hat{b}_0"
      ]
     },
     "execution_count": 19,
     "metadata": {},
     "output_type": "execute_result"
    }
   ],
   "source": [
    "s1_sym = sp.solve(dio_poly.coeffs()[1], s1)[0]\n",
    "S = (s0_sym*q + s1_sym)\n",
    "R = B_plus\n",
    "s1_sym"
   ]
  },
  {
   "cell_type": "markdown",
   "id": "94b08ac0",
   "metadata": {
    "variables": {
     "S": "$\\displaystyle \\frac{q \\left(- \\hat{a}_1 + a_{m1}\\right)}{\\hat{b}_0} + \\frac{- \\hat{a}_2 + a_{m2}}{\\hat{b}_0}$"
    }
   },
   "source": [
    "With this the $ S $ polynomial is,\n",
    "\n",
    "$ S = $ {{S}}\n"
   ]
  },
  {
   "cell_type": "code",
   "execution_count": 1,
   "id": "333f9676",
   "metadata": {},
   "outputs": [
    {
     "ename": "NameError",
     "evalue": "name 'b1' is not defined",
     "output_type": "error",
     "traceback": [
      "\u001b[1;31m---------------------------------------------------------------------------\u001b[0m",
      "\u001b[1;31mNameError\u001b[0m                                 Traceback (most recent call last)",
      "\u001b[1;32m~\\AppData\\Local\\Temp/ipykernel_13628/645740438.py\u001b[0m in \u001b[0;36m<module>\u001b[1;34m\u001b[0m\n\u001b[1;32m----> 1\u001b[1;33m \u001b[0mr1_sym\u001b[0m \u001b[1;33m=\u001b[0m \u001b[0mb1\u001b[0m\u001b[1;33m/\u001b[0m\u001b[0mb0\u001b[0m\u001b[1;33m\u001b[0m\u001b[1;33m\u001b[0m\u001b[0m\n\u001b[0m\u001b[0;32m      2\u001b[0m \u001b[0mr1_sym\u001b[0m\u001b[1;33m\u001b[0m\u001b[1;33m\u001b[0m\u001b[0m\n",
      "\u001b[1;31mNameError\u001b[0m: name 'b1' is not defined"
     ]
    }
   ],
   "source": [
    "r1_sym = b1/b0\n",
    "r1_sym"
   ]
  },
  {
   "cell_type": "markdown",
   "id": "98718d88",
   "metadata": {
    "variables": {
     "B_plus": "$\\displaystyle q + \\frac{\\hat{b}_1}{\\hat{b}_0}$"
    }
   },
   "source": [
    "Additionally, we know that, $ R = R'B^+ $ and that $ R' = 1 $ thus, \n",
    "\n",
    "$ R = B^+ =$ {{B_plus}}"
   ]
  },
  {
   "cell_type": "markdown",
   "id": "57642252",
   "metadata": {
    "variables": {
     "R": "$\\displaystyle q + \\frac{\\hat{b}_1}{\\hat{b}_0}$"
    }
   },
   "source": [
    "The $R$ polynomial is given as, \n",
    "\n",
    "$R = ${{R}}"
   ]
  },
  {
   "cell_type": "markdown",
   "id": "3d83bc80",
   "metadata": {},
   "source": [
    "The T polynomial is found using, \n",
    "$$ T = A_oB_m' $$\n",
    "where $ B_m = B^-B_m' = A_m(1)q^{n - d_0} $"
   ]
  },
  {
   "cell_type": "code",
   "execution_count": 21,
   "id": "d526840f",
   "metadata": {},
   "outputs": [],
   "source": [
    "Bm = Am.subs(q, 1)*q\n",
    "t0_sym = Bm/B_minus\n",
    "T = t0_sym"
   ]
  },
  {
   "cell_type": "markdown",
   "id": "e8283ced",
   "metadata": {
    "variables": {
     "T": "$\\displaystyle \\frac{q \\left(a_{m1} + a_{m2} + 1\\right)}{\\hat{b}_0}$"
    }
   },
   "source": [
    "Then $T$ is, \n",
    "\n",
    "$ T = $ {{T}}"
   ]
  },
  {
   "cell_type": "markdown",
   "id": "240710e7",
   "metadata": {
    "variables": {
     "R": "$\\displaystyle q + \\frac{\\hat{b}_1}{\\hat{b}_0}$",
     "S": "$\\displaystyle \\frac{q \\left(- \\hat{a}_1 + a_{m1}\\right)}{\\hat{b}_0} + \\frac{- \\hat{a}_2 + a_{m2}}{\\hat{b}_0}$",
     "T": "$\\displaystyle \\frac{q \\left(a_{m1} + a_{m2} + 1\\right)}{\\hat{b}_0}$"
    }
   },
   "source": [
    "As a summary, the control polynomials are given by, \n",
    "\n",
    "$ R = q + r_1 = $ {{R}}\n",
    "\n",
    "$ S = s_0q + s_1 = $ {{S}}\n",
    "\n",
    "$ T = t_0q = $ {{T}}"
   ]
  },
  {
   "cell_type": "markdown",
   "id": "c318cefc",
   "metadata": {},
   "source": [
    "These values are then used in the linear controller algorithm, \n",
    "\n",
    "$ Ru(t) = Tu_c(t) -Sy(t) $\n",
    "\n",
    "$u(t) = -r_1u(t-1) + t_0u_c(t) - s_0y(t) - s_1y(t-1) $"
   ]
  },
  {
   "cell_type": "markdown",
   "id": "630780fb",
   "metadata": {},
   "source": [
    "The output equation is given by, \n",
    "\n",
    "$ y(t) = \\phi(t-1)^T\\theta $\n",
    "\n",
    "where, \n",
    "\n",
    "$ \\phi(t-1)^T = \\big[-y(t-1)\\ -y(t-2)\\ u(t-1)\\ u(t-2)\\big]$\n",
    "\n",
    "$ \\hat{\\theta} = \\big[\\hat{a}_1\\ \\hat{a}_2\\ \\hat{b}_0\\ \\hat{b}_1\\big]^T$"
   ]
  },
  {
   "cell_type": "markdown",
   "id": "c92cc727",
   "metadata": {},
   "source": [
    "## 2.3-4 Minimal Degree Pole Placement Algorithm for Indirect Controller and Simulation"
   ]
  },
  {
   "cell_type": "code",
   "execution_count": 22,
   "id": "be5c4309",
   "metadata": {},
   "outputs": [],
   "source": [
    "def reference_signal(time=np.linspace(0, 100, 101)):\n",
    "    sig = []\n",
    "    rat = 2.0/40.0*pi\n",
    "#     rat = 1.0/25.0*pi\n",
    "    for t_lop in time:\n",
    "        if sin(rat*t_lop) >= 0:\n",
    "            sig.append(1)\n",
    "        else:\n",
    "            sig.append(0)\n",
    "    return np.array(sig, dtype=float)\n",
    "\n",
    "def noise_generator(time=np.linspace(0, 100, 101)):\n",
    "    noise = []\n",
    "    for t_lop in time:\n",
    "        if t_lop < 35:\n",
    "            noise.append(0)\n",
    "        else: \n",
    "            noise.append(0.25)\n",
    "    return np.array(noise)"
   ]
  },
  {
   "cell_type": "markdown",
   "id": "e4de184b",
   "metadata": {},
   "source": [
    "We start by initializing the values of the variables, "
   ]
  },
  {
   "cell_type": "code",
   "execution_count": 23,
   "id": "52beaa75",
   "metadata": {},
   "outputs": [],
   "source": [
    "uc = reference_signal()\n",
    "lam = 1\n",
    "\n",
    "# Assignmnent, works\n",
    "am1 = -2*np.exp(-2)\n",
    "am2 = np.exp(-4)\n",
    "a1_true, a2_true, b0_true, b1_true = -0.503215, 0.0497871, 1.59831, 0.587984\n",
    "\n",
    "# # In class example, works perfectly!\n",
    "# am1 = -1.3205\n",
    "# am2 = 0.4966\n",
    "# a1_true, a2_true, b0_true, b1_true = -1.6065, 0.6065, 0.1065, 0.0902\n",
    "\n",
    "theta = np.array([a1_true, a2_true, b0_true, b1_true]).reshape(4,1)  # a1[0], a2[1], b0[2], b1[3]"
   ]
  },
  {
   "cell_type": "code",
   "execution_count": 24,
   "id": "c6008cbb",
   "metadata": {},
   "outputs": [],
   "source": [
    "# Initializing the coefficients for A, B for t = 0\n",
    "theta_hat = np.array([0., 0., 0.5, 0.2]).reshape(4,1)  # a1[0], a2[1], b0[2], b1[3]  ** SET b0 TO 0.01 FOR CONVERGENCE**\n",
    "a1_est, a2_est, b0_est, b1_est = theta_hat[0], theta_hat[1], theta_hat[2], theta_hat[3]\n",
    "P = np.diag([10, 1, 100, 10])  # WORKS \n",
    "# P = np.diag([100, 100, 100, 100])  # WORKS \n",
    "\n",
    "# Calculating the control parameters for t = 0\n",
    "y = np.array([0])\n",
    "y_hat = y\n",
    "t0 = (am1 + am2 + 1)/theta_hat[2]\n",
    "s0 = (am1 - theta_hat[0])/theta_hat[2]\n",
    "u = t0*uc[0] - s0*y[0]\n",
    "\n",
    "# Calculating the coefficients for A, B for t = 1\n",
    "# phi = np.array([-y[0], 0, u[0], 0]).reshape(4,1)\n",
    "phi = np.array([0., 0., 0., 0.]).reshape(4,1)\n",
    "y = np.concatenate((y, \n",
    "                    (trans(phi) @ theta).reshape(-1)), axis=0)\n",
    "\n",
    "K = P @ phi @ inv(lam + trans(phi) @ P @ phi)\n",
    "theta_hat = theta_hat + K @ (y[1] - trans(phi) @ theta_hat)\n",
    "P = (np.eye(len(phi)) - K @ trans(phi)) @ P /lam\n",
    "\n",
    "a1_est = np.concatenate((a1_est, theta_hat[0]), axis=0)\n",
    "a2_est = np.concatenate((a2_est, theta_hat[1]), axis=0)\n",
    "b0_est = np.concatenate((b0_est, theta_hat[2]), axis=0)\n",
    "b1_est = np.concatenate((b1_est, theta_hat[3]), axis=0)\n",
    "\n",
    "# Calculating the control parameters for t = 1\n",
    "r1 = theta_hat[3]/theta_hat[2]\n",
    "t0 = (am1 + am2 + 1)/theta_hat[2]\n",
    "s0 = (am1 - theta_hat[0])/theta_hat[2]\n",
    "s1 = (am2 - theta_hat[1])/theta_hat[2]\n",
    "u = np.concatenate((u, \n",
    "                    -r1*u[0] + t0*uc[1] - s0*y[1] - s1*y[0]))\n",
    "\n",
    "for t in np.arange(2, 101): \n",
    "    # Calculating the coefficients for A, B for t \n",
    "    phi = np.array([-y[t-1], -y[t-2], u[t-1], u[t-2]]).reshape(4,1)\n",
    "    y = np.concatenate((y, \n",
    "                    (trans(phi) @ theta).reshape(-1)), axis=0)\n",
    "    K = P @ phi @ inv(lam + trans(phi) @ P @ phi)\n",
    "    theta_hat += K @ (y[t] - trans(phi) @ theta_hat)\n",
    "    P = (np.eye(len(phi)) - K @ trans(phi)) @ P /lam\n",
    "    a1_est = np.concatenate((a1_est, theta_hat[0]), axis=0)\n",
    "    a2_est = np.concatenate((a2_est, theta_hat[1]), axis=0)\n",
    "    b0_est = np.concatenate((b0_est, theta_hat[2]), axis=0)\n",
    "    b1_est = np.concatenate((b1_est, theta_hat[3]), axis=0)\n",
    "    \n",
    "    # Calculating the control parameters for t \n",
    "    r1 = theta_hat[3]/theta_hat[2]\n",
    "    t0 = (am1 + am2 + 1)/theta_hat[2]\n",
    "    s0 = (am1 - theta_hat[0])/theta_hat[2]\n",
    "    s1 = (am2 - theta_hat[1])/theta_hat[2]\n",
    "    u = np.concatenate((u, \n",
    "                        -r1*u[t-1] + t0*uc[t] - s0*y[t] - s1*y[t-1]))"
   ]
  },
  {
   "cell_type": "code",
   "execution_count": 25,
   "id": "c54c6267",
   "metadata": {
    "scrolled": true
   },
   "outputs": [
    {
     "data": {
      "image/png": "[encoded data removed]",
      "text/plain": [
       "<Figure size 432x288 with 1 Axes>"
      ]
     },
     "metadata": {
      "needs_background": "light"
     },
     "output_type": "display_data"
    }
   ],
   "source": [
    "plt.plot(np.linspace(0, 100, 101), y)\n",
    "plt.plot(np.linspace(0, 100, 101), uc)\n",
    "# plt.plot(y[45:60])\n",
    "# plt.plot(uc[45:60])\n",
    "plt.legend(['y',\n",
    "            'u_c'])\n",
    "plt.title('System Output and Reference')\n",
    "plt.show()"
   ]
  },
  {
   "cell_type": "code",
   "execution_count": 26,
   "id": "e440cfdb",
   "metadata": {},
   "outputs": [
    {
     "data": {
      "image/png": "[encoded data removed]",
      "text/plain": [
       "<Figure size 432x288 with 1 Axes>"
      ]
     },
     "metadata": {
      "needs_background": "light"
     },
     "output_type": "display_data"
    }
   ],
   "source": [
    "plt.step(np.linspace(0, 100, 101), u, 'g')\n",
    "# plt.step(u[5:], 'g')\n",
    "plt.legend(['u'])\n",
    "plt.title('Control Action vs. Time')\n",
    "plt.show()"
   ]
  },
  {
   "cell_type": "code",
   "execution_count": 27,
   "id": "0161dbbc",
   "metadata": {},
   "outputs": [
    {
     "data": {
      "image/png": "[encoded data removed]",
      "text/plain": [
       "<Figure size 432x288 with 1 Axes>"
      ]
     },
     "metadata": {
      "needs_background": "light"
     },
     "output_type": "display_data"
    }
   ],
   "source": [
    "plt.plot(a1_est)\n",
    "plt.hlines(a1_true, 0, 100, 'blue', '--')\n",
    "\n",
    "plt.plot(a2_est)\n",
    "plt.hlines(a2_true, 0, 100, 'orange', '--')\n",
    "\n",
    "plt.plot(b0_est)\n",
    "plt.hlines(b0_true, 0, 100, 'green', '--')\n",
    "\n",
    "plt.plot(b1_est)\n",
    "plt.hlines(b1_true, 0, 100, 'red', '--')\n",
    "plt.title('Parameters')\n",
    "plt.legend(['$\\hat{a}_1$', '$\\hat{a}_2$', '$\\hat{b}_0$', '$\\hat{b}_1$'])\n",
    "plt.show()"
   ]
  },
  {
   "cell_type": "markdown",
   "id": "1524288e",
   "metadata": {},
   "source": [
    "## 2.5 Disturbance Rejection"
   ]
  },
  {
   "cell_type": "code",
   "execution_count": 28,
   "id": "5160a4d9",
   "metadata": {},
   "outputs": [],
   "source": [
    "R0 = R\n",
    "S0 = S\n",
    "T0 = T\n",
    "ro1, so0, so1 = sp.symbols('r_{o1},s_{o0},s_{o1}]')\n",
    "x0, y0 = sp.symbols('x_0,y_0')"
   ]
  },
  {
   "cell_type": "code",
   "execution_count": 29,
   "id": "0e2cde15",
   "metadata": {},
   "outputs": [],
   "source": [
    "X = q\n",
    "Y = -sp.simplify(R0.subs(q, 1)/B.subs(q, 1))"
   ]
  },
  {
   "cell_type": "markdown",
   "id": "9acc1531",
   "metadata": {
    "variables": {
     "Y": "$\\displaystyle - \\frac{1}{\\hat{b}_0}$"
    }
   },
   "source": [
    "Placing the integrator pole at the origin gives,\n",
    "\n",
    "$ X = q + x_0 = q $\n",
    "\n",
    "and we define $Y$ to be, \n",
    "\n",
    "$ Y = y_0 = -\\frac{R^0(1)}{B(1)} = $ {{Y}}"
   ]
  },
  {
   "cell_type": "markdown",
   "id": "c6440270",
   "metadata": {},
   "source": [
    "We find the new polynomial $R = XR^0 + YB$"
   ]
  },
  {
   "cell_type": "code",
   "execution_count": 30,
   "id": "b7e33a14",
   "metadata": {},
   "outputs": [],
   "source": [
    "Rdist = sp.simplify(X*(q + ro1) + y0*B)\n",
    "Rdist = sp.collect(sp.expand(Rdist.subs(ro1, r1_sym).subs(y0, Y)), q)"
   ]
  },
  {
   "cell_type": "markdown",
   "id": "f90a8f0e",
   "metadata": {
    "variables": {
     "Rdist": "$\\displaystyle q^{2} + q \\left(-1 + \\frac{\\hat{b}_1}{\\hat{b}_0}\\right) - \\frac{\\hat{b}_1}{\\hat{b}_0}$"
    }
   },
   "source": [
    "$R = ${{Rdist}}"
   ]
  },
  {
   "cell_type": "markdown",
   "id": "14a1fb5d",
   "metadata": {},
   "source": [
    "Following the same method, we find $ S = XS^0 - YA $"
   ]
  },
  {
   "cell_type": "code",
   "execution_count": 31,
   "id": "58e7273c",
   "metadata": {},
   "outputs": [],
   "source": [
    "Sdist = sp.simplify(X*(so0*q + so1) - y0*A)\n",
    "Sdist = sp.collect(sp.expand(Sdist).subs(so0, s0_sym).subs(so1, s1_sym).subs(y0, Y), q)\n",
    "Sdist_poly = sp.Poly(Sdist, q)"
   ]
  },
  {
   "cell_type": "markdown",
   "id": "56a4b586",
   "metadata": {
    "variables": {
     "Sdist": "$\\displaystyle \\frac{\\hat{a}_2}{\\hat{b}_0} + q^{2} \\left(\\frac{- \\hat{a}_1 + a_{m1}}{\\hat{b}_0} + \\frac{1}{\\hat{b}_0}\\right) + q \\left(\\frac{\\hat{a}_1}{\\hat{b}_0} + \\frac{- \\hat{a}_2 + a_{m2}}{\\hat{b}_0}\\right)$",
     "T": "$\\displaystyle \\frac{q \\left(a_{m1} + a_{m2} + 1\\right)}{\\hat{b}_0}$"
    }
   },
   "source": [
    "$ S = ${{Sdist}}\n",
    "\n",
    "$ T = ${{T}}"
   ]
  },
  {
   "cell_type": "code",
   "execution_count": null,
   "id": "cea6d236",
   "metadata": {},
   "outputs": [],
   "source": []
  },
  {
   "cell_type": "markdown",
   "id": "df6a2f00",
   "metadata": {},
   "source": [
    "Noting that the $T$ polynomial doesn't change we get the control signal as, \n",
    "\n",
    "$ u(t) = -r_{11}u(t-1) - r_{12}u(t-2) + t_0u_c(t-1) - s_{10}y(t) - s_{11}y(t-1) - s_{12}y(t-2) $"
   ]
  },
  {
   "cell_type": "markdown",
   "id": "b99c5c87",
   "metadata": {},
   "source": [
    "We now model the system as, \n",
    "\n",
    "$ A_dAy(t) = A_dB\\big(u_(t) + v(t)\\big) $\n",
    "\n",
    "we define $ A_d = (q - 1)$\n",
    "\n",
    "Factoring and cancelling a $q$ term on each side, \n",
    "\n",
    "$ (1-q^{-1})Ay(t) = (1-q^{-1})B\\big(u_(t) + v(t)\\big) $\n",
    "\n",
    "Note that the addition of the $A_d$ term to compensate for the noise changes the estimator, and thus changes the regressor. The RLS is now learning the filtered output, $ y_f(t) = A_dy(t) $, but the paramters stay the same. To fix the model, we note that, \n",
    "\n",
    "$ y_f(t) = (1-q^{-1})y(t)  $\n",
    "\n",
    "$ y(t) = y_f(t) + y(t-1) $\n",
    "\n",
    "The same argument is made for $u_f(t) = u(t) - u(t-1)$"
   ]
  },
  {
   "cell_type": "markdown",
   "id": "2aefc1a0",
   "metadata": {},
   "source": [
    "## 2.6 Plotting"
   ]
  },
  {
   "cell_type": "markdown",
   "id": "dccf73d9",
   "metadata": {},
   "source": [
    "### Uncompensated Noise\n",
    "\n",
    "The following blocks find the uncompensated response with disturbance "
   ]
  },
  {
   "cell_type": "code",
   "execution_count": 32,
   "id": "ffb11b64",
   "metadata": {},
   "outputs": [],
   "source": [
    "uc = reference_signal()\n",
    "v = noise_generator()\n",
    "lam = 1\n",
    "\n",
    "# Assignmnent, works\n",
    "am1 = -2*np.exp(-2)\n",
    "am2 = np.exp(-4)\n",
    "a1_true, a2_true, b0_true, b1_true = -0.503215, 0.0497871, 1.59831, 0.587984\n",
    "\n",
    "# # In class example, works perfectly!\n",
    "# am1 = -1.3205\n",
    "# am2 = 0.4966\n",
    "# a1_true, a2_true, b0_true, b1_true = -1.6065, 0.6065, 0.1065, 0.0902\n",
    "\n",
    "theta = np.array([a1_true, a2_true, b0_true, b1_true]).reshape(4,1)  # a1[0], a2[1], b0[2], b1[3]"
   ]
  },
  {
   "cell_type": "code",
   "execution_count": 33,
   "id": "e22bf926",
   "metadata": {},
   "outputs": [],
   "source": [
    "# Initializing the coefficients for A, B for t = 0\n",
    "theta_hat = np.array([0., 0., 0.5, 0.2]).reshape(4,1)  # a1[0], a2[1], b0[2], b1[3]  ** SET b0 TO 0.01 FOR CONVERGENCE**\n",
    "a1_est, a2_est, b0_est, b1_est = theta_hat[0], theta_hat[1], theta_hat[2], theta_hat[3]\n",
    "P = np.diag([10, 1, 100, 10])  # WORKS \n",
    "# P = np.diag([100, 100, 100, 100])  # WORKS \n",
    "\n",
    "# Calculating the control parameters for t = 0\n",
    "y = np.array([0])\n",
    "y_hat = y\n",
    "t0 = (am1 + am2 + 1)/theta_hat[2]\n",
    "s0 = (am1 - theta_hat[0])/theta_hat[2]\n",
    "u = t0*uc[0] - s0*y[0]\n",
    "\n",
    "e_uncomp = np.array([y[0] - uc[0]])\n",
    "\n",
    "# Calculating the coefficients for A, B for t = 1\n",
    "# phi = np.array([-y[0], 0, u[0], 0]).reshape(4,1)\n",
    "phi = np.array([0., 0., 0., 0.]).reshape(4,1)\n",
    "y = np.concatenate((y, \n",
    "                    (trans(phi) @ theta).reshape(-1)), axis=0)\n",
    "e_uncomp = np.concatenate((e_uncomp, np.array([y[1] - uc[1]])))\n",
    "\n",
    "K = P @ phi @ inv(lam + trans(phi) @ P @ phi)\n",
    "theta_hat = theta_hat + K @ (y[1] - trans(phi) @ theta_hat)\n",
    "P = (np.eye(len(phi)) - K @ trans(phi)) @ P /lam\n",
    "\n",
    "a1_est = np.concatenate((a1_est, theta_hat[0]), axis=0)\n",
    "a2_est = np.concatenate((a2_est, theta_hat[1]), axis=0)\n",
    "b0_est = np.concatenate((b0_est, theta_hat[2]), axis=0)\n",
    "b1_est = np.concatenate((b1_est, theta_hat[3]), axis=0)\n",
    "\n",
    "# Calculating the control parameters for t = 1\n",
    "r1 = theta_hat[3]/theta_hat[2]\n",
    "t0 = (am1 + am2 + 1)/theta_hat[2]\n",
    "s0 = (am1 - theta_hat[0])/theta_hat[2]\n",
    "s1 = (am2 - theta_hat[1])/theta_hat[2]\n",
    "u = np.concatenate((u, \n",
    "                    -r1*u[0] + t0*uc[1] - s0*y[1] - s1*y[0]))\n",
    "\n",
    "for t in np.arange(2, 101): \n",
    "    # Calculating the coefficients for A, B for t \n",
    "    phi = np.array([-y[t-1], -y[t-2], u[t-1], u[t-2]]).reshape(4,1)\n",
    "    y = np.concatenate((y, \n",
    "                    (trans(phi) @ theta).reshape(-1)), axis=0)\n",
    "    e_uncomp = np.concatenate((e_uncomp, np.array([y[t] - uc[t]])))\n",
    "    K = P @ phi @ inv(lam + trans(phi) @ P @ phi)\n",
    "    theta_hat += K @ (y[t] - trans(phi) @ theta_hat)\n",
    "    P = (np.eye(len(phi)) - K @ trans(phi)) @ P /lam\n",
    "    a1_est = np.concatenate((a1_est, theta_hat[0]), axis=0)\n",
    "    a2_est = np.concatenate((a2_est, theta_hat[1]), axis=0)\n",
    "    b0_est = np.concatenate((b0_est, theta_hat[2]), axis=0)\n",
    "    b1_est = np.concatenate((b1_est, theta_hat[3]), axis=0)\n",
    "    \n",
    "    # Calculating the control parameters for t \n",
    "    r1 = theta_hat[3]/theta_hat[2]\n",
    "    t0 = (am1 + am2 + 1)/theta_hat[2]\n",
    "    s0 = (am1 - theta_hat[0])/theta_hat[2]\n",
    "    s1 = (am2 - theta_hat[1])/theta_hat[2]\n",
    "    u = np.concatenate((u, \n",
    "                        -r1*u[t-1] + t0*uc[t] - s0*y[t] - s1*y[t-1] + v[t]))\n",
    "    \n",
    "y_uncomp = y"
   ]
  },
  {
   "cell_type": "code",
   "execution_count": 34,
   "id": "d6ca9ac3",
   "metadata": {},
   "outputs": [],
   "source": [
    "def params():\n",
    "    global theta_hat, am1, am2\n",
    "    rdist1 = (theta_hat[3]/theta_hat[2] - 1)\n",
    "    rdist2 = -theta_hat[3]/theta_hat[2]\n",
    "    sdist0 = (am1 - theta_hat[0] + 1)/(theta_hat[2])\n",
    "    sdist1 = (theta_hat[0] - theta_hat[1] + am2)/theta_hat[2]\n",
    "    sdist2 = theta_hat[1]/theta_hat[2]\n",
    "    tdist0 = (am1 + am2 + 1)/theta_hat[2]\n",
    "#     print(np.array([rdist1, rdist2, sdist0, sdist1, sdist2, tdist0]).reshape(1,-1))\n",
    "    return np.array([rdist1, rdist2, sdist0, sdist1, sdist2, tdist0]).reshape(1,-1)"
   ]
  },
  {
   "cell_type": "code",
   "execution_count": 35,
   "id": "9e9fe508",
   "metadata": {},
   "outputs": [],
   "source": [
    "uc = reference_signal()\n",
    "v = noise_generator()\n",
    "lam = 1\n",
    "# Assignmnent, works\n",
    "am1 = -2*np.exp(-2)\n",
    "am2 = np.exp(-4)\n",
    "a1_true, a2_true, b0_true, b1_true = -0.503215, 0.0497871, 1.59831, 0.587984\n",
    "\n",
    "\n",
    "theta = np.array([a1_true, a2_true, b0_true, b1_true]).reshape(4,1)  # a1[0], a2[1], b0[2], b1[3]"
   ]
  },
  {
   "cell_type": "code",
   "execution_count": 36,
   "id": "172ec4f7",
   "metadata": {},
   "outputs": [],
   "source": [
    "# Initializing the coefficients for A, B for t = 0\n",
    "theta_hat = np.array([0., 0., 1., 0.2]).reshape(4,1)  # a1[0], a2[1], b0[2], b1[3]  ** SET b0 TO 0.01 FOR CONVERGENCE**\n",
    "theta_lst = theta_hat\n",
    "a1_est, a2_est, b0_est, b1_est = theta_hat[0], theta_hat[1], theta_hat[2], theta_hat[3]\n",
    "P = np.diag([10, 10, 100, 10])  # WORKS \n",
    "# P = 100*np.eye(4)\n",
    "\n",
    "# Calculating the control parameters for t = 0\n",
    "yf = np.array([0] + v[0])\n",
    "y = np.array([0])\n",
    "vec = np.array([0., 0., -y[0], 0., 0., 0.]).reshape(-1,1)\n",
    "u = (params()@vec).reshape(-1)\n",
    "uf = np.array([u[0]])\n",
    "\n",
    "e_comp = np.array([y[0] - uc[0]])\n",
    "\n",
    "\n",
    "# Calculating the coefficients for A, B for t = 1\n",
    "phi = np.array([0., 0., 0., 0.]).reshape(4,1)\n",
    "yf = np.concatenate((yf, \n",
    "                    (trans(phi) @ theta + v[1] - v[0]).reshape(-1)), axis=0)\n",
    "y = np.concatenate((y, \n",
    "                    (yf[1] + y[0]).reshape(-1)), axis=0)\n",
    "e_comp = np.concatenate((e_comp, np.array([y[1] - uc[1]])))\n",
    "vec = np.array([-u[0], 0., -y[1], -y[0], 0., uc[0]]).reshape(-1,1)\n",
    "u = np.concatenate((u,\n",
    "                    (params()@vec).reshape(-1)), axis=0)\n",
    "uf = np.concatenate((uf,\n",
    "                    (u[1] - u[0]).reshape(-1)), axis=0)\n",
    "K = P @ phi @ inv(lam + trans(phi) @ P @ phi)\n",
    "theta_hat = theta_hat + K @ (yf[1] - trans(phi) @ theta_hat)\n",
    "theta_lst = np.concatenate((theta_lst, theta_hat), axis=1)\n",
    "P = (np.eye(len(phi)) - K @ trans(phi)) @ P /lam\n",
    "\n",
    "# Calculating the coefficients for A, B for t = 2\n",
    "phi = np.array([-yf[0], 0., uf[0], 0.]).reshape(4,1)\n",
    "yf = np.concatenate((yf, \n",
    "                    (trans(phi) @ theta + v[2] - v[1]).reshape(-1)), axis=0)\n",
    "y = np.concatenate((y, \n",
    "                    (yf[2] + y[1]).reshape(-1)), axis=0)\n",
    "e_comp = np.concatenate((e_comp, np.array([y[2] - uc[2]])))\n",
    "vec = np.array([-u[1], -u[0], -y[2], -y[1], -y[0], uc[1]]).reshape(-1,1)\n",
    "u = np.concatenate((u,\n",
    "                    (params()@vec).reshape(-1)), axis=-1)\n",
    "uf = np.concatenate((uf,\n",
    "                    (u[2] - u[1]).reshape(-1)), axis=0)\n",
    "K = P @ phi @ inv(lam + trans(phi) @ P @ phi)\n",
    "theta_hat = theta_hat + K @ (yf[2] - trans(phi) @ theta_hat)\n",
    "theta_lst = np.concatenate((theta_lst, theta_hat), axis=1)\n",
    "P = (np.eye(len(phi)) - K @ trans(phi)) @ P /lam\n",
    "\n",
    "for t in np.arange(3, 101): \n",
    "    # Calculating the coefficients for A, B for t = 2\n",
    "    phi = np.array([-yf[t-1], -yf[t-2], uf[t-1], uf[t-2]]).reshape(4,1)\n",
    "    yf = np.concatenate((yf, \n",
    "                        (trans(phi) @ theta + v[t] - v[t-1]).reshape(-1)), axis=0)\n",
    "    y = np.concatenate((y, \n",
    "                        (yf[t] + y[t-1]).reshape(-1)), axis=0)\n",
    "    e_comp = np.concatenate((e_comp, np.array([y[t] - uc[t]])))\n",
    "    vec = np.array([-u[t-1], -u[t-2], -y[t], -y[t-1], -y[t-2], uc[t-1]]).reshape(-1,1)\n",
    "    u = np.concatenate((u,\n",
    "                        (params()@vec).reshape(-1)), axis=0)\n",
    "    uf = np.concatenate((uf,\n",
    "                    (u[t] - u[t-1]).reshape(-1)), axis=0)\n",
    "    K = P @ phi @ inv(lam + trans(phi) @ P @ phi)\n",
    "    theta_hat = theta_hat + K @ (yf[t] - trans(phi) @ theta_hat)\n",
    "    theta_lst = np.concatenate((theta_lst, theta_hat), axis=1)\n",
    "    P = (np.eye(len(phi)) - K @ trans(phi)) @ P /lam\n",
    "    \n",
    "y_comp = y"
   ]
  },
  {
   "cell_type": "code",
   "execution_count": 37,
   "id": "10122660",
   "metadata": {},
   "outputs": [
    {
     "data": {
      "image/png": "[encoded data removed]",
      "text/plain": [
       "<Figure size 432x288 with 1 Axes>"
      ]
     },
     "metadata": {
      "needs_background": "light"
     },
     "output_type": "display_data"
    }
   ],
   "source": [
    "plt.plot(y_comp)\n",
    "plt.plot(y_uncomp)\n",
    "plt.plot(uc)\n",
    "plt.legend(['$y_{comp}$', '$y_{uncomp}$', '$u_c$'])\n",
    "plt.title('Response vs. Time')\n",
    "plt.show()"
   ]
  },
  {
   "cell_type": "code",
   "execution_count": 38,
   "id": "216ba5df",
   "metadata": {},
   "outputs": [
    {
     "data": {
      "image/png": "[encoded data removed]",
      "text/plain": [
       "<Figure size 432x288 with 1 Axes>"
      ]
     },
     "metadata": {
      "needs_background": "light"
     },
     "output_type": "display_data"
    }
   ],
   "source": [
    "plt.plot(e_comp)\n",
    "plt.plot(e_uncomp)\n",
    "plt.legend(['$e_{comp}$', '$e_{uncomp}$'])\n",
    "plt.title('Errors vs. Time')\n",
    "plt.show()"
   ]
  },
  {
   "cell_type": "code",
   "execution_count": 39,
   "id": "ad556bc6",
   "metadata": {},
   "outputs": [
    {
     "data": {
      "image/png": "[encoded data removed]",
      "text/plain": [
       "<Figure size 432x288 with 1 Axes>"
      ]
     },
     "metadata": {
      "needs_background": "light"
     },
     "output_type": "display_data"
    }
   ],
   "source": [
    "a, b = theta_lst.shape\n",
    "colours = ['blue', 'orange', 'green', 'red']\n",
    "for idx, th in enumerate(theta_lst):\n",
    "    plt.plot(th)\n",
    "    plt.hlines(theta[idx], 0, b, colours[idx], '--')\n",
    "plt.title('Parameters')\n",
    "plt.legend(['$\\hat{a}_1$', '$\\hat{a}_2$', '$\\hat{b}_0$', '$\\hat{b}_1$'])\n",
    "plt.show()"
   ]
  },
  {
   "cell_type": "code",
   "execution_count": 40,
   "id": "a5846795",
   "metadata": {},
   "outputs": [
    {
     "data": {
      "image/png": "[encoded data removed]",
      "text/plain": [
       "<Figure size 432x288 with 1 Axes>"
      ]
     },
     "metadata": {
      "needs_background": "light"
     },
     "output_type": "display_data"
    }
   ],
   "source": [
    "plt.plot(v)\n",
    "plt.show()"
   ]
  },
  {
   "cell_type": "markdown",
   "id": "1faeeb0c",
   "metadata": {},
   "source": [
    "# Question 3"
   ]
  },
  {
   "cell_type": "markdown",
   "id": "e05a2be4",
   "metadata": {},
   "source": [
    "## Q3.1 Derivation of Control Parameters Direct Self-Tuning Regulator"
   ]
  },
  {
   "cell_type": "markdown",
   "id": "ad32f9b5",
   "metadata": {
    "variables": {
     "Am": "$\\displaystyle a_{m1} q + a_{m2} + q^{2}$",
     "B_minus": "$\\displaystyle \\hat{b}_0$",
     "R": "$\\displaystyle q + \\frac{\\hat{b}_1}{\\hat{b}_0}$",
     "S": "$\\displaystyle \\frac{q \\left(- \\hat{a}_1 + a_{m1}\\right)}{\\hat{b}_0} + \\frac{- \\hat{a}_2 + a_{m2}}{\\hat{b}_0}$",
     "T": "$\\displaystyle \\frac{q \\left(a_{m1} + a_{m2} + 1\\right)}{\\hat{b}_0}$"
    }
   },
   "source": [
    "Given that the system is the same as in the previous question, the control parameters for the direct self-tuning regulator will also be the same. To find the reparameterized model, we look into the equation, \n",
    "\n",
    "$$ A_oA_my(t) = B^-\\big(Ru(t) + Sy(t)\\big) $$\n",
    "\n",
    "From the previous example, we know the following, \n",
    "\n",
    "$ A_0 = 1 $ \n",
    "\n",
    "$ A_m = $ {{Am}}\n",
    "\n",
    "$ B^- = $ {{B_minus}}\n",
    "\n",
    "$ R = q + r_1 = $  {{R}}\n",
    "\n",
    "$ S = s_0q + s_1 = $ {{S}}\n",
    "\n",
    "$ T = t_0q = $ {{T}}"
   ]
  },
  {
   "cell_type": "markdown",
   "id": "4369a81a",
   "metadata": {},
   "source": [
    "Then the equation above becomes, \n",
    "\n",
    "$$ y(t) = \\frac{1}{q^2 + a_{m_1}q + a_{m_2}} \\hat{b}_0\\Big(\\big(q + r_1\\big)u(t) + \\big(s_0q + s_1\\big)y(t)\\Big) $$"
   ]
  },
  {
   "cell_type": "markdown",
   "id": "2c9b74a0",
   "metadata": {},
   "source": [
    "Commented out vv\n",
    "<!-- $$ y(t) = \\frac{1}{q^2 + a_{m_1}q + a_{m_2}} \\Big(\\big(\\hat{b}_0q + \\hat{b}_1\\big)u(t) + \\big((a_{m_1} - \\hat{a}_1)q + (a_{m_2} - \\hat{a}_2)y(t)\\Big) $$ -->\n",
    "^^"
   ]
  },
  {
   "cell_type": "markdown",
   "id": "fb797138",
   "metadata": {},
   "source": [
    "To ensure that we are working in the backwords shift operator, we multiply the top and bottom of the equation by $q^{-2}$. Then, \n",
    "\n",
    "$$ y(t) = \\frac{1}{1 + a_{m_1}q^{-1} + a_{m_2}q^{-2}} \\Big(\\big(\\hat{b}_0q^{-1} + \\hat{b}_0r_1q^{-2}\\big)u(t) + \\big(\\hat{b}_0s_0q^{-1} + \\hat{b}_0s_1q^{-2}\\big)y(t)\\Big) $$"
   ]
  },
  {
   "cell_type": "markdown",
   "id": "2e94db63",
   "metadata": {},
   "source": [
    "Then by distributing the outermost bracket into the inputs and outputs, $u(t)$ and $y(t)$ respectively, the output may be written as, \n",
    "\n",
    "$$ y(t) = \\Big(\\big(\\hat{b}_0q^{-1} + \\hat{b}_0r_1q^{-2}\\big)u_f(t) + \\big(\\hat{b}_0s_0q^{-1} + \\hat{b}_0s_1q^{-2}\\big)y_f(t)\\Big) $$\n",
    "\n",
    "where, \n",
    "\n",
    "$$ u_f(t) = \\frac{1}{1 + a_{m_1}q^{-1} + a_{m_2}q^{-2}} u(t) $$\n",
    "\n",
    "$$ y_f(t) = \\frac{1}{1 + a_{m_1}q^{-1} + a_{m_2}q^{-2}} y(t) $$"
   ]
  },
  {
   "cell_type": "markdown",
   "id": "8f86240e",
   "metadata": {},
   "source": [
    "Expanding these equations we get,\n",
    "\n",
    "$$ u_f(t) = u(t) - a_{m_1}u_f(t-1) - a_{m_2}u_f(t-2) $$\n",
    "\n",
    "and \n",
    "\n",
    "$$ y_f(t) = u(t) - a_{m_1}y_f(t-1) - a_{m_2}y_f(t-2) $$"
   ]
  },
  {
   "cell_type": "markdown",
   "id": "c5c73e30",
   "metadata": {},
   "source": [
    "Recalling the output of the system we can redefine it to be, \n",
    "\n",
    "$$ y(t) = \\hat{b}_0u_f(t-1) + \\hat{b}_0r_1u_f(t-2) + \\hat{b}_0s_0y_f(t-1) + \\hat{b}_0s_1y_f(t-2) = \\phi(t-1)^T\\theta $$"
   ]
  },
  {
   "cell_type": "markdown",
   "id": "2027d2a0",
   "metadata": {},
   "source": [
    "with, \n",
    "\n",
    "$ \\phi(t) = \\big[u_f(t)\\ u_f(t-1)\\ y_f(t)\\ y_f(t-1)\\big]^T $\n",
    "\n",
    "and \n",
    "\n",
    "$\\theta = \\big[\\hat{r}_0\\ \\hat{r}_1\\ \\hat{s}_0\\ \\hat{s}_1 \\big]^T$\n",
    "\n",
    "With these known, we can use the recursive linear regressor to approximate the parameters for $\\theta$ "
   ]
  },
  {
   "cell_type": "markdown",
   "id": "915c21af",
   "metadata": {},
   "source": [
    "Noting that R is no longer monic due to the factorization of $B^-$ we get, \n",
    "\n",
    "$ S = \\hat{s}_0s + \\hat{s}_1 $ \n",
    "\n",
    "$ R = \\hat{r}_0s + \\hat{r}_1 $ \n",
    "\n",
    "$ T = t_0q $ \n",
    "\n",
    "The control action is then found using, \n",
    "\n",
    "$ Ru(t) = Tu_c(t) - Sy(t) $\n",
    "\n",
    "$ u(t) = \\frac{1}{\\hat{r}_0}\\big[-\\hat{r}_1u(t-1)+t_0u_c(t) - s_0y(t) - s_1y(t-1) \\big] $"
   ]
  },
  {
   "cell_type": "markdown",
   "id": "ed19693a",
   "metadata": {},
   "source": [
    "## Q3.2 Implementation of Direct Self-Tuning Regulator"
   ]
  },
  {
   "cell_type": "code",
   "execution_count": 41,
   "id": "a9312e5a",
   "metadata": {},
   "outputs": [],
   "source": [
    "uc = reference_signal()\n",
    "lam = 1\n",
    "\n",
    "# Assignmnent, works\n",
    "am1 = -2*np.exp(-2)\n",
    "am2 = np.exp(-4)\n",
    "r0_true, r1_true, s0_true, s1_true = 1.59831, 0.587984, 0.23254443, -0.03147146\n",
    "t0_true = 1 + am1 + am2\n",
    "t0 = t0_true\n",
    "\n",
    "theta = np.array([r0_true, r1_true, s0_true, s1_true]).reshape(4,-1)"
   ]
  },
  {
   "cell_type": "code",
   "execution_count": 42,
   "id": "2a09ba55",
   "metadata": {},
   "outputs": [],
   "source": [
    "# Initializing the coefficients for R, S for t = 0\n",
    "y = np.array([0])\n",
    "theta_hat = np.array([1., 0.25, 0.25, 0.25]).reshape(4,-1)\n",
    "theta_lst = np.array(theta_hat)\n",
    "# P = np.diag([1000, 100, 1000, 1000])  # WORKS \n",
    "P = 100*np.eye(4)\n",
    "\n",
    "# Calculating the control parameters for t = 0\n",
    "u = 1/theta_hat[0]*(t0*uc[0] - theta_hat[2]*y[0])\n",
    "uf = np.array([u[0]])\n",
    "yf = np.array([y[0]])\n",
    "\n",
    "\n",
    "\n",
    "# Initializing the coefficients for A, B for t = 1\n",
    "phi = np.array([0., 0., 0., 0.]).reshape(4,-1)\n",
    "y = np.concatenate((y, \n",
    "                   (trans(phi)@theta).reshape(-1,)), axis=0)\n",
    "K = P @ phi @ inv(lam + trans(phi) @ P @ phi)\n",
    "theta_hat = theta_hat + K @ (y[1] - trans(phi) @ theta_hat)\n",
    "theta_lst = np.concatenate((theta_lst, theta_hat), axis=1)\n",
    "P = (np.eye(len(phi)) - K @ trans(phi)) @ P /lam\n",
    "\n",
    "# Calculating the control parameters for t = 1\n",
    "u = np.concatenate((u, \n",
    "                   (1/theta_hat[0]*(-theta_hat[1]*u[0] + t0*uc[1] - theta_hat[2]*y[1] - theta_hat[3]*y[0])).reshape(-1,)),\n",
    "                    axis=0)\n",
    "uf = np.concatenate((uf,\n",
    "                     (u[1] - am1*uf[0]).reshape(-1,)), axis=0)\n",
    "yf = np.concatenate((yf,\n",
    "                     (y[1] - am1*yf[0]).reshape(-1,)), axis=0)\n",
    "\n",
    "phi = np.array([uf[1], 0., yf[1], 0.]).reshape(4,-1)\n",
    "for t in np.arange(2, 101):\n",
    "    # Initializing the coefficients for A, B for t = t\n",
    "    y = np.concatenate((y, \n",
    "                       (trans(phi)@theta).reshape(-1,)), axis=0)\n",
    "    K = P @ phi @ inv(lam + trans(phi) @ P @ phi)\n",
    "    theta_hat = theta_hat + K @ (y[t] - trans(phi) @ theta_hat)\n",
    "    theta_lst = np.concatenate((theta_lst, theta_hat), axis=1)\n",
    "    P = (np.eye(len(phi)) - K @ trans(phi)) @ P /lam\n",
    "\n",
    "    # Calculating the control parameters for t = t\n",
    "    u = np.concatenate((u, \n",
    "                       (1/theta_hat[0]*(-theta_hat[1]*u[t-1] + t0*uc[t] - theta_hat[2]*y[t] - theta_hat[3]*y[t-1])).reshape(-1,)),\n",
    "                       axis=0)\n",
    "    uf = np.concatenate((uf,\n",
    "                         (u[t] - am1*uf[t-1] - am2*uf[t-2]).reshape(-1,)), axis=0)\n",
    "    yf = np.concatenate((yf,\n",
    "                         (y[t] - am1*yf[t-1] - am2*yf[t-2]).reshape(-1,)), axis=0)\n",
    "    phi = np.array([uf[t-1], uf[t-2], yf[t-1], yf[t-2]]).reshape(4,-1)\n",
    "    "
   ]
  },
  {
   "cell_type": "code",
   "execution_count": 43,
   "id": "81e4a98f",
   "metadata": {},
   "outputs": [
    {
     "data": {
      "image/png": "[encoded data removed]",
      "text/plain": [
       "<Figure size 432x288 with 1 Axes>"
      ]
     },
     "metadata": {
      "needs_background": "light"
     },
     "output_type": "display_data"
    }
   ],
   "source": [
    "plt.plot(uc)\n",
    "plt.plot(y)\n",
    "plt.legend(['u_c', 'y'])\n",
    "plt.title('System Response')\n",
    "plt.show()"
   ]
  },
  {
   "cell_type": "code",
   "execution_count": 44,
   "id": "7f8bbc80",
   "metadata": {},
   "outputs": [
    {
     "data": {
      "image/png": "[encoded data removed]",
      "text/plain": [
       "<Figure size 432x288 with 1 Axes>"
      ]
     },
     "metadata": {
      "needs_background": "light"
     },
     "output_type": "display_data"
    }
   ],
   "source": [
    "plt.step(np.linspace(0, 100, 101), u, 'g')\n",
    "plt.title('Control Action')\n",
    "plt.show()"
   ]
  },
  {
   "cell_type": "code",
   "execution_count": 45,
   "id": "b9580099",
   "metadata": {},
   "outputs": [
    {
     "data": {
      "image/png": "[encoded data removed]",
      "text/plain": [
       "<Figure size 432x288 with 1 Axes>"
      ]
     },
     "metadata": {
      "needs_background": "light"
     },
     "output_type": "display_data"
    }
   ],
   "source": [
    "a, b = theta_lst.shape\n",
    "colours = ['blue', 'orange', 'green', 'red']\n",
    "for idx, th in enumerate(theta_lst):\n",
    "    plt.plot(th)\n",
    "    plt.hlines(theta[idx], 0, b, colours[idx], '--')\n",
    "plt.legend(['$\\hat{r}_0$', '$\\hat{r}_1$', '$\\hat{s}_0$', '$\\hat{s}_1$'])\n",
    "plt.show()"
   ]
  }
 ],
 "metadata": {
  "kernelspec": {
   "display_name": "Python 3 (ipykernel)",
   "language": "python",
   "name": "python3"
  },
  "language_info": {
   "codemirror_mode": {
    "name": "ipython",
    "version": 3
   },
   "file_extension": ".py",
   "mimetype": "text/x-python",
   "name": "python",
   "nbconvert_exporter": "python",
   "pygments_lexer": "ipython3",
   "version": "3.8.10"
  }
 },
 "nbformat": 4,
 "nbformat_minor": 5
}
