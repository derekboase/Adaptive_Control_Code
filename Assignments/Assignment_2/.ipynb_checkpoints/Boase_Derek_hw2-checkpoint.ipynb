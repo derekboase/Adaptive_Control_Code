{
 "cells": [
  {
   "cell_type": "markdown",
   "id": "eed92d92",
   "metadata": {},
   "source": [
    "# ELG7113 Machine Learning for Adaptive and Intelligent Control Systems\n",
    "\n",
    "Student: Derek Boase\n",
    "\n",
    "Std Num: 300043860\n",
    "\n",
    "e-mail: dboas065@uottawa.ca\n",
    "\n",
    "assignment GitHub: git@github.com:derekboase/Adaptive_Control_Code.git"
   ]
  },
  {
   "cell_type": "code",
   "execution_count": 1,
   "id": "1b5ebb2d",
   "metadata": {},
   "outputs": [],
   "source": [
    "import matplotlib.pyplot as plt\n",
    "import control as co  # pip install control\n",
    "import numpy as np  \n",
    "import sympy as sp\n",
    "\n",
    "from numpy import cos, sin, pi"
   ]
  },
  {
   "cell_type": "markdown",
   "id": "10ed735c",
   "metadata": {},
   "source": [
    "## Question 1\n"
   ]
  },
  {
   "cell_type": "markdown",
   "id": "72cb4dca",
   "metadata": {},
   "source": [
    "Question declarations:"
   ]
  },
  {
   "cell_type": "code",
   "execution_count": 2,
   "id": "87781cdc",
   "metadata": {},
   "outputs": [],
   "source": [
    "r1, s0, s1, a01 = sp.symbols('r_1, s_0, s_1, a_0_1')\n",
    "a, b, c, d, s = sp.symbols('a, b, c, d, s')\n",
    "y, u, uc = sp.symbols('y, u, u_c')\n",
    "a_true, b_true, c_true, d_true = (1, 1, 2, 1/2)\n",
    "G1 = b/(s + a)\n",
    "G2 = c/(s + d)\n",
    "G = sp.Mul(G1, G2)\n",
    "Am = s ** 2 + 2*s + 1"
   ]
  },
  {
   "cell_type": "code",
   "execution_count": 3,
   "id": "78e6247b",
   "metadata": {},
   "outputs": [
    {
     "data": {
      "text/latex": [
       "$\\displaystyle \\frac{b c}{\\left(a + s\\right) \\left(d + s\\right)}$"
      ],
      "text/plain": [
       "b*c/((a + s)*(d + s))"
      ]
     },
     "execution_count": 3,
     "metadata": {},
     "output_type": "execute_result"
    }
   ],
   "source": [
    "G"
   ]
  },
  {
   "cell_type": "markdown",
   "id": "e7141641",
   "metadata": {},
   "source": [
    "a) Design control parameters using the Diophantine equation\n",
    "\n",
    "Using the compatability conditions: \n",
    "$$\\text{degA}_m=\\text{degA}=2$$\n",
    "$$\\text{degB}_m=\\text{degB}=0$$\n",
    "$$\\text{degA}_0=\\text{degA - degB}^+-1=1$$\n",
    "\n",
    "The causality condition gives, \n",
    "$$\\text{degA}_m - \\text{degB}_m'\\geq\\text{degA} - \\text{degB}^+$$\n",
    "\n",
    "Given that $$\\text{degA}_m=\\text{degA}=2$$ and $$\\text{degB}_m'=0$$ then $$\\text{degB}^+=0$$\n",
    "\n",
    "With this we can find, \n",
    "$$\\text{degA}_c = \\text{degA}_o + \\text{degA}_m + \\text{degB}^+ = 3$$"
   ]
  },
  {
   "cell_type": "markdown",
   "id": "700c8cd3",
   "metadata": {},
   "source": [
    "It is then found that, \n",
    "$$\\text{degR} = \\text{degA}_c - \\text{degA} = 3 - 2 = 1$$\n",
    "Using the minimum phase relationship, \n",
    "$$\\text{degR}=\\text{degT}=\\text{degS}=1$$"
   ]
  },
  {
   "cell_type": "markdown",
   "id": "bcc1d4a6",
   "metadata": {},
   "source": [
    "The control parameters may then be found using the Diophantine equation, \n",
    "$$AR' + B^-S = A_0A_m$$\n",
    "$$(s^2 + (a + d)s + ad)(s + r_1) + bc(s_0s + s_1) = (s + a_{o_1})(s^2 + 2s + 1)$$"
   ]
  },
  {
   "cell_type": "markdown",
   "id": "e753532b",
   "metadata": {},
   "source": [
    "The left hand side of the Diophantine equation becomes,"
   ]
  },
  {
   "cell_type": "code",
   "execution_count": 4,
   "id": "e59f83e6",
   "metadata": {},
   "outputs": [
    {
     "data": {
      "text/latex": [
       "$\\displaystyle a d r_{1} + b c s_{1} + s^{3} + s^{2} \\left(a + d + r_{1}\\right) + s \\left(a d + a r_{1} + b c s_{0} + d r_{1}\\right)$"
      ],
      "text/plain": [
       "a*d*r_1 + b*c*s_1 + s**3 + s**2*(a + d + r_1) + s*(a*d + a*r_1 + b*c*s_0 + d*r_1)"
      ]
     },
     "execution_count": 4,
     "metadata": {},
     "output_type": "execute_result"
    }
   ],
   "source": [
    "n, denum = sp.fraction(G)\n",
    "LHS = denum * (s + r1) + b*c*(s0*s + s1)\n",
    "LHS = sp.collect(sp.expand(LHS), s)\n",
    "LHS"
   ]
  },
  {
   "cell_type": "markdown",
   "id": "5feb3db7",
   "metadata": {},
   "source": [
    "The right hand side becomes,"
   ]
  },
  {
   "cell_type": "code",
   "execution_count": 5,
   "id": "832b3da4",
   "metadata": {},
   "outputs": [
    {
     "data": {
      "text/latex": [
       "$\\displaystyle a_{0 1} + s^{3} + s^{2} \\left(a_{0 1} + 2\\right) + s \\left(2 a_{0 1} + 1\\right)$"
      ],
      "text/plain": [
       "a_0_1 + s**3 + s**2*(a_0_1 + 2) + s*(2*a_0_1 + 1)"
      ]
     },
     "execution_count": 5,
     "metadata": {},
     "output_type": "execute_result"
    }
   ],
   "source": [
    "RHS = sp.collect(sp.expand((s + a01)*(s ** 2 + 2*s + 1)), s)\n",
    "RHS"
   ]
  },
  {
   "cell_type": "code",
   "execution_count": 6,
   "id": "8e5dde00",
   "metadata": {},
   "outputs": [
    {
     "data": {
      "text/latex": [
       "$\\displaystyle a d r_{1} - a_{0 1} + b c s_{1} + s^{2} \\left(a - a_{0 1} + d + r_{1} - 2\\right) + s \\left(a d + a r_{1} - 2 a_{0 1} + b c s_{0} + d r_{1} - 1\\right)$"
      ],
      "text/plain": [
       "a*d*r_1 - a_0_1 + b*c*s_1 + s**2*(a - a_0_1 + d + r_1 - 2) + s*(a*d + a*r_1 - 2*a_0_1 + b*c*s_0 + d*r_1 - 1)"
      ]
     },
     "execution_count": 6,
     "metadata": {},
     "output_type": "execute_result"
    }
   ],
   "source": [
    "dio = sp.collect(LHS - RHS, s)\n",
    "dio_poly = sp.Poly(dio, s)\n",
    "dio"
   ]
  },
  {
   "cell_type": "markdown",
   "id": "3401f35a",
   "metadata": {},
   "source": [
    "Using the $s^2$ terms, "
   ]
  },
  {
   "cell_type": "code",
   "execution_count": 7,
   "id": "d17be44d",
   "metadata": {},
   "outputs": [
    {
     "data": {
      "text/latex": [
       "$\\displaystyle - a + a_{0 1} - d + 2$"
      ],
      "text/plain": [
       "-a + a_0_1 - d + 2"
      ]
     },
     "execution_count": 7,
     "metadata": {},
     "output_type": "execute_result"
    }
   ],
   "source": [
    "r1_sym = sp.solve(dio_poly.coeffs()[0], r1)[0]\n",
    "r1_sym"
   ]
  },
  {
   "cell_type": "markdown",
   "id": "2d97390d",
   "metadata": {},
   "source": [
    "Substituting the known values, "
   ]
  },
  {
   "cell_type": "code",
   "execution_count": 8,
   "id": "fea48b88",
   "metadata": {},
   "outputs": [
    {
     "data": {
      "text/latex": [
       "$\\displaystyle a_{0 1} - d + 1$"
      ],
      "text/plain": [
       "a_0_1 - d + 1"
      ]
     },
     "execution_count": 8,
     "metadata": {},
     "output_type": "execute_result"
    }
   ],
   "source": [
    "r1_sym.subs(a, 1).subs(b, 1)"
   ]
  },
  {
   "cell_type": "markdown",
   "id": "fe09ce78",
   "metadata": {},
   "source": [
    "Recalling that the R term of the controller is monic, it can then be written as,\n",
    "\n",
    "$$R = -a + a_{0_1} - d + 2 = s + a_{0_1} - d + 1$$\n",
    "\n",
    "Collecting the s terms we get, "
   ]
  },
  {
   "cell_type": "code",
   "execution_count": 9,
   "id": "231d496a",
   "metadata": {},
   "outputs": [
    {
     "data": {
      "text/latex": [
       "$\\displaystyle \\frac{- a d - a r_{1} + 2 a_{0 1} - d r_{1} + 1}{b c}$"
      ],
      "text/plain": [
       "(-a*d - a*r_1 + 2*a_0_1 - d*r_1 + 1)/(b*c)"
      ]
     },
     "execution_count": 9,
     "metadata": {},
     "output_type": "execute_result"
    }
   ],
   "source": [
    "s0_sym = sp.solve(dio_poly.coeffs()[1], s0)[0]\n",
    "s0_sym"
   ]
  },
  {
   "cell_type": "markdown",
   "id": "f7737220",
   "metadata": {},
   "source": [
    "Substituting for the known values gives, "
   ]
  },
  {
   "cell_type": "code",
   "execution_count": 10,
   "id": "4b6261e9",
   "metadata": {},
   "outputs": [
    {
     "data": {
      "text/latex": [
       "$\\displaystyle \\frac{2 a_{0 1} - d r_{1} - d - r_{1} + 1}{c}$"
      ],
      "text/plain": [
       "(2*a_0_1 - d*r_1 - d - r_1 + 1)/c"
      ]
     },
     "execution_count": 10,
     "metadata": {},
     "output_type": "execute_result"
    }
   ],
   "source": [
    "s0_sym.subs(a, 1).subs(b, 1)"
   ]
  },
  {
   "cell_type": "markdown",
   "id": "a6993357",
   "metadata": {},
   "source": [
    "Collecting the terms that are constant in s, "
   ]
  },
  {
   "cell_type": "code",
   "execution_count": 11,
   "id": "0da9b58d",
   "metadata": {},
   "outputs": [
    {
     "data": {
      "text/latex": [
       "$\\displaystyle \\frac{a_{0 1} - d r_{1}}{c}$"
      ],
      "text/plain": [
       "(a_0_1 - d*r_1)/c"
      ]
     },
     "execution_count": 11,
     "metadata": {},
     "output_type": "execute_result"
    }
   ],
   "source": [
    "s1_sym = sp.solve(dio_poly.coeffs()[2], s1)[0]\n",
    "s1_sym.subs(a, 1).subs(b, 1)"
   ]
  },
  {
   "cell_type": "code",
   "execution_count": null,
   "id": "c30b024a",
   "metadata": {},
   "outputs": [],
   "source": []
  },
  {
   "cell_type": "code",
   "execution_count": null,
   "id": "4696322c",
   "metadata": {},
   "outputs": [],
   "source": []
  },
  {
   "cell_type": "markdown",
   "id": "df7e1017",
   "metadata": {},
   "source": [
    "# Question 2"
   ]
  },
  {
   "cell_type": "code",
   "execution_count": 12,
   "id": "ab89b219",
   "metadata": {},
   "outputs": [],
   "source": [
    "import matplotlib.pyplot as plt\n",
    "import control as co\n",
    "import numpy as np\n",
    "import sympy as sp\n",
    "\n",
    "from numpy import transpose as trans\n",
    "from numpy import cos, sin, pi\n",
    "from numpy.linalg import inv"
   ]
  },
  {
   "cell_type": "markdown",
   "id": "765a89bf",
   "metadata": {},
   "source": [
    "Question Parameters"
   ]
  },
  {
   "cell_type": "code",
   "execution_count": 13,
   "id": "177eed1b",
   "metadata": {},
   "outputs": [],
   "source": [
    "a1, a2, b0, b1 = sp.symbols('\\hat{a}_1, \\hat{a}_2, \\hat{b}_0, \\hat{b}_1')\n",
    "r1, s0, s1, a0 = sp.symbols('r_1, s_0, s_1, a_0')\n",
    "am1, am2 = sp.symbols('a_{m1}, a_{m2}')\n",
    "y, u, uc = sp.symbols('y, u, u_c')\n",
    "q = sp.symbols('q')"
   ]
  },
  {
   "cell_type": "code",
   "execution_count": 14,
   "id": "bf8244c2",
   "metadata": {},
   "outputs": [
    {
     "data": {
      "text/latex": [
       "$\\displaystyle \\frac{\\hat{b}_0 q + \\hat{b}_1}{\\hat{a}_1 q + \\hat{a}_2 + q^{2}}$"
      ],
      "text/plain": [
       "(\\hat{b}_0*q + \\hat{b}_1)/(\\hat{a}_1*q + \\hat{a}_2 + q**2)"
      ]
     },
     "execution_count": 14,
     "metadata": {},
     "output_type": "execute_result"
    }
   ],
   "source": [
    "# A = (q**2 - 0.503215*q + 0.0497871)\n",
    "# B = (1.59831*q + 0.587984)\n",
    "A = (q**2 + a1*q + a2)\n",
    "B = (b0*q + b1)\n",
    "B_poly = sp.Poly(B, q)\n",
    "\n",
    "H = B/A\n",
    "B_plus = (q + B_poly.coeffs()[1]/B_poly.coeffs()[0])\n",
    "B_minus = B_poly.coeffs()[0]\n",
    "H"
   ]
  },
  {
   "cell_type": "code",
   "execution_count": 15,
   "id": "ddd726e4",
   "metadata": {},
   "outputs": [
    {
     "data": {
      "text/latex": [
       "$\\displaystyle a_{m1} q + a_{m2} + q^{2}$"
      ],
      "text/plain": [
       "a_{m1}*q + a_{m2} + q**2"
      ]
     },
     "execution_count": 15,
     "metadata": {},
     "output_type": "execute_result"
    }
   ],
   "source": [
    "# Am_test = co.sample_system(co.tf([1.], [1., 2., 1.]), Ts=2, method='zoh')\n",
    "# Am = q**2 - 0.2707*q + 0.01832\n",
    "Am = q**2 + am1*q + am2\n",
    "Am"
   ]
  },
  {
   "cell_type": "code",
   "execution_count": 16,
   "id": "336633bb",
   "metadata": {},
   "outputs": [
    {
     "data": {
      "text/latex": [
       "$$\\frac{0.594 z + 0.1537}{z^2 - 0.2707 z + 0.01832}\\quad dt = 2$$"
      ],
      "text/plain": [
       "TransferFunction(array([0.59399415, 0.15365092]), array([ 1.        , -0.27067057,  0.01831564]), 2)"
      ]
     },
     "execution_count": 16,
     "metadata": {},
     "output_type": "execute_result"
    }
   ],
   "source": [
    "Am_test = co.sample_system(co.tf([1.], [1., 2., 1.]), Ts=2, method='zoh')\n",
    "Am_test"
   ]
  },
  {
   "cell_type": "code",
   "execution_count": null,
   "id": "1763e7bd",
   "metadata": {},
   "outputs": [],
   "source": []
  },
  {
   "cell_type": "markdown",
   "id": "40c334e1",
   "metadata": {},
   "source": [
    "## 2.2 Indirect Linear Controller Design Using MDPP "
   ]
  },
  {
   "cell_type": "markdown",
   "id": "5ae7debd",
   "metadata": {},
   "source": [
    "### Step 1\n",
    "We begin by factorizing B as follows, \n",
    "\n",
    "$$ B = B(q)^+B(q)^- = (q + 0.36788)(1.59831) $$"
   ]
  },
  {
   "cell_type": "markdown",
   "id": "547f8565",
   "metadata": {},
   "source": [
    "To cancel the zeros, we require that they are stable and well-damped. In this case the zero is q = -0.36788 and is thus stable (inside the unit circle) and well-damped (sufficiently far from the unit circle). It is then clear that we may cancel the zeros. \n",
    "\n",
    "Using the compatability conditions: \n",
    "$$ \\text{deg}A_m = \\text{deg}A = 2 $$\n",
    "$$ \\text{deg}B_m = \\text{deg}B = \\text{degB}^+ = 1 $$\n",
    "$$ \\text{deg}A_0=\\text{deg}A - \\text{deg}B^+-1=0 $$\n",
    "\n",
    "With this we can find, \n",
    "$$ \\text{deg}A_c = \\text{deg}A_o + \\text{deg}A_m + \\text{deg}B^+ = 3 $$\n",
    "\n",
    "From the minimum phase conditions we then get that, \n",
    "\n",
    "$$  \\text{deg}R = \\text{deg}S = \\text{deg}T = \\text{deg}A_c - \\text{deg}A = 1 $$"
   ]
  },
  {
   "cell_type": "markdown",
   "id": "185f40d6",
   "metadata": {},
   "source": [
    "### Step 2\n",
    "Noting that $ \\text{deg}R= 1 $ and $ \\text{deg}B^+ = 1 $ then it follows that \n",
    "$$ \\text{deg}R' = 0 $$\n",
    "\n",
    "Let $ R' = 1 $, then the left hand side (LHS) of the Diophatine equation becomes, \n",
    "$$ \\text{LHS} = AR' + B^-S $$"
   ]
  },
  {
   "cell_type": "code",
   "execution_count": 17,
   "id": "2a479605",
   "metadata": {
    "scrolled": true
   },
   "outputs": [
    {
     "data": {
      "text/latex": [
       "$\\displaystyle \\hat{a}_2 + \\hat{b}_0 s_{1} + q^{2} + q \\left(\\hat{a}_1 + \\hat{b}_0 s_{0}\\right)$"
      ],
      "text/plain": [
       "\\hat{a}_2 + \\hat{b}_0*s_1 + q**2 + q*(\\hat{a}_1 + \\hat{b}_0*s_0)"
      ]
     },
     "execution_count": 17,
     "metadata": {},
     "output_type": "execute_result"
    }
   ],
   "source": [
    "LHS = A + B_minus*(s0*q + s1)\n",
    "sp.collect(sp.expand(LHS), q)"
   ]
  },
  {
   "cell_type": "markdown",
   "id": "52829666",
   "metadata": {},
   "source": [
    "From the compatability conditions, we get the $ \\text{deg}A_o = 0 $, thus we choose it to be, \n",
    "$$ A_o = 1 $$\n",
    "The right hand side (RHS) of the Diophantine equation becomes, \n",
    "$$ \\text{RHS} = A_oA_m $$"
   ]
  },
  {
   "cell_type": "code",
   "execution_count": 18,
   "id": "d6718217",
   "metadata": {},
   "outputs": [
    {
     "data": {
      "text/latex": [
       "$\\displaystyle a_{m1} q + a_{m2} + q^{2}$"
      ],
      "text/plain": [
       "a_{m1}*q + a_{m2} + q**2"
      ]
     },
     "execution_count": 18,
     "metadata": {},
     "output_type": "execute_result"
    }
   ],
   "source": [
    "RHS = Am\n",
    "RHS"
   ]
  },
  {
   "cell_type": "code",
   "execution_count": 19,
   "id": "d280d69a",
   "metadata": {},
   "outputs": [
    {
     "data": {
      "text/plain": [
       "[\\hat{a}_1 + \\hat{b}_0*s_0 - a_{m1}, \\hat{a}_2 + \\hat{b}_0*s_1 - a_{m2}]"
      ]
     },
     "execution_count": 19,
     "metadata": {},
     "output_type": "execute_result"
    }
   ],
   "source": [
    "dio_poly = sp.Poly(sp.collect(LHS - RHS, q), q)\n",
    "dio_poly.coeffs()"
   ]
  },
  {
   "cell_type": "markdown",
   "id": "de077828",
   "metadata": {},
   "source": [
    "To find $ s_0 $ we consider the first degree terms,"
   ]
  },
  {
   "cell_type": "code",
   "execution_count": 20,
   "id": "97878553",
   "metadata": {},
   "outputs": [
    {
     "data": {
      "text/latex": [
       "$\\displaystyle \\frac{- \\hat{a}_1 + a_{m1}}{\\hat{b}_0}$"
      ],
      "text/plain": [
       "(-\\hat{a}_1 + a_{m1})/\\hat{b}_0"
      ]
     },
     "execution_count": 20,
     "metadata": {},
     "output_type": "execute_result"
    }
   ],
   "source": [
    "s0_sym = sp.solve(dio_poly.coeffs()[0], s0)[0]\n",
    "s0_sym"
   ]
  },
  {
   "cell_type": "markdown",
   "id": "fd46c091",
   "metadata": {},
   "source": [
    "To find $ s_1 $ we consider the equations that are constant in q, "
   ]
  },
  {
   "cell_type": "code",
   "execution_count": 21,
   "id": "d8bebd3b",
   "metadata": {},
   "outputs": [
    {
     "data": {
      "text/latex": [
       "$\\displaystyle \\frac{- \\hat{a}_2 + a_{m2}}{\\hat{b}_0}$"
      ],
      "text/plain": [
       "(-\\hat{a}_2 + a_{m2})/\\hat{b}_0"
      ]
     },
     "execution_count": 21,
     "metadata": {},
     "output_type": "execute_result"
    }
   ],
   "source": [
    "s1_sym = sp.solve(dio_poly.coeffs()[1], s1)[0]\n",
    "S = (s0_sym*q + s1_sym)\n",
    "R = B_plus\n",
    "s1_sym"
   ]
  },
  {
   "cell_type": "markdown",
   "id": "94b08ac0",
   "metadata": {
    "variables": {
     "S": "$\\displaystyle \\frac{q \\left(- \\hat{a}_1 + a_{m1}\\right)}{\\hat{b}_0} + \\frac{- \\hat{a}_2 + a_{m2}}{\\hat{b}_0}$"
    }
   },
   "source": [
    "With this the $ S $ polynomial is,\n",
    "\n",
    "$ S = $ {{S}}\n"
   ]
  },
  {
   "cell_type": "markdown",
   "id": "98718d88",
   "metadata": {
    "variables": {
     "B_plus": "$\\displaystyle q + \\frac{\\hat{b}_1}{\\hat{b}_0}$"
    }
   },
   "source": [
    "Additionally, we know that, $ R = R'B^+ = B^+ =$ {{B_plus}}"
   ]
  },
  {
   "cell_type": "markdown",
   "id": "57642252",
   "metadata": {
    "variables": {
     "R": "$\\displaystyle q + \\frac{\\hat{b}_1}{\\hat{b}_0}$"
    }
   },
   "source": [
    "The $R$ polynomial is given as, \n",
    "\n",
    "$R = ${{R}}"
   ]
  },
  {
   "cell_type": "markdown",
   "id": "3d83bc80",
   "metadata": {},
   "source": [
    "The T polynomial is found using, \n",
    "$$ T = A_oB_m' $$\n",
    "where $ B_m = B^-B_m' = A_m(1)q^{n - d_0} $"
   ]
  },
  {
   "cell_type": "code",
   "execution_count": 22,
   "id": "d526840f",
   "metadata": {},
   "outputs": [],
   "source": [
    "Bm = Am.subs(q, 1)*q\n",
    "t0_sym = Bm/B_minus\n",
    "T = t0_sym"
   ]
  },
  {
   "cell_type": "markdown",
   "id": "e8283ced",
   "metadata": {
    "variables": {
     "T": "$\\displaystyle \\frac{q \\left(a_{m1} + a_{m2} + 1\\right)}{\\hat{b}_0}$"
    }
   },
   "source": [
    "Then $T$ is, \n",
    "\n",
    "$ T = $ {{T}}"
   ]
  },
  {
   "cell_type": "markdown",
   "id": "240710e7",
   "metadata": {
    "variables": {
     "R": "$\\displaystyle q + \\frac{\\hat{b}_1}{\\hat{b}_0}$",
     "S": "$\\displaystyle \\frac{q \\left(- \\hat{a}_1 + a_{m1}\\right)}{\\hat{b}_0} + \\frac{- \\hat{a}_2 + a_{m2}}{\\hat{b}_0}$",
     "T": "$\\displaystyle \\frac{q \\left(a_{m1} + a_{m2} + 1\\right)}{\\hat{b}_0}$"
    }
   },
   "source": [
    "As a summary, the control polynomials are given by, \n",
    "\n",
    "$ R = $ {{R}}\n",
    "\n",
    "$ S = $ {{S}}\n",
    "\n",
    "$ T = $ {{T}}"
   ]
  },
  {
   "cell_type": "markdown",
   "id": "c92cc727",
   "metadata": {},
   "source": [
    "## 2.3-4 Minimal Degree Pole Placement Algorithm for Indirect Controller and Simulation"
   ]
  },
  {
   "cell_type": "code",
   "execution_count": 39,
   "id": "be5c4309",
   "metadata": {},
   "outputs": [],
   "source": [
    "def reference_signal(time=np.linspace(0, 100, 101)):\n",
    "    sig = []\n",
    "    rat = 2.0/40.0*pi\n",
    "#     rat = 1.0/25.0*pi\n",
    "    for t_lop in time:\n",
    "        if sin(rat*t_lop) >= 0:\n",
    "            sig.append(1)\n",
    "        else:\n",
    "            sig.append(0)\n",
    "    return np.array(sig)\n",
    "\n",
    "def noise_generator(time=np.linspace(0, 100, 101)):\n",
    "    noise = []\n",
    "    for t_lop in time:\n",
    "        if t_lop < 35:\n",
    "            noise.append(0)\n",
    "        else: \n",
    "            noise.append(0.25)\n",
    "    return np.array(noise)"
   ]
  },
  {
   "cell_type": "markdown",
   "id": "e4de184b",
   "metadata": {},
   "source": [
    "We start by initializing the values of the variables, "
   ]
  },
  {
   "cell_type": "code",
   "execution_count": 40,
   "id": "52beaa75",
   "metadata": {},
   "outputs": [],
   "source": [
    "uc = reference_signal()\n",
    "lam = 1\n",
    "\n",
    "# Assignmnent, works\n",
    "am1 = -2*np.exp(-2)\n",
    "am2 = np.exp(-4)\n",
    "a1_true, a2_true, b0_true, b1_true = -0.503215, 0.0497871, 1.59831, 0.587984\n",
    "\n",
    "# # In class example, works perfectly!\n",
    "# am1 = -1.3205\n",
    "# am2 = 0.4966\n",
    "# a1_true, a2_true, b0_true, b1_true = -1.6065, 0.6065, 0.1065, 0.0902\n",
    "\n",
    "theta = np.array([a1_true, a2_true, b0_true, b1_true]).reshape(4,1)  # a1[0], a2[1], b0[2], b1[3]"
   ]
  },
  {
   "cell_type": "code",
   "execution_count": 53,
   "id": "c6008cbb",
   "metadata": {},
   "outputs": [],
   "source": [
    "# Initializing the coefficients for A, B for t = 0\n",
    "theta_hat = np.array([0., 0., 0.5, 0.2]).reshape(4,1)  # a1[0], a2[1], b0[2], b1[3]  ** SET b0 TO 0.01 FOR CONVERGENCE**\n",
    "a1_est, a2_est, b0_est, b1_est = theta_hat[0], theta_hat[1], theta_hat[2], theta_hat[3]\n",
    "P = np.diag([10, 1, 100, 10])  # WORKS \n",
    "# P = np.diag([100, 100, 100, 100])  # WORKS \n",
    "\n",
    "# Calculating the control parameters for t = 0\n",
    "y = np.array([0])\n",
    "y_hat = y\n",
    "t0 = (am1 + am2 + 1)/theta_hat[2]\n",
    "s0 = (am1 - theta_hat[0])/theta_hat[2]\n",
    "u = t0*uc[0] - s0*y[0]\n",
    "\n",
    "# Calculating the coefficients for A, B for t = 1\n",
    "phi = np.array([-y[0], 0, u[0], 0]).reshape(4,1)\n",
    "y = np.concatenate((y, \n",
    "                    (trans(phi) @ theta).reshape(-1)), axis=0)\n",
    "\n",
    "K = P @ phi @ inv(lam + trans(phi) @ P @ phi)\n",
    "theta_hat = theta_hat + K @ (y[1] - trans(phi) @ theta_hat)\n",
    "P = (np.eye(len(phi)) - K @ trans(phi)) @ P /lam\n",
    "\n",
    "a1_est = np.concatenate((a1_est, theta_hat[0]), axis=0)\n",
    "a2_est = np.concatenate((a2_est, theta_hat[1]), axis=0)\n",
    "b0_est = np.concatenate((b0_est, theta_hat[2]), axis=0)\n",
    "b1_est = np.concatenate((b1_est, theta_hat[3]), axis=0)\n",
    "\n",
    "# Calculating the control parameters for t = 1\n",
    "r1 = theta_hat[3]/theta_hat[2]\n",
    "t0 = (am1 + am2 + 1)/theta_hat[2]\n",
    "s0 = (am1 - theta_hat[0])/theta_hat[2]\n",
    "s1 = (am2 - theta_hat[1])/theta_hat[2]\n",
    "u = np.concatenate((u, \n",
    "                    -r1*u[0] + t0*uc[1] - s0*y[1] - s1*y[0]))\n",
    "\n",
    "for t in np.arange(2, 101): \n",
    "    # Calculating the coefficients for A, B for t \n",
    "    phi = np.array([-y[t-1], -y[t-2], u[t-1], u[t-2]]).reshape(4,1)\n",
    "    y = np.concatenate((y, \n",
    "                    (trans(phi) @ theta).reshape(-1)), axis=0)\n",
    "    K = P @ phi @ inv(lam + trans(phi) @ P @ phi)\n",
    "    theta_hat += K @ (y[t] - trans(phi) @ theta_hat)\n",
    "    P = (np.eye(len(phi)) - K @ trans(phi)) @ P /lam\n",
    "    a1_est = np.concatenate((a1_est, theta_hat[0]), axis=0)\n",
    "    a2_est = np.concatenate((a2_est, theta_hat[1]), axis=0)\n",
    "    b0_est = np.concatenate((b0_est, theta_hat[2]), axis=0)\n",
    "    b1_est = np.concatenate((b1_est, theta_hat[3]), axis=0)\n",
    "    \n",
    "    # Calculating the control parameters for t \n",
    "    r1 = theta_hat[3]/theta_hat[2]\n",
    "    t0 = (am1 + am2 + 1)/theta_hat[2]\n",
    "    s0 = (am1 - theta_hat[0])/theta_hat[2]\n",
    "    s1 = (am2 - theta_hat[1])/theta_hat[2]\n",
    "    u = np.concatenate((u, \n",
    "                        -r1*u[t-1] + t0*uc[t] - s0*y[t] - s1*y[t-1]))"
   ]
  },
  {
   "cell_type": "code",
   "execution_count": 54,
   "id": "c54c6267",
   "metadata": {},
   "outputs": [
    {
     "data": {
      "image/png": "[encoded data removed]",
      "text/plain": [
       "<Figure size 432x288 with 1 Axes>"
      ]
     },
     "metadata": {
      "needs_background": "light"
     },
     "output_type": "display_data"
    }
   ],
   "source": [
    "plt.plot(np.linspace(0, 100, 101), y)\n",
    "plt.plot(np.linspace(0, 100, 101), uc)\n",
    "# plt.plot(y[45:60])\n",
    "# plt.plot(uc[45:60])\n",
    "plt.legend(['y',\n",
    "            'u_c'])\n",
    "plt.show()"
   ]
  },
  {
   "cell_type": "code",
   "execution_count": 55,
   "id": "e440cfdb",
   "metadata": {},
   "outputs": [
    {
     "data": {
      "image/png": "[encoded data removed]",
      "text/plain": [
       "<Figure size 432x288 with 1 Axes>"
      ]
     },
     "metadata": {
      "needs_background": "light"
     },
     "output_type": "display_data"
    }
   ],
   "source": [
    "plt.step(np.linspace(0, 100, 101), u, 'g')\n",
    "# plt.step(u[5:], 'g')\n",
    "plt.legend(['u'])\n",
    "plt.show()"
   ]
  },
  {
   "cell_type": "code",
   "execution_count": 28,
   "id": "0161dbbc",
   "metadata": {},
   "outputs": [
    {
     "data": {
      "image/png": "[encoded data removed]",
      "text/plain": [
       "<Figure size 432x288 with 1 Axes>"
      ]
     },
     "metadata": {
      "needs_background": "light"
     },
     "output_type": "display_data"
    }
   ],
   "source": [
    "plt.plot(a1_est)\n",
    "plt.hlines(a1_true, 0, 100, 'blue', '--')\n",
    "\n",
    "plt.plot(a2_est)\n",
    "plt.hlines(a2_true, 0, 100, 'orange', '--')\n",
    "\n",
    "plt.plot(b0_est)\n",
    "plt.hlines(b0_true, 0, 100, 'green', '--')\n",
    "\n",
    "plt.plot(b1_est)\n",
    "plt.hlines(b1_true, 0, 100, 'red', '--')\n",
    "plt.show()"
   ]
  },
  {
   "cell_type": "markdown",
   "id": "1524288e",
   "metadata": {},
   "source": [
    "## 2.5 Disturbance Rejection"
   ]
  },
  {
   "cell_type": "code",
   "execution_count": 29,
   "id": "5160a4d9",
   "metadata": {},
   "outputs": [],
   "source": [
    "v = noise_generator()"
   ]
  },
  {
   "cell_type": "code",
   "execution_count": null,
   "id": "0e2cde15",
   "metadata": {},
   "outputs": [],
   "source": []
  },
  {
   "cell_type": "code",
   "execution_count": null,
   "id": "4c406f1c",
   "metadata": {},
   "outputs": [],
   "source": []
  },
  {
   "cell_type": "markdown",
   "id": "8194e5ba",
   "metadata": {},
   "source": [
    "# Question 3"
   ]
  },
  {
   "cell_type": "markdown",
   "id": "8c8d60dc",
   "metadata": {},
   "source": [
    "## Q3.1 Derivation of Control Parameters Direct Self-Tuning Regulator"
   ]
  },
  {
   "cell_type": "markdown",
   "id": "a84c68f1",
   "metadata": {
    "variables": {
     "Am": "$\\displaystyle a_{m1} q + a_{m2} + q^{2}$",
     "B_minus": "$\\displaystyle \\hat{b}_0$",
     "R": "$\\displaystyle q + \\frac{\\hat{b}_1}{\\hat{b}_0}$",
     "S": "$\\displaystyle \\frac{q \\left(- \\hat{a}_1 + a_{m1}\\right)}{\\hat{b}_0} + \\frac{- \\hat{a}_2 + a_{m2}}{\\hat{b}_0}$",
     "T": "$\\displaystyle \\frac{q \\left(a_{m1} + a_{m2} + 1\\right)}{\\hat{b}_0}$"
    }
   },
   "source": [
    "Given that the system is the same as in the previous question, the control parameters for the direct self-tuning regulator will also be the same. To find the reparameterized model, we look into the equation, \n",
    "\n",
    "$$ A_oA_my(t) = B^-\\big(Ru(t) + Sy(t)\\big) $$\n",
    "\n",
    "From the previous example, we know the following, \n",
    "\n",
    "$ A_0 = 1 $ \n",
    "\n",
    "$ A_m = $ {{Am}}\n",
    "\n",
    "$ B^- = $ {{B_minus}}\n",
    "\n",
    "$ R = q + r_1 = $  {{R}}\n",
    "\n",
    "$ S = s_0q + s_1 = $ {{S}}\n",
    "\n",
    "$ T = t_0q = $ {{T}}"
   ]
  },
  {
   "cell_type": "markdown",
   "id": "7760f6e3",
   "metadata": {},
   "source": [
    "Then the equation above becomes, \n",
    "\n",
    "$$ y(t) = \\frac{1}{q^2 + a_{m_1}q + a_{m_2}} \\hat{b}_0\\Big(\\big(q + r_1\\big)u(t) + \\big(s_0q + s_1\\big)y(t)\\Big) $$"
   ]
  },
  {
   "cell_type": "markdown",
   "id": "80809975",
   "metadata": {},
   "source": [
    "Commented out vv\n",
    "<!-- $$ y(t) = \\frac{1}{q^2 + a_{m_1}q + a_{m_2}} \\Big(\\big(\\hat{b}_0q + \\hat{b}_1\\big)u(t) + \\big((a_{m_1} - \\hat{a}_1)q + (a_{m_2} - \\hat{a}_2)y(t)\\Big) $$ -->\n",
    "^^"
   ]
  },
  {
   "cell_type": "markdown",
   "id": "01c810d0",
   "metadata": {},
   "source": [
    "To ensure that we are working in the backwords shift operator, we multiply the top and bottom of the equation by $q^{-2}$. Then, \n",
    "\n",
    "$$ y(t) = \\frac{1}{1 + a_{m_1}q^{-1} + a_{m_2}q^{-2}} \\Big(\\big(\\hat{b}_0q^{-1} + \\hat{b}_0r_1q^{-2}\\big)u(t) + \\big(\\hat{b}_0s_0q^{-1} + \\hat{b}_0s_1q^{-2}\\big)y(t)\\Big) $$"
   ]
  },
  {
   "cell_type": "markdown",
   "id": "ed39d0bc",
   "metadata": {},
   "source": [
    "Then by distributing the outermost bracket into the inputs and outputs, $u(t)$ and $y(t)$ respectively, the output may be written as, \n",
    "\n",
    "$$ y(t) = \\Big(\\big(\\hat{b}_0q^{-1} + \\hat{b}_0r_1q^{-2}\\big)u_f(t) + \\big(\\hat{b}_0s_0q^{-1} + \\hat{b}_0s_1q^{-2}\\big)y_f(t)\\Big) $$\n",
    "\n",
    "where, \n",
    "\n",
    "$$ u_f(t) = \\frac{1}{1 + a_{m_1}q^{-1} + a_{m_2}q^{-2}} u(t) $$\n",
    "\n",
    "$$ y_f(t) = \\frac{1}{1 + a_{m_1}q^{-1} + a_{m_2}q^{-2}} y(t) $$"
   ]
  },
  {
   "cell_type": "markdown",
   "id": "1a13ca1c",
   "metadata": {},
   "source": [
    "Expanding these equations we get,\n",
    "\n",
    "$$ u_f(t) = u(t) - a_{m_1}u_f(t-1) - a_{m_2}u_f(t-2) $$\n",
    "\n",
    "and \n",
    "\n",
    "$$ y_f(t) = u(t) - a_{m_1}y_f(t-1) - a_{m_2}y_f(t-2) $$"
   ]
  },
  {
   "cell_type": "markdown",
   "id": "22a6253d",
   "metadata": {},
   "source": [
    "Recalling the output of the system we can redefine it to be, \n",
    "\n",
    "$$ y(t) = \\hat{b}_0u_f(t-1) + \\hat{b}_0r_1u_f(t-2) + \\hat{b}_0s_0y_f(t-1) + \\hat{b}_0s_1y_f(t-2) = \\phi(t-1)^T\\theta $$"
   ]
  },
  {
   "cell_type": "markdown",
   "id": "76808e16",
   "metadata": {},
   "source": [
    "with, \n",
    "\n",
    "$ \\phi(t) = \\big[u_f(t)\\ u_f(t-1)\\ y_f(t)\\ y_f(t-1)\\big]^T $\n",
    "\n",
    "and \n",
    "\n",
    "$\\theta = \\big[\\hat{r}_0\\ \\hat{r}_1\\ \\hat{s}_0\\ \\hat{s}_1 \\big]^T$\n",
    "\n",
    "With these known, we can use the recursive linear regressor to approximate the parameters for $\\theta$ "
   ]
  },
  {
   "cell_type": "markdown",
   "id": "0d10f474",
   "metadata": {
    "variables": {
     "R": "$\\displaystyle q + \\frac{\\hat{b}_1}{\\hat{b}_0}$",
     "S": "$\\displaystyle \\frac{q \\left(- \\hat{a}_1 + a_{m1}\\right)}{\\hat{b}_0} + \\frac{- \\hat{a}_2 + a_{m2}}{\\hat{b}_0}$",
     "T": "$\\displaystyle \\frac{q \\left(a_{m1} + a_{m2} + 1\\right)}{\\hat{b}_0}$",
     "sp.Matrix([theta[0], theta[1], theta[2], theta[3]])": "$\\displaystyle \\left[\\begin{matrix}-0.503215\\\\0.0497871\\\\1.59831\\\\0.587984\\end{matrix}\\right]$"
    }
   },
   "source": [
    "$ S = $ {{S}}\n",
    "\n",
    "$ R = $ {{R}}\n",
    "\n",
    "$ T = $ {{T}}\n",
    "\n",
    "$ \\theta = $ {{sp.Matrix([theta[0], theta[1], theta[2], theta[3]])}}"
   ]
  },
  {
   "cell_type": "markdown",
   "id": "1ee97220",
   "metadata": {},
   "source": [
    "## Q3.2 Implementation of Direct Self-Tuning Regulator"
   ]
  },
  {
   "cell_type": "code",
   "execution_count": 32,
   "id": "a9312e5a",
   "metadata": {},
   "outputs": [],
   "source": [
    "uc = reference_signal()\n",
    "lam = 1\n",
    "\n",
    "# Assignmnent, works\n",
    "am1 = -2*np.exp(-2)\n",
    "am2 = np.exp(-4)\n",
    "r0_true, r1_true, s0_true, s1_true = 1.59831, 0.587984, 0.23254443, -0.03147146\n",
    "t0_true = 1 + am1 + am2\n",
    "t0 = t0_true\n",
    "\n",
    "theta = np.array([r0_true, r1_true, s0_true, s1_true]).reshape(4,-1)"
   ]
  },
  {
   "cell_type": "code",
   "execution_count": 38,
   "id": "be0d162a",
   "metadata": {},
   "outputs": [],
   "source": [
    "# Initializing the coefficients for A, B for t = 0\n",
    "theta_hat = np.array([0.1, 0., 0., 0.]).reshape(4,-1)\n",
    "P = np.diag([10, 1, 100, 10])  # WORKS \n",
    "\n",
    "# Calculating the control parameters for t = 0\n",
    "uf = np.array([0])\n",
    "yf = np.array([0])\n",
    "phi = np.array([0, 0, 0, 0]).reshape(4,-1)\n",
    "\n",
    "y = np.array([0])\n",
    "u = t0*uc[0]\n",
    "\n",
    "# Initializing the coefficients for A, B for t = 0\n",
    "K = P @ phi @ inv(lam + trans(phi) @ P @ phi)\n",
    "theta_hat = theta_hat + K @ (y[0] - trans(phi) @ theta_hat)\n",
    "P = (np.eye(len(phi)) - K @ trans(phi)) @ P /lam\n",
    "\n",
    "# Calculating the control parameters for t = 0\n",
    "uf = np.array([0])\n",
    "yf = np.array([0])\n",
    "phi = np.array([0, 0, 0, 0]).reshape(4,-1)\n",
    "\n",
    "y = np.array([0])\n",
    "\n",
    "\n",
    "\n",
    "\n",
    "\n",
    "\n",
    "\n",
    "\n",
    "\n",
    "\n",
    "\n",
    "# # Calculating the coefficients for A, B for t = 1\n",
    "# phi = np.array([-y[0], 0, u[0], 0]).reshape(4,1)\n",
    "# # y = np.concatenate((y, \n",
    "# #                     (trans(phi) @ theta).reshape(-1)), axis=0)\n",
    "\n",
    "# y = np.concatenate((y, \n",
    "#                     (trans(phi) @ theta).reshape(-1)), axis=0)\n",
    "\n",
    "# K = P @ phi @ inv(lam + trans(phi) @ P @ phi)\n",
    "# theta_hat = theta_hat + K @ (y[1] - trans(phi) @ theta_hat)\n",
    "# P = (np.eye(len(phi)) - K @ trans(phi)) @ P /lam\n",
    "\n",
    "# a1_est = np.concatenate((a1_est, theta_hat[0]), axis=0)\n",
    "# a2_est = np.concatenate((a2_est, theta_hat[1]), axis=0)\n",
    "# b0_est = np.concatenate((b0_est, theta_hat[2]), axis=0)\n",
    "# b1_est = np.concatenate((b1_est, theta_hat[3]), axis=0)\n",
    "\n",
    "# # Calculating the control parameters for t = 1\n",
    "# r1 = theta_hat[3]/theta_hat[2]\n",
    "# t0 = (am1 + am2 + 1)/theta_hat[2]\n",
    "# s0 = (am1 - theta_hat[0])/theta_hat[2]\n",
    "# s1 = (am2 - theta_hat[1])/theta_hat[2]\n",
    "# u = np.concatenate((u, \n",
    "#                     -r1*u[0] + t0*uc[1] - s0*y[1] - s1*y[0]))\n",
    "\n"
   ]
  },
  {
   "cell_type": "code",
   "execution_count": 39,
   "id": "1b4a4348",
   "metadata": {},
   "outputs": [
    {
     "data": {
      "text/plain": [
       "array([3.2181737])"
      ]
     },
     "execution_count": 39,
     "metadata": {},
     "output_type": "execute_result"
    }
   ],
   "source": [
    "u"
   ]
  },
  {
   "cell_type": "code",
   "execution_count": null,
   "id": "10327957",
   "metadata": {},
   "outputs": [],
   "source": []
  }
 ],
 "metadata": {
  "kernelspec": {
   "display_name": "Python 3",
   "language": "python",
   "name": "python3"
  },
  "language_info": {
   "codemirror_mode": {
    "name": "ipython",
    "version": 3
   },
   "file_extension": ".py",
   "mimetype": "text/x-python",
   "name": "python",
   "nbconvert_exporter": "python",
   "pygments_lexer": "ipython3",
   "version": "3.8.8"
  }
 },
 "nbformat": 4,
 "nbformat_minor": 5
}
