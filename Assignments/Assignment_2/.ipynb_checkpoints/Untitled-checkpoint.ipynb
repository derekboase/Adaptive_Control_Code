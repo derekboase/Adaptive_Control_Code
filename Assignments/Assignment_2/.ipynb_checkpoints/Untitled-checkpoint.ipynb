{
 "cells": [
  {
   "cell_type": "code",
   "execution_count": 3,
   "id": "9b1285ff",
   "metadata": {},
   "outputs": [],
   "source": [
    "import control as co\n",
    "import numpy as np\n",
    "import sympy as sp \n",
    "from sympy.abc import omega, zeta"
   ]
  },
  {
   "cell_type": "code",
   "execution_count": 17,
   "id": "42f9fdbb",
   "metadata": {},
   "outputs": [],
   "source": [
    "a, ao, b, r1, s, s0, s1, t0 = sp.symbols('a,a_o,b,r_1, s, s_0, s_1, t_0')\n",
    "B = b\n",
    "B_minus = b\n",
    "A = s*(s + a)\n",
    "R_prime = s + r1\n",
    "S = s0*s + s1\n",
    "\n",
    "Ao = s + ao\n",
    "Am = s**2 + 2*zeta*omega*s + omega**2"
   ]
  },
  {
   "cell_type": "code",
   "execution_count": 23,
   "id": "ccd8c88e",
   "metadata": {},
   "outputs": [
    {
     "data": {
      "text/latex": [
       "$\\displaystyle b s_{1} + s^{3} + s^{2} \\left(a + r_{1}\\right) + s \\left(a r_{1} + b s_{0}\\right)$"
      ],
      "text/plain": [
       "b*s_1 + s**3 + s**2*(a + r_1) + s*(a*r_1 + b*s_0)"
      ]
     },
     "execution_count": 23,
     "metadata": {},
     "output_type": "execute_result"
    }
   ],
   "source": [
    "dio_LHS = sp.collect(sp.expand(A*R_prime + B_minus*S), s)\n",
    "dio_LHS"
   ]
  },
  {
   "cell_type": "code",
   "execution_count": 24,
   "id": "2c1d2985",
   "metadata": {},
   "outputs": [
    {
     "data": {
      "text/latex": [
       "$\\displaystyle a_{o} \\omega^{2} + s^{3} + s^{2} \\left(a_{o} + 2 \\omega \\zeta\\right) + s \\left(2 a_{o} \\omega \\zeta + \\omega^{2}\\right)$"
      ],
      "text/plain": [
       "a_o*omega**2 + s**3 + s**2*(a_o + 2*omega*zeta) + s*(2*a_o*omega*zeta + omega**2)"
      ]
     },
     "execution_count": 24,
     "metadata": {},
     "output_type": "execute_result"
    }
   ],
   "source": [
    "dio_RHS = sp.collect(sp.expand(Ao*Am), s)\n",
    "dio_RHS"
   ]
  },
  {
   "cell_type": "code",
   "execution_count": 26,
   "id": "554d010f",
   "metadata": {},
   "outputs": [
    {
     "data": {
      "text/latex": [
       "$\\displaystyle \\operatorname{Poly}{\\left( \\left(a - a_{o} - 2 \\omega \\zeta + r_{1}\\right) s^{2} + \\left(a r_{1} - 2 a_{o} \\omega \\zeta + b s_{0} - \\omega^{2}\\right) s -  a_{o} \\omega^{2} + b s_{1}, s, domain=\\mathbb{Z}\\left[a, b, a_{o}, \\omega, r_{1}, s_{0}, s_{1}, \\zeta\\right] \\right)}$"
      ],
      "text/plain": [
       "Poly((a - a_o - 2*omega*zeta + r_1)*s**2 + (a*r_1 - 2*a_o*omega*zeta + b*s_0 - omega**2)*s - a_o*omega**2 + b*s_1, s, domain='ZZ[a,b,a_o,omega,r_1,s_0,s_1,zeta]')"
      ]
     },
     "execution_count": 26,
     "metadata": {},
     "output_type": "execute_result"
    }
   ],
   "source": [
    "dio_poly = sp.Poly(dio_LHS - dio_RHS, s)\n",
    "dio_poly"
   ]
  },
  {
   "cell_type": "code",
   "execution_count": 29,
   "id": "4d979471",
   "metadata": {},
   "outputs": [
    {
     "data": {
      "text/latex": [
       "$\\displaystyle - a + a_{o} + 2 \\omega \\zeta$"
      ],
      "text/plain": [
       "-a + a_o + 2*omega*zeta"
      ]
     },
     "execution_count": 29,
     "metadata": {},
     "output_type": "execute_result"
    }
   ],
   "source": [
    "r1_sym = sp.solve(dio_poly.coeffs()[0], r1)\n",
    "r1_sym[0]"
   ]
  },
  {
   "cell_type": "code",
   "execution_count": null,
   "id": "4a67b11b",
   "metadata": {},
   "outputs": [],
   "source": []
  }
 ],
 "metadata": {
  "kernelspec": {
   "display_name": "Python 3 (ipykernel)",
   "language": "python",
   "name": "python3"
  },
  "language_info": {
   "codemirror_mode": {
    "name": "ipython",
    "version": 3
   },
   "file_extension": ".py",
   "mimetype": "text/x-python",
   "name": "python",
   "nbconvert_exporter": "python",
   "pygments_lexer": "ipython3",
   "version": "3.8.10"
  }
 },
 "nbformat": 4,
 "nbformat_minor": 5
}
