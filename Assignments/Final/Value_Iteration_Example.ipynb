{
 "cells": [
  {
   "cell_type": "code",
   "execution_count": 1,
   "id": "213b28c0",
   "metadata": {},
   "outputs": [],
   "source": [
    "import matplotlib.pyplot as plt\n",
    "import numpy as np \n",
    "import sympy as sp \n",
    "\n",
    "from numpy.linalg import inv\n",
    "from numpy import cos, sin"
   ]
  },
  {
   "cell_type": "code",
   "execution_count": 2,
   "id": "f315d15f",
   "metadata": {},
   "outputs": [],
   "source": [
    "u, x1, x2 = sp.symbols('u,x1,x2')\n",
    "w1, w2, w3, w4, w5 = sp.symbols('w_1,w_2,w_3,w_4,w_5')\n",
    "DTA, _thetad = sp.symbols('Delta,\\\\theta_{d}')"
   ]
  },
  {
   "cell_type": "code",
   "execution_count": 3,
   "id": "c3731437",
   "metadata": {},
   "outputs": [
    {
     "data": {
      "text/latex": [
       "$\\displaystyle \\left[\\begin{matrix}x_{1}\\\\x_{2}\\\\x_{1}^{2}\\\\x_{1} x_{2}\\\\x_{2}^{2}\\end{matrix}\\right]$"
      ],
      "text/plain": [
       "Matrix([\n",
       "[   x1],\n",
       "[   x2],\n",
       "[x1**2],\n",
       "[x1*x2],\n",
       "[x2**2]])"
      ]
     },
     "metadata": {},
     "output_type": "display_data"
    },
    {
     "data": {
      "text/latex": [
       "$\\displaystyle \\left[\\begin{matrix}1 & 0\\\\0 & 1\\\\2 x_{1} & 0\\\\x_{2} & x_{1}\\\\0 & 2 x_{2}\\end{matrix}\\right]$"
      ],
      "text/plain": [
       "Matrix([\n",
       "[   1,    0],\n",
       "[   0,    1],\n",
       "[2*x1,    0],\n",
       "[  x2,   x1],\n",
       "[   0, 2*x2]])"
      ]
     },
     "metadata": {},
     "output_type": "display_data"
    },
    {
     "data": {
      "text/latex": [
       "$\\displaystyle \\left[\\begin{matrix}\\Delta x_{2} + x_{1}\\\\\\Delta \\left(9.81 \\sin{\\left(\\theta_{d} \\right)} - 9.81 \\sin{\\left(\\theta_{d} + x_{1} \\right)}\\right) + x_{2}\\end{matrix}\\right]$"
      ],
      "text/plain": [
       "Matrix([\n",
       "[                                                Delta*x2 + x1],\n",
       "[Delta*(9.81*sin(\\theta_{d}) - 9.81*sin(\\theta_{d} + x1)) + x2]])"
      ]
     },
     "metadata": {},
     "output_type": "display_data"
    }
   ],
   "source": [
    "g = 9.81\n",
    "L = 1 \n",
    "delta = 0.01\n",
    "tf = 20\n",
    "time = np.arange(0, tf , delta)\n",
    "thetad = np.pi/6\n",
    "\n",
    "alpha = 0.01\n",
    "beta = 1\n",
    "gamma = 0.9\n",
    "R = np.array([0.05]).reshape(1,)\n",
    "Q = np.eye(2)\n",
    "\n",
    "_phi = sp.Matrix([x1, x2, x1**2, x1*x2, x2**2])\n",
    "display(_phi)\n",
    "\n",
    "_phi_der = sp.zeros(len(_phi), 2)\n",
    "_phi_der[:, 0] = sp.diff(_phi, x1)\n",
    "_phi_der[:, 1] = sp.diff(_phi, x2)\n",
    "display(_phi_der)\n",
    "\n",
    "_fx = sp.Matrix([[x1 + DTA*x2], [x2 + DTA*(g/L*(sp.sin(_thetad) - sp.sin(_thetad + x1)))]])\n",
    "display(_fx)\n",
    "\n",
    "NL = 5"
   ]
  },
  {
   "cell_type": "code",
   "execution_count": 4,
   "id": "e514f751",
   "metadata": {},
   "outputs": [
    {
     "data": {
      "text/plain": [
       "0.49999999999999994"
      ]
     },
     "execution_count": 4,
     "metadata": {},
     "output_type": "execute_result"
    }
   ],
   "source": [
    "np.sin(np.pi/6)"
   ]
  },
  {
   "cell_type": "code",
   "execution_count": null,
   "id": "4a756e9f",
   "metadata": {},
   "outputs": [],
   "source": []
  },
  {
   "cell_type": "code",
   "execution_count": null,
   "id": "bbb1c6ed",
   "metadata": {},
   "outputs": [],
   "source": []
  },
  {
   "cell_type": "code",
   "execution_count": null,
   "id": "627388b3",
   "metadata": {},
   "outputs": [],
   "source": []
  },
  {
   "cell_type": "code",
   "execution_count": null,
   "id": "9739d33a",
   "metadata": {},
   "outputs": [],
   "source": []
  },
  {
   "cell_type": "code",
   "execution_count": null,
   "id": "b7a50943",
   "metadata": {},
   "outputs": [],
   "source": []
  },
  {
   "cell_type": "code",
   "execution_count": null,
   "id": "d29e368c",
   "metadata": {},
   "outputs": [],
   "source": []
  },
  {
   "cell_type": "code",
   "execution_count": null,
   "id": "8695c859",
   "metadata": {},
   "outputs": [],
   "source": []
  },
  {
   "cell_type": "code",
   "execution_count": null,
   "id": "a70dfcdc",
   "metadata": {},
   "outputs": [],
   "source": []
  },
  {
   "cell_type": "code",
   "execution_count": null,
   "id": "a3f0017a",
   "metadata": {},
   "outputs": [],
   "source": []
  },
  {
   "cell_type": "code",
   "execution_count": null,
   "id": "8dba94e6",
   "metadata": {},
   "outputs": [],
   "source": []
  },
  {
   "cell_type": "code",
   "execution_count": null,
   "id": "c866f66c",
   "metadata": {},
   "outputs": [],
   "source": []
  },
  {
   "cell_type": "code",
   "execution_count": null,
   "id": "19c3f87c",
   "metadata": {},
   "outputs": [],
   "source": []
  },
  {
   "cell_type": "code",
   "execution_count": null,
   "id": "42308724",
   "metadata": {},
   "outputs": [],
   "source": []
  },
  {
   "cell_type": "code",
   "execution_count": null,
   "id": "87002ad3",
   "metadata": {},
   "outputs": [],
   "source": []
  },
  {
   "cell_type": "code",
   "execution_count": null,
   "id": "7dccdef9",
   "metadata": {},
   "outputs": [],
   "source": []
  },
  {
   "cell_type": "code",
   "execution_count": null,
   "id": "30cad81e",
   "metadata": {},
   "outputs": [],
   "source": []
  },
  {
   "cell_type": "code",
   "execution_count": null,
   "id": "092972c8",
   "metadata": {},
   "outputs": [],
   "source": []
  },
  {
   "cell_type": "code",
   "execution_count": null,
   "id": "dca1ac97",
   "metadata": {},
   "outputs": [],
   "source": []
  },
  {
   "cell_type": "code",
   "execution_count": null,
   "id": "57f70a84",
   "metadata": {},
   "outputs": [],
   "source": []
  },
  {
   "cell_type": "code",
   "execution_count": null,
   "id": "09142deb",
   "metadata": {},
   "outputs": [],
   "source": []
  },
  {
   "cell_type": "code",
   "execution_count": null,
   "id": "840f3bf8",
   "metadata": {},
   "outputs": [],
   "source": []
  },
  {
   "cell_type": "code",
   "execution_count": null,
   "id": "c301fe11",
   "metadata": {},
   "outputs": [],
   "source": []
  },
  {
   "cell_type": "code",
   "execution_count": null,
   "id": "2c1ca6d7",
   "metadata": {},
   "outputs": [],
   "source": []
  },
  {
   "cell_type": "code",
   "execution_count": null,
   "id": "4cfe7474",
   "metadata": {},
   "outputs": [],
   "source": []
  },
  {
   "cell_type": "code",
   "execution_count": null,
   "id": "f3869368",
   "metadata": {},
   "outputs": [],
   "source": []
  },
  {
   "cell_type": "code",
   "execution_count": null,
   "id": "750030bf",
   "metadata": {},
   "outputs": [],
   "source": []
  },
  {
   "cell_type": "code",
   "execution_count": null,
   "id": "ec44c2b8",
   "metadata": {},
   "outputs": [],
   "source": []
  },
  {
   "cell_type": "code",
   "execution_count": null,
   "id": "7345d022",
   "metadata": {},
   "outputs": [],
   "source": []
  },
  {
   "cell_type": "code",
   "execution_count": null,
   "id": "10a6d282",
   "metadata": {},
   "outputs": [],
   "source": []
  },
  {
   "cell_type": "code",
   "execution_count": null,
   "id": "3942184a",
   "metadata": {},
   "outputs": [],
   "source": []
  },
  {
   "cell_type": "code",
   "execution_count": null,
   "id": "fe9012cb",
   "metadata": {},
   "outputs": [],
   "source": []
  },
  {
   "cell_type": "code",
   "execution_count": null,
   "id": "891970d5",
   "metadata": {},
   "outputs": [],
   "source": []
  },
  {
   "cell_type": "code",
   "execution_count": null,
   "id": "830477b9",
   "metadata": {},
   "outputs": [],
   "source": []
  },
  {
   "cell_type": "code",
   "execution_count": null,
   "id": "e4fd3806",
   "metadata": {},
   "outputs": [],
   "source": []
  },
  {
   "cell_type": "code",
   "execution_count": null,
   "id": "42761027",
   "metadata": {},
   "outputs": [],
   "source": []
  },
  {
   "cell_type": "code",
   "execution_count": null,
   "id": "3eb1252e",
   "metadata": {},
   "outputs": [],
   "source": []
  },
  {
   "cell_type": "code",
   "execution_count": null,
   "id": "34e2f828",
   "metadata": {},
   "outputs": [],
   "source": []
  },
  {
   "cell_type": "code",
   "execution_count": null,
   "id": "2300cf75",
   "metadata": {},
   "outputs": [],
   "source": []
  },
  {
   "cell_type": "code",
   "execution_count": null,
   "id": "0a205132",
   "metadata": {},
   "outputs": [],
   "source": []
  },
  {
   "cell_type": "code",
   "execution_count": null,
   "id": "d8e5b434",
   "metadata": {},
   "outputs": [],
   "source": []
  },
  {
   "cell_type": "code",
   "execution_count": null,
   "id": "22593473",
   "metadata": {},
   "outputs": [],
   "source": []
  },
  {
   "cell_type": "markdown",
   "id": "0fe5a989",
   "metadata": {},
   "source": [
    "## Working?"
   ]
  },
  {
   "cell_type": "code",
   "execution_count": 5,
   "id": "1b9d42f4",
   "metadata": {},
   "outputs": [],
   "source": [
    "g = 9.81\n",
    "L = 1 \n",
    "DELTA = 0.01\n",
    "thetad = np.pi/6\n",
    "tf = 20\n",
    "NN = tf/DELTA\n",
    "alpha = 0.01\n",
    "beta = 1\n",
    "gamma = 0.9\n",
    "Q = np.eye(2)\n",
    "R = np.array([0.05]).reshape(1,)\n",
    "NL = 5"
   ]
  },
  {
   "cell_type": "code",
   "execution_count": 6,
   "id": "f3a2c794",
   "metadata": {},
   "outputs": [],
   "source": [
    "uk, x1k, x2k = sp.symbols('u_k,x_{1}(k),x_{2}(k)')\n",
    "w1, w2, w3, w4, w5 = sp.symbols('w_1,w_2,w_3,w_4,w_5')\n",
    "\n",
    "phi = sp.Matrix([x1k, x2k, x1k**2, x1k*x2k, x2k**2])\n",
    "phi_func = sp.lambdify([x1k, x2k], phi)\n",
    "\n",
    "phi_der = sp.zeros(len(sp.diff(phi, x1k)), 2)\n",
    "phi_der[:, 0] = sp.diff(phi, x1k) \n",
    "phi_der[:, 1] = sp.diff(phi, x2k) \n",
    "phi_der\n",
    "phi_der_func = sp.lambdify([x1k, x2k], phi_der)\n",
    "\n",
    "X = sp.Matrix([x1k, x2k])\n",
    "X_func = sp.lambdify([x1k, x2k], X)\n",
    "\n",
    "W = sp.Matrix([w1, w2, w3, w4, w5])\n",
    "W_func = sp.lambdify([w1, w2, w3, w4, w5], W)\n",
    "\n",
    "fx = sp.Matrix([[x1k + DELTA*x2k], [x2k + DELTA*(g*(0.5 - sp.sin(sp.pi/6 + x1k)))]])\n",
    "fx_func = sp.lambdify([x1k, x2k], fx)\n",
    "\n",
    "gx = np.array([0, DELTA]).reshape(-1,1)\n",
    "\n",
    "rx = X.T@Q@X + (R*uk**2).reshape(1,1)\n",
    "rx_func = sp.lambdify([x1k, x2k, uk], rx)\n",
    "\n",
    "u_j = (-gamma/2*inv(R.reshape(-1,1)).reshape(R.shape))[0]*gx.T@phi_der.T@W\n",
    "uj_func = sp.lambdify([x1k, x2k, w1, w2, w3, w4, w5], u_j)"
   ]
  },
  {
   "cell_type": "code",
   "execution_count": 7,
   "id": "0d7a07ea",
   "metadata": {},
   "outputs": [
    {
     "data": {
      "text/latex": [
       "$\\displaystyle \\left[\\begin{matrix}x_{1}(k)\\\\x_{2}(k)\\\\x_{1}(k)^{2}\\\\x_{1}(k) x_{2}(k)\\\\x_{2}(k)^{2}\\end{matrix}\\right]$"
      ],
      "text/plain": [
       "Matrix([\n",
       "[         x_{1}(k)],\n",
       "[         x_{2}(k)],\n",
       "[      x_{1}(k)**2],\n",
       "[x_{1}(k)*x_{2}(k)],\n",
       "[      x_{2}(k)**2]])"
      ]
     },
     "metadata": {},
     "output_type": "display_data"
    },
    {
     "data": {
      "text/latex": [
       "$\\displaystyle \\left[\\begin{matrix}1 & 0\\\\0 & 1\\\\2 x_{1}(k) & 0\\\\x_{2}(k) & x_{1}(k)\\\\0 & 2 x_{2}(k)\\end{matrix}\\right]$"
      ],
      "text/plain": [
       "Matrix([\n",
       "[         1,          0],\n",
       "[         0,          1],\n",
       "[2*x_{1}(k),          0],\n",
       "[  x_{2}(k),   x_{1}(k)],\n",
       "[         0, 2*x_{2}(k)]])"
      ]
     },
     "metadata": {},
     "output_type": "display_data"
    },
    {
     "data": {
      "text/latex": [
       "$\\displaystyle \\left[\\begin{matrix}x_{1}(k)\\\\x_{2}(k)\\end{matrix}\\right]$"
      ],
      "text/plain": [
       "Matrix([\n",
       "[x_{1}(k)],\n",
       "[x_{2}(k)]])"
      ]
     },
     "metadata": {},
     "output_type": "display_data"
    },
    {
     "data": {
      "text/latex": [
       "$\\displaystyle \\left[\\begin{matrix}x_{1}(k) + 0.01 x_{2}(k)\\\\x_{2}(k) - 0.0981 \\sin{\\left(x_{1}(k) + \\frac{\\pi}{6} \\right)} + 0.04905\\end{matrix}\\right]$"
      ],
      "text/plain": [
       "Matrix([\n",
       "[                        x_{1}(k) + 0.01*x_{2}(k)],\n",
       "[x_{2}(k) - 0.0981*sin(x_{1}(k) + pi/6) + 0.04905]])"
      ]
     },
     "metadata": {},
     "output_type": "display_data"
    },
    {
     "data": {
      "text/plain": [
       "array([[0.  ],\n",
       "       [0.01]])"
      ]
     },
     "metadata": {},
     "output_type": "display_data"
    },
    {
     "data": {
      "text/latex": [
       "$\\displaystyle \\left[\\begin{matrix}0.05 u_{k}^{2} + 1.0 x_{1}(k)^{2} + 1.0 x_{2}(k)^{2}\\end{matrix}\\right]$"
      ],
      "text/plain": [
       "Matrix([[0.05*u_k**2 + 1.0*x_{1}(k)**2 + 1.0*x_{2}(k)**2]])"
      ]
     },
     "metadata": {},
     "output_type": "display_data"
    },
    {
     "data": {
      "text/latex": [
       "$\\displaystyle \\left[\\begin{matrix}- 0.09 w_{2} - 0.09 w_{4} x_{1}(k) - 0.18 w_{5} x_{2}(k)\\end{matrix}\\right]$"
      ],
      "text/plain": [
       "Matrix([[-0.09*w_2 - 0.09*w_4*x_{1}(k) - 0.18*w_5*x_{2}(k)]])"
      ]
     },
     "metadata": {},
     "output_type": "display_data"
    }
   ],
   "source": [
    "display(phi)\n",
    "display(phi_der)\n",
    "display(X)\n",
    "display(fx)\n",
    "display(gx)\n",
    "display(rx)\n",
    "display(u_j)"
   ]
  },
  {
   "cell_type": "code",
   "execution_count": 12,
   "id": "a28eae77",
   "metadata": {},
   "outputs": [
    {
     "data": {
      "image/png": "[encoded data removed]",
      "text/plain": [
       "<Figure size 432x288 with 1 Axes>"
      ]
     },
     "metadata": {
      "needs_background": "light"
     },
     "output_type": "display_data"
    },
    {
     "data": {
      "image/png": "[encoded data removed]",
      "text/plain": [
       "<Figure size 432x288 with 1 Axes>"
      ]
     },
     "metadata": {
      "needs_background": "light"
     },
     "output_type": "display_data"
    },
    {
     "data": {
      "image/png": "[encoded data removed]",
      "text/plain": [
       "<Figure size 432x288 with 1 Axes>"
      ]
     },
     "metadata": {
      "needs_background": "light"
     },
     "output_type": "display_data"
    },
    {
     "data": {
      "image/png": "[encoded data removed]",
      "text/plain": [
       "<Figure size 432x288 with 1 Axes>"
      ]
     },
     "metadata": {
      "needs_background": "light"
     },
     "output_type": "display_data"
    }
   ],
   "source": [
    "kt = 0\n",
    "time = np.array([0]).reshape(-1,)\n",
    "X_vals = X_func(np.pi/6, 0)\n",
    "W_vals =  W_func(0.1*np.random.rand(),\n",
    "                 0.1*np.random.rand(),\n",
    "                 0.1*np.random.rand(),\n",
    "                 0.1*np.random.rand(),\n",
    "                 0.1*np.random.rand())\n",
    "uj = uj_func(X_vals[0], \n",
    "              X_vals[1], \n",
    "              W_vals[0], \n",
    "              W_vals[1],\n",
    "              W_vals[2],\n",
    "              W_vals[3],\n",
    "              W_vals[4]).reshape(-1,)\n",
    "u_vals = uj\n",
    "while kt < 2*NN:\n",
    "    X_vals = np.concatenate((X_vals, \n",
    "                            (fx_func(X_vals[:,-1][0], X_vals[:,-1][1]) + gx*uj).reshape(-1,1)), axis=1)\n",
    "\n",
    "    kt += 1\n",
    "    time = np.concatenate((time, \n",
    "                           np.array([kt*DELTA])))\n",
    "    phi_lop = phi_func(X_vals[:,-2][0], X_vals[:,-2][1])\n",
    "    val_approx = rx_func(X_vals[:,-2][0], X_vals[:,-2][1], u_vals[-1]) + gamma*phi_func(X_vals[:,-1][0], X_vals[:,-1][1]).T@W_vals[:,-1]\n",
    "    Wji = W_vals[:, -1].reshape(-1,1)\n",
    "    uj = u_vals[-1].reshape(-1,1)\n",
    "    Wj = Wji\n",
    "    count = 1\n",
    "    \n",
    "    while False if count > 1 and np.sqrt((Wjim-Wji).T@(Wjim-Wji)) else True and count < 1000:\n",
    "        Wjim = Wji\n",
    "        Wji = Wji - alpha*phi_lop@(phi_lop.T@Wji - val_approx)\n",
    "        W_vals = np.concatenate((W_vals, \n",
    "                                 (Wji).reshape(-1,1)), axis=1)\n",
    "        X_vals = np.concatenate((X_vals, \n",
    "                                (fx_func(X_vals[:,-1][0], X_vals[:,-1][1]) + gx*uj).reshape(-1,1)), axis=1)\n",
    "        kt += 1\n",
    "        time = np.concatenate((time,\n",
    "                              (np.array([kt*DELTA]))))\n",
    "        uj = uj_func(X_vals[:,-1][0], X_vals[:,-1][1], Wj[0], Wj[1], Wj[2], Wj[3], Wj[4]).reshape(-1,)\n",
    "        u_vals = np.concatenate((u_vals, uj))\n",
    "        phi_lop = phi_func(X_vals[:,-2][0], X_vals[:,-2][1])\n",
    "        val_approx = rx_func(X_vals[:,-2][0], X_vals[:,-2][1], u_vals[-1]) + gamma*phi_func(X_vals[:,-1][0], X_vals[:,-1][1]).T@Wj\n",
    "        count += 1\n",
    "        \n",
    "    W_vals = np.concatenate((W_vals, \n",
    "                            Wji), axis=1)\n",
    "    uj = uj_func(X_vals[:,-1][0], X_vals[:,-1][1], Wj[0], Wj[1], Wj[2], Wj[3], Wj[4]).reshape(-1,)\n",
    "    u_vals = np.concatenate((u_vals, uj))\n",
    "    \n",
    "plt.plot(time, np.rad2deg(X_vals[0, :]))\n",
    "plt.show()\n",
    "\n",
    "plt.plot(time, X_vals[1, :])\n",
    "plt.show()\n",
    "\n",
    "plt.plot(time, u_vals)\n",
    "plt.show()\n",
    "\n",
    "for i in W_vals:\n",
    "    plt.plot(time, i)\n",
    "plt.show()"
   ]
  },
  {
   "cell_type": "code",
   "execution_count": 9,
   "id": "4eaba673",
   "metadata": {},
   "outputs": [
    {
     "data": {
      "text/plain": [
       "(5, 4001)"
      ]
     },
     "execution_count": 9,
     "metadata": {},
     "output_type": "execute_result"
    }
   ],
   "source": [
    "W_vals.shape"
   ]
  },
  {
   "cell_type": "code",
   "execution_count": 13,
   "id": "b9a5985c",
   "metadata": {},
   "outputs": [
    {
     "data": {
      "text/plain": [
       "0.048833135483486"
      ]
     },
     "execution_count": 13,
     "metadata": {},
     "output_type": "execute_result"
    }
   ],
   "source": [
    "0.1*np.random.rand()"
   ]
  },
  {
   "cell_type": "code",
   "execution_count": 14,
   "id": "8bbe364e",
   "metadata": {},
   "outputs": [
    {
     "data": {
      "text/plain": [
       "0.0013355711714772012"
      ]
     },
     "execution_count": 14,
     "metadata": {},
     "output_type": "execute_result"
    }
   ],
   "source": [
    "0.1*np.random.rand()"
   ]
  },
  {
   "cell_type": "code",
   "execution_count": 15,
   "id": "43c2da1e",
   "metadata": {},
   "outputs": [
    {
     "data": {
      "text/plain": [
       "0.08050476735448009"
      ]
     },
     "execution_count": 15,
     "metadata": {},
     "output_type": "execute_result"
    }
   ],
   "source": [
    "0.1*np.random.rand()"
   ]
  },
  {
   "cell_type": "code",
   "execution_count": null,
   "id": "abf05b14",
   "metadata": {},
   "outputs": [],
   "source": []
  },
  {
   "cell_type": "code",
   "execution_count": null,
   "id": "59e1bf31",
   "metadata": {},
   "outputs": [],
   "source": []
  }
 ],
 "metadata": {
  "kernelspec": {
   "display_name": "Python 3 (ipykernel)",
   "language": "python",
   "name": "python3"
  },
  "language_info": {
   "codemirror_mode": {
    "name": "ipython",
    "version": 3
   },
   "file_extension": ".py",
   "mimetype": "text/x-python",
   "name": "python",
   "nbconvert_exporter": "python",
   "pygments_lexer": "ipython3",
   "version": "3.8.10"
  }
 },
 "nbformat": 4,
 "nbformat_minor": 5
}
