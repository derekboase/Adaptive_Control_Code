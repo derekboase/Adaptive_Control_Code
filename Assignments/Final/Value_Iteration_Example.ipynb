{
 "cells": [
  {
   "cell_type": "code",
   "execution_count": 1,
   "id": "db6d30d5",
   "metadata": {},
   "outputs": [],
   "source": [
    "import matplotlib.pyplot as plt\n",
    "import numpy as np \n",
    "import sympy as sp \n",
    "\n",
    "from numpy.linalg import inv\n",
    "from numpy import cos, sin"
   ]
  },
  {
   "cell_type": "code",
   "execution_count": 2,
   "id": "9bba3cda",
   "metadata": {},
   "outputs": [],
   "source": [
    "u, x1, x2 = sp.symbols('u,x1,x2')\n",
    "w1, w2, w3, w4, w5 = sp.symbols('w_1,w_2,w_3,w_4,w_5')\n",
    "DTA, _thetad = sp.symbols('Delta,\\\\theta_{d}')"
   ]
  },
  {
   "cell_type": "code",
   "execution_count": 3,
   "id": "908b5e1a",
   "metadata": {},
   "outputs": [
    {
     "data": {
      "text/latex": [
       "$\\displaystyle \\left[\\begin{matrix}x_{1}\\\\x_{2}\\\\x_{1}^{2}\\\\x_{1} x_{2}\\\\x_{2}^{2}\\end{matrix}\\right]$"
      ],
      "text/plain": [
       "Matrix([\n",
       "[   x1],\n",
       "[   x2],\n",
       "[x1**2],\n",
       "[x1*x2],\n",
       "[x2**2]])"
      ]
     },
     "metadata": {},
     "output_type": "display_data"
    },
    {
     "data": {
      "text/latex": [
       "$\\displaystyle \\left[\\begin{matrix}1 & 0\\\\0 & 1\\\\2 x_{1} & 0\\\\x_{2} & x_{1}\\\\0 & 2 x_{2}\\end{matrix}\\right]$"
      ],
      "text/plain": [
       "Matrix([\n",
       "[   1,    0],\n",
       "[   0,    1],\n",
       "[2*x1,    0],\n",
       "[  x2,   x1],\n",
       "[   0, 2*x2]])"
      ]
     },
     "metadata": {},
     "output_type": "display_data"
    },
    {
     "data": {
      "text/latex": [
       "$\\displaystyle \\left[\\begin{matrix}\\Delta x_{2} + x_{1}\\\\\\Delta \\left(9.81 \\sin{\\left(\\theta_{d} \\right)} - 9.81 \\sin{\\left(\\theta_{d} + x_{1} \\right)}\\right) + x_{2}\\end{matrix}\\right]$"
      ],
      "text/plain": [
       "Matrix([\n",
       "[                                                Delta*x2 + x1],\n",
       "[Delta*(9.81*sin(\\theta_{d}) - 9.81*sin(\\theta_{d} + x1)) + x2]])"
      ]
     },
     "metadata": {},
     "output_type": "display_data"
    }
   ],
   "source": [
    "g = 9.81\n",
    "L = 1 \n",
    "delta = 0.01\n",
    "tf = 20\n",
    "time = np.arange(0, tf , delta)\n",
    "thetad = np.pi/6\n",
    "\n",
    "alpha = 0.01\n",
    "beta = 1\n",
    "gamma = 0.9\n",
    "R = np.array([0.05]).reshape(1,)\n",
    "Q = np.eye(2)\n",
    "\n",
    "_phi = sp.Matrix([x1, x2, x1**2, x1*x2, x2**2])\n",
    "display(_phi)\n",
    "\n",
    "_phi_der = sp.zeros(len(_phi), 2)\n",
    "_phi_der[:, 0] = sp.diff(_phi, x1)\n",
    "_phi_der[:, 1] = sp.diff(_phi, x2)\n",
    "display(_phi_der)\n",
    "\n",
    "_fx = sp.Matrix([[x1 + DTA*x2], [x2 + DTA*(g/L*(sp.sin(_thetad) - sp.sin(_thetad + x1)))]])\n",
    "display(_fx)\n",
    "\n",
    "NL = 5"
   ]
  },
  {
   "cell_type": "code",
   "execution_count": 4,
   "id": "bf210011",
   "metadata": {},
   "outputs": [
    {
     "data": {
      "text/plain": [
       "0.49999999999999994"
      ]
     },
     "execution_count": 4,
     "metadata": {},
     "output_type": "execute_result"
    }
   ],
   "source": [
    "np.sin(np.pi/6)"
   ]
  },
  {
   "cell_type": "code",
   "execution_count": null,
   "id": "b7a5173d",
   "metadata": {},
   "outputs": [],
   "source": []
  },
  {
   "cell_type": "code",
   "execution_count": null,
   "id": "3bc34b90",
   "metadata": {},
   "outputs": [],
   "source": []
  },
  {
   "cell_type": "code",
   "execution_count": null,
   "id": "091b57ac",
   "metadata": {},
   "outputs": [],
   "source": []
  },
  {
   "cell_type": "code",
   "execution_count": null,
   "id": "866dc384",
   "metadata": {},
   "outputs": [],
   "source": []
  },
  {
   "cell_type": "code",
   "execution_count": null,
   "id": "c74e2c6d",
   "metadata": {},
   "outputs": [],
   "source": []
  },
  {
   "cell_type": "code",
   "execution_count": null,
   "id": "cc0f3aba",
   "metadata": {},
   "outputs": [],
   "source": []
  },
  {
   "cell_type": "code",
   "execution_count": null,
   "id": "8b2f1da7",
   "metadata": {},
   "outputs": [],
   "source": []
  },
  {
   "cell_type": "code",
   "execution_count": null,
   "id": "6227e0c7",
   "metadata": {},
   "outputs": [],
   "source": []
  },
  {
   "cell_type": "code",
   "execution_count": null,
   "id": "c69d6370",
   "metadata": {},
   "outputs": [],
   "source": []
  },
  {
   "cell_type": "code",
   "execution_count": null,
   "id": "82c8e946",
   "metadata": {},
   "outputs": [],
   "source": []
  },
  {
   "cell_type": "code",
   "execution_count": null,
   "id": "83574d25",
   "metadata": {},
   "outputs": [],
   "source": []
  },
  {
   "cell_type": "code",
   "execution_count": null,
   "id": "9cde9471",
   "metadata": {},
   "outputs": [],
   "source": []
  },
  {
   "cell_type": "code",
   "execution_count": null,
   "id": "5eb446fa",
   "metadata": {},
   "outputs": [],
   "source": []
  },
  {
   "cell_type": "code",
   "execution_count": null,
   "id": "60592d77",
   "metadata": {},
   "outputs": [],
   "source": []
  },
  {
   "cell_type": "code",
   "execution_count": null,
   "id": "60792cb7",
   "metadata": {},
   "outputs": [],
   "source": []
  },
  {
   "cell_type": "code",
   "execution_count": null,
   "id": "e8a3417c",
   "metadata": {},
   "outputs": [],
   "source": []
  },
  {
   "cell_type": "code",
   "execution_count": null,
   "id": "0202a96f",
   "metadata": {},
   "outputs": [],
   "source": []
  },
  {
   "cell_type": "code",
   "execution_count": null,
   "id": "fd93f88d",
   "metadata": {},
   "outputs": [],
   "source": []
  },
  {
   "cell_type": "code",
   "execution_count": null,
   "id": "8688a6b5",
   "metadata": {},
   "outputs": [],
   "source": []
  },
  {
   "cell_type": "code",
   "execution_count": null,
   "id": "6de7d5bc",
   "metadata": {},
   "outputs": [],
   "source": []
  },
  {
   "cell_type": "code",
   "execution_count": null,
   "id": "3faa2cab",
   "metadata": {},
   "outputs": [],
   "source": []
  },
  {
   "cell_type": "code",
   "execution_count": null,
   "id": "bbb42692",
   "metadata": {},
   "outputs": [],
   "source": []
  },
  {
   "cell_type": "code",
   "execution_count": null,
   "id": "7c395e9e",
   "metadata": {},
   "outputs": [],
   "source": []
  },
  {
   "cell_type": "code",
   "execution_count": null,
   "id": "878dadac",
   "metadata": {},
   "outputs": [],
   "source": []
  },
  {
   "cell_type": "code",
   "execution_count": null,
   "id": "22603774",
   "metadata": {},
   "outputs": [],
   "source": []
  },
  {
   "cell_type": "code",
   "execution_count": null,
   "id": "0d0df51e",
   "metadata": {},
   "outputs": [],
   "source": []
  },
  {
   "cell_type": "code",
   "execution_count": null,
   "id": "074851b6",
   "metadata": {},
   "outputs": [],
   "source": []
  },
  {
   "cell_type": "code",
   "execution_count": null,
   "id": "b8c7276b",
   "metadata": {},
   "outputs": [],
   "source": []
  },
  {
   "cell_type": "code",
   "execution_count": null,
   "id": "e5d9d6ca",
   "metadata": {},
   "outputs": [],
   "source": []
  },
  {
   "cell_type": "code",
   "execution_count": null,
   "id": "37f10ff4",
   "metadata": {},
   "outputs": [],
   "source": []
  },
  {
   "cell_type": "code",
   "execution_count": null,
   "id": "099f2a7a",
   "metadata": {},
   "outputs": [],
   "source": []
  },
  {
   "cell_type": "code",
   "execution_count": null,
   "id": "d00d0f85",
   "metadata": {},
   "outputs": [],
   "source": []
  },
  {
   "cell_type": "code",
   "execution_count": null,
   "id": "2c16d16e",
   "metadata": {},
   "outputs": [],
   "source": []
  },
  {
   "cell_type": "code",
   "execution_count": null,
   "id": "509765e1",
   "metadata": {},
   "outputs": [],
   "source": []
  },
  {
   "cell_type": "code",
   "execution_count": null,
   "id": "9e4269e6",
   "metadata": {},
   "outputs": [],
   "source": []
  },
  {
   "cell_type": "code",
   "execution_count": null,
   "id": "c53f275c",
   "metadata": {},
   "outputs": [],
   "source": []
  },
  {
   "cell_type": "code",
   "execution_count": null,
   "id": "4356bca5",
   "metadata": {},
   "outputs": [],
   "source": []
  },
  {
   "cell_type": "code",
   "execution_count": null,
   "id": "42076f81",
   "metadata": {},
   "outputs": [],
   "source": []
  },
  {
   "cell_type": "code",
   "execution_count": null,
   "id": "f525c90f",
   "metadata": {},
   "outputs": [],
   "source": []
  },
  {
   "cell_type": "code",
   "execution_count": null,
   "id": "5c1de7d1",
   "metadata": {},
   "outputs": [],
   "source": []
  },
  {
   "cell_type": "code",
   "execution_count": null,
   "id": "072bd9a5",
   "metadata": {},
   "outputs": [],
   "source": []
  },
  {
   "cell_type": "markdown",
   "id": "802ccaea",
   "metadata": {},
   "source": [
    "## Working?"
   ]
  },
  {
   "cell_type": "code",
   "execution_count": 5,
   "id": "6e8fdb5b",
   "metadata": {},
   "outputs": [],
   "source": [
    "g = 9.81\n",
    "L = 1 \n",
    "DELTA = 0.01\n",
    "thetad = np.pi/6\n",
    "tf = 20\n",
    "NN = tf/DELTA\n",
    "alpha = 0.01\n",
    "beta = 1\n",
    "gamma = 0.9\n",
    "Q = np.eye(2)\n",
    "R = np.array([0.05]).reshape(1,)\n",
    "NL = 5"
   ]
  },
  {
   "cell_type": "code",
   "execution_count": 6,
   "id": "24ab334d",
   "metadata": {},
   "outputs": [],
   "source": [
    "uk, x1k, x2k = sp.symbols('u_k,x_{1}(k),x_{2}(k)')\n",
    "w1, w2, w3, w4, w5 = sp.symbols('w_1,w_2,w_3,w_4,w_5')\n",
    "\n",
    "phi = sp.Matrix([x1k, x2k, x1k**2, x1k*x2k, x2k**2])\n",
    "phi_func = sp.lambdify([x1k, x2k], phi)\n",
    "\n",
    "phi_der = sp.zeros(len(sp.diff(phi, x1k)), 2)\n",
    "phi_der[:, 0] = sp.diff(phi, x1k) \n",
    "phi_der[:, 1] = sp.diff(phi, x2k) \n",
    "phi_der\n",
    "phi_der_func = sp.lambdify([x1k, x2k], phi_der)\n",
    "\n",
    "X = sp.Matrix([x1k, x2k])\n",
    "X_func = sp.lambdify([x1k, x2k], X)\n",
    "\n",
    "W = sp.Matrix([w1, w2, w3, w4, w5])\n",
    "W_func = sp.lambdify([w1, w2, w3, w4, w5], W)\n",
    "\n",
    "fx = sp.Matrix([[x1k + DELTA*x2k], [x2k + DELTA*(g*(0.5 - sp.sin(sp.pi/6 + x1k)))]])\n",
    "fx_func = sp.lambdify([x1k, x2k], fx)\n",
    "\n",
    "gx = np.array([0, DELTA]).reshape(-1,1)\n",
    "\n",
    "rx = X.T@Q@X + (R*uk**2).reshape(1,1)\n",
    "rx_func = sp.lambdify([x1k, x2k, uk], rx)\n",
    "\n",
    "u_j = (-gamma/2*inv(R.reshape(-1,1)).reshape(R.shape))[0]*gx.T@phi_der.T@W\n",
    "uj_func = sp.lambdify([x1k, x2k, w1, w2, w3, w4, w5], u_j)"
   ]
  },
  {
   "cell_type": "code",
   "execution_count": 7,
   "id": "9a69c0f5",
   "metadata": {},
   "outputs": [
    {
     "data": {
      "text/latex": [
       "$\\displaystyle \\left[\\begin{matrix}x_{1}(k)\\\\x_{2}(k)\\\\x_{1}(k)^{2}\\\\x_{1}(k) x_{2}(k)\\\\x_{2}(k)^{2}\\end{matrix}\\right]$"
      ],
      "text/plain": [
       "Matrix([\n",
       "[         x_{1}(k)],\n",
       "[         x_{2}(k)],\n",
       "[      x_{1}(k)**2],\n",
       "[x_{1}(k)*x_{2}(k)],\n",
       "[      x_{2}(k)**2]])"
      ]
     },
     "metadata": {},
     "output_type": "display_data"
    },
    {
     "data": {
      "text/latex": [
       "$\\displaystyle \\left[\\begin{matrix}1 & 0\\\\0 & 1\\\\2 x_{1}(k) & 0\\\\x_{2}(k) & x_{1}(k)\\\\0 & 2 x_{2}(k)\\end{matrix}\\right]$"
      ],
      "text/plain": [
       "Matrix([\n",
       "[         1,          0],\n",
       "[         0,          1],\n",
       "[2*x_{1}(k),          0],\n",
       "[  x_{2}(k),   x_{1}(k)],\n",
       "[         0, 2*x_{2}(k)]])"
      ]
     },
     "metadata": {},
     "output_type": "display_data"
    },
    {
     "data": {
      "text/latex": [
       "$\\displaystyle \\left[\\begin{matrix}x_{1}(k)\\\\x_{2}(k)\\end{matrix}\\right]$"
      ],
      "text/plain": [
       "Matrix([\n",
       "[x_{1}(k)],\n",
       "[x_{2}(k)]])"
      ]
     },
     "metadata": {},
     "output_type": "display_data"
    },
    {
     "data": {
      "text/latex": [
       "$\\displaystyle \\left[\\begin{matrix}x_{1}(k) + 0.01 x_{2}(k)\\\\x_{2}(k) - 0.0981 \\sin{\\left(x_{1}(k) + \\frac{\\pi}{6} \\right)} + 0.04905\\end{matrix}\\right]$"
      ],
      "text/plain": [
       "Matrix([\n",
       "[                        x_{1}(k) + 0.01*x_{2}(k)],\n",
       "[x_{2}(k) - 0.0981*sin(x_{1}(k) + pi/6) + 0.04905]])"
      ]
     },
     "metadata": {},
     "output_type": "display_data"
    },
    {
     "data": {
      "text/plain": [
       "array([[0.  ],\n",
       "       [0.01]])"
      ]
     },
     "metadata": {},
     "output_type": "display_data"
    },
    {
     "data": {
      "text/latex": [
       "$\\displaystyle \\left[\\begin{matrix}0.05 u_{k}^{2} + 1.0 x_{1}(k)^{2} + 1.0 x_{2}(k)^{2}\\end{matrix}\\right]$"
      ],
      "text/plain": [
       "Matrix([[0.05*u_k**2 + 1.0*x_{1}(k)**2 + 1.0*x_{2}(k)**2]])"
      ]
     },
     "metadata": {},
     "output_type": "display_data"
    },
    {
     "data": {
      "text/latex": [
       "$\\displaystyle \\left[\\begin{matrix}- 0.09 w_{2} - 0.09 w_{4} x_{1}(k) - 0.18 w_{5} x_{2}(k)\\end{matrix}\\right]$"
      ],
      "text/plain": [
       "Matrix([[-0.09*w_2 - 0.09*w_4*x_{1}(k) - 0.18*w_5*x_{2}(k)]])"
      ]
     },
     "metadata": {},
     "output_type": "display_data"
    }
   ],
   "source": [
    "display(phi)\n",
    "display(phi_der)\n",
    "display(X)\n",
    "display(fx)\n",
    "display(gx)\n",
    "display(rx)\n",
    "display(u_j)"
   ]
  },
  {
   "cell_type": "code",
   "execution_count": 24,
   "id": "3f294e17",
   "metadata": {},
   "outputs": [],
   "source": [
    "kt = 0\n",
    "time = np.array([0]).reshape(-1,)\n",
    "X_vals = X_func(-np.pi/6, 0)\n",
    "W_vals =  W_func(0.1*np.random.rand(),\n",
    "                 0.1*np.random.rand(),\n",
    "                 0.1*np.random.rand(),\n",
    "                 0.1*np.random.rand(),\n",
    "                 0.1*np.random.rand())\n",
    "uj = uj_func(X_vals[0], \n",
    "              X_vals[1], \n",
    "              W_vals[0], \n",
    "              W_vals[1],\n",
    "              W_vals[2],\n",
    "              W_vals[3],\n",
    "              W_vals[4]).reshape(-1,)\n",
    "u_vals = uj\n",
    "while kt < 2*NN:\n",
    "    X_vals = np.concatenate((X_vals, \n",
    "                            (fx_func(X_vals[:,-1][0], X_vals[:,-1][1]) + gx*uj).reshape(-1,1)), axis=1)\n",
    "\n",
    "    kt += 1\n",
    "    time = np.concatenate((time, \n",
    "                           np.array([kt*DELTA])))\n",
    "    phi_lop = phi_func(X_vals[:,-2][0], X_vals[:,-2][1])\n",
    "    val_approx = rx_func(X_vals[:,-2][0], X_vals[:,-2][1], u_vals[-1]) + gamma*phi_func(X_vals[:,-1][0], X_vals[:,-1][1]).T@W_vals[:,-1]\n",
    "    Wji = W_vals[:, -1].reshape(-1,1)\n",
    "    uj = u_vals[-1].reshape(-1,1)\n",
    "    Wj = Wji\n",
    "    count = 1\n",
    "    \n",
    "    while False if count > 1 and np.sqrt((Wjim-Wji).T@(Wjim-Wji)) else True and count < 1000:\n",
    "        Wjim = Wji\n",
    "        Wji = Wji - alpha*phi_lop@(phi_lop.T@Wji - val_approx)\n",
    "        W_vals = np.concatenate((W_vals, \n",
    "                                 (Wji).reshape(-1,1)), axis=1)\n",
    "        X_vals = np.concatenate((X_vals, \n",
    "                                (fx_func(X_vals[:,-1][0], X_vals[:,-1][1]) + gx*uj).reshape(-1,1)), axis=1)\n",
    "        kt += 1\n",
    "        time = np.concatenate((time,\n",
    "                              (np.array([kt*DELTA]))))\n",
    "        uj = uj_func(X_vals[:,-1][0], X_vals[:,-1][1], Wj[0], Wj[1], Wj[2], Wj[3], Wj[4]).reshape(-1,)\n",
    "        u_vals = np.concatenate((u_vals, uj))\n",
    "        phi_lop = phi_func(X_vals[:,-2][0], X_vals[:,-2][1])\n",
    "        val_approx = rx_func(X_vals[:,-2][0], X_vals[:,-2][1], u_vals[-1]) + gamma*phi_func(X_vals[:,-1][0], X_vals[:,-1][1]).T@Wj\n",
    "        count += 1\n",
    "        \n",
    "    W_vals = np.concatenate((W_vals, \n",
    "                            Wji), axis=1)\n",
    "    uj = uj_func(X_vals[:,-1][0], X_vals[:,-1][1], Wj[0], Wj[1], Wj[2], Wj[3], Wj[4]).reshape(-1,)\n",
    "    u_vals = np.concatenate((u_vals, uj))\n",
    "    \n",
    "# plt.plot(time, np.rad2deg(X_vals[0, :]))\n",
    "# plt.show()\n",
    "\n",
    "# plt.plot(time, X_vals[1, :])\n",
    "# plt.show()\n",
    "\n",
    "# plt.plot(time, u_vals)\n",
    "# plt.show()\n",
    "\n",
    "# for i in W_vals:\n",
    "#     plt.plot(time, i)\n",
    "# plt.show()"
   ]
  },
  {
   "cell_type": "code",
   "execution_count": 29,
   "id": "e4536b92",
   "metadata": {},
   "outputs": [
    {
     "data": {
      "text/plain": [
       "array([ 0.00095341,  0.00058166,  0.00058166, ..., -0.03574029,\n",
       "       -0.03572762, -0.03572762])"
      ]
     },
     "execution_count": 29,
     "metadata": {},
     "output_type": "execute_result"
    }
   ],
   "source": [
    "u_vals"
   ]
  },
  {
   "cell_type": "code",
   "execution_count": null,
   "id": "089c9f01",
   "metadata": {},
   "outputs": [],
   "source": []
  }
 ],
 "metadata": {
  "kernelspec": {
   "display_name": "Python 3 (ipykernel)",
   "language": "python",
   "name": "python3"
  },
  "language_info": {
   "codemirror_mode": {
    "name": "ipython",
    "version": 3
   },
   "file_extension": ".py",
   "mimetype": "text/x-python",
   "name": "python",
   "nbconvert_exporter": "python",
   "pygments_lexer": "ipython3",
   "version": "3.8.10"
  }
 },
 "nbformat": 4,
 "nbformat_minor": 5
}
