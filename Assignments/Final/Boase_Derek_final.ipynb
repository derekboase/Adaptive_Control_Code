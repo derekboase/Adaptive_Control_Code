{
 "cells": [
  {
   "cell_type": "code",
   "execution_count": 26,
   "id": "7d82c93f",
   "metadata": {},
   "outputs": [],
   "source": [
    "import sympy as sp\n",
    "\n",
    "from sympy.abc import b, g, u, omega, theta\n",
    "from sympy import sin, cos"
   ]
  },
  {
   "cell_type": "markdown",
   "id": "3c3c03f0",
   "metadata": {},
   "source": [
    "### Problem 1.1 \n",
    "\n",
    "Finding the state evolution in terms of the drift and input dynamics."
   ]
  },
  {
   "cell_type": "code",
   "execution_count": 29,
   "id": "71511884",
   "metadata": {},
   "outputs": [],
   "source": [
    "et, etdot, ei, eiei_oh, ew, ewdot = sp.symbols('e_{\\\\theta},\\dot{e_{\\\\theta}},e_I,\\dot{e_I},e_omega,\\dot{e_\\omega}')\n",
    "thetadot, thetad, wdot = sp.symbols('\\dot{\\\\theta},\\\\theta_{d},\\dot{\\omega}')\n",
    "DELTA = sp.symbols('\\Delta')\n",
    "D, J,Kb, Kt, L, La, M, N1, N2, Ra = sp.symbols('D,J,K_b,K_t,L,L_a,M,N_1,N_2,R_a')"
   ]
  },
  {
   "cell_type": "code",
   "execution_count": 43,
   "id": "819afef8",
   "metadata": {},
   "outputs": [],
   "source": [
    "# Maths for 3a\n",
    "etk, etk1 = sp.symbols('e_{\\\\theta}{(k)},e_{\\\\theta}{(k+1)}')\n",
    "_etdot = sp.Eq(etdot, omega)\n",
    "_ew = sp.Eq(ew, omega)\n",
    "_etdot_subs = _etdot.subs(omega, ew)\n",
    "_edot_forward = sp.Eq((etk1 - etk)/DELTA, _etdot_subs.rhs)\n",
    "_edot_euler = sp.Eq(etk1, sp.solve(_edot_forward, etk1)[0])\n",
    "\n",
    "# Maths for 3b\n",
    "ewk, ewk1 = sp.symbols('e_{\\omega}{(k)},e_{\\omega}{(k+1)}')\n",
    "_3b = sp.Eq(J*wdot + D*omega + M*g*L*N1/N2*(sin(N1/N2*(et + thetad)) - sin(N1/N2*thetad)), Kt*ei)\n",
    "_3b_subs = _3b.subs([(wdot, ewdot), (omega, ew)])\n",
    "_3b_isolate = sp.Eq(ewdot, sp.solve(_3b_subs, ewdot)[0])\n",
    "_3b_forward = sp.Eq((ewk1 - ewk)/DELTA, _3b_isolate.rhs)\n",
    "_3b_euler = sp.Eq(ewk1, sp.solve(_3b_forward, ewk1)[0])\n",
    "\n",
    "# Maths for 3c \n",
    "eik, eik1 = sp.symbols('e_{I}{(k)},e_{I}{(k+1)}')\n",
    "_3c = sp.Eq(La*eiei_oh + Ra*ei + Kb*omega, u)\n",
    "_3c_subs = sp.Eq(eiei_oh, sp.solve(_3c.subs(omega, ew), eiei_oh)[0])\n",
    "_3c_forward = sp.Eq((eik1 - eik)/DELTA, _3c_subs.rhs)\n",
    "_3c_euler = sp.Eq(eik1, sp.solve(_3c_forward, eik1)[0])"
   ]
  },
  {
   "cell_type": "markdown",
   "id": "79b9e251",
   "metadata": {
    "variables": {
     "_edot_euler": "$\\displaystyle e_{\\theta}{(k+1)} = \\Delta e_{\\omega} + e_{\\theta}{(k)}$",
     "_edot_forward": "$\\displaystyle \\frac{- e_{\\theta}{(k)} + e_{\\theta}{(k+1)}}{\\Delta} = e_{\\omega}$",
     "_etdot_subs": "$\\displaystyle \\dot{e_{\\theta}} = e_{\\omega}$",
     "_ew": "$\\displaystyle e_{\\omega} = \\omega$"
    }
   },
   "source": [
    "#### Equation 3a) \n",
    "\n",
    "Start of by substituting {{_ew}} into equation 3a which yields, \n",
    "\n",
    "{{_etdot_subs}}\n",
    "\n",
    "Using Euler's forward transfomration \n",
    "\n",
    "{{_edot_forward}}\n",
    "\n",
    "Then, \n",
    "\n",
    "{{_edot_euler}}"
   ]
  },
  {
   "cell_type": "markdown",
   "id": "eec39d0a",
   "metadata": {
    "variables": {
     "_3b_euler": "$\\displaystyle e_{\\omega}{(k+1)} = \\frac{J N_{2} e_{\\omega}{(k)} + L M N_{1} \\Delta g \\left(\\sin{\\left(\\frac{N_{1} \\theta_{d}}{N_{2}} \\right)} - \\sin{\\left(\\frac{N_{1} \\left(\\theta_{d} + e_{\\theta}\\right)}{N_{2}} \\right)}\\right) + N_{2} \\Delta \\left(- D e_{\\omega} + K_{t} e_{I}\\right)}{J N_{2}}$",
     "_3b_forward": "$\\displaystyle \\frac{- e_{\\omega}{(k)} + e_{\\omega}{(k+1)}}{\\Delta} = \\frac{L M N_{1} g \\left(\\sin{\\left(\\frac{N_{1} \\theta_{d}}{N_{2}} \\right)} - \\sin{\\left(\\frac{N_{1} \\left(\\theta_{d} + e_{\\theta}\\right)}{N_{2}} \\right)}\\right) + N_{2} \\left(- D e_{\\omega} + K_{t} e_{I}\\right)}{J N_{2}}$",
     "_3b_isolate": "$\\displaystyle \\dot{e_\\omega} = \\frac{L M N_{1} g \\left(\\sin{\\left(\\frac{N_{1} \\theta_{d}}{N_{2}} \\right)} - \\sin{\\left(\\frac{N_{1} \\left(\\theta_{d} + e_{\\theta}\\right)}{N_{2}} \\right)}\\right) + N_{2} \\left(- D e_{\\omega} + K_{t} e_{I}\\right)}{J N_{2}}$",
     "_3b_subs": "$\\displaystyle D e_{\\omega} + J \\dot{e_\\omega} + \\frac{L M N_{1} g \\left(- \\sin{\\left(\\frac{N_{1} \\theta_{d}}{N_{2}} \\right)} + \\sin{\\left(\\frac{N_{1} \\left(\\theta_{d} + e_{\\theta}\\right)}{N_{2}} \\right)}\\right)}{N_{2}} = K_{t} e_{I}$",
     "_ew": "$\\displaystyle e_{\\omega} = \\omega$",
     "ewdot": "$\\displaystyle \\dot{e_\\omega}$"
    }
   },
   "source": [
    "#### Equation 3b) \n",
    "\n",
    "Start of by substituting {{_ew}} into equation 3b which yields, \n",
    "\n",
    "{{_3b_subs}}\n",
    "\n",
    "Isolating for {{ewdot}}, \n",
    "\n",
    "{{_3b_isolate}}\n",
    "\n",
    "Using Euler's forward transfomration \n",
    "\n",
    "{{_3b_forward}}\n",
    "\n",
    "Then, \n",
    "\n",
    "{{_3b_euler}}"
   ]
  },
  {
   "cell_type": "markdown",
   "id": "07f12ff6",
   "metadata": {
    "variables": {
     "_3c_euler": "$\\displaystyle e_{I}{(k+1)} = \\frac{- K_{b} \\Delta e_{\\omega} + L_{a} e_{I}{(k)} - R_{a} \\Delta e_{I} + \\Delta u}{L_{a}}$",
     "_3c_forward": "$\\displaystyle \\frac{- e_{I}{(k)} + e_{I}{(k+1)}}{\\Delta} = \\frac{- K_{b} e_{\\omega} - R_{a} e_{I} + u}{L_{a}}$",
     "_3c_subs": "$\\displaystyle \\dot{e_I} = \\frac{- K_{b} e_{\\omega} - R_{a} e_{I} + u}{L_{a}}$",
     "_ew": "$\\displaystyle e_{\\omega} = \\omega$"
    }
   },
   "source": [
    "#### Equation 3c) \n",
    "\n",
    "Start of by substituting {{_ew}} into equation 3b which yields, \n",
    "\n",
    "{{_3c_subs}}\n",
    "\n",
    "Using Euler's forward transfomration \n",
    "\n",
    "{{_3c_forward}}\n",
    "\n",
    "Then, \n",
    "\n",
    "{{_3c_euler}}"
   ]
  }
 ],
 "metadata": {
  "kernelspec": {
   "display_name": "Python 3 (ipykernel)",
   "language": "python",
   "name": "python3"
  },
  "language_info": {
   "codemirror_mode": {
    "name": "ipython",
    "version": 3
   },
   "file_extension": ".py",
   "mimetype": "text/x-python",
   "name": "python",
   "nbconvert_exporter": "python",
   "pygments_lexer": "ipython3",
   "version": "3.8.10"
  }
 },
 "nbformat": 4,
 "nbformat_minor": 5
}
