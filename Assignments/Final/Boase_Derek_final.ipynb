{
 "cells": [
  {
   "cell_type": "code",
   "execution_count": 1,
   "id": "46c46aac",
   "metadata": {},
   "outputs": [],
   "source": [
    "import matplotlib.pyplot as plt\n",
    "import numpy as np\n",
    "import sympy as sp\n",
    "\n",
    "from sympy.abc import b, g, u, omega, theta\n",
    "from numpy.linalg import inv\n",
    "from numpy import cos, sin"
   ]
  },
  {
   "cell_type": "markdown",
   "id": "6e869d73",
   "metadata": {},
   "source": [
    "### Problem 1.1 \n",
    "\n",
    "Finding the state evolution in terms of the drift and input dynamics."
   ]
  },
  {
   "cell_type": "code",
   "execution_count": 2,
   "id": "f0c0a0d0",
   "metadata": {},
   "outputs": [],
   "source": [
    "et, etdot, ei, eiei_oh, ew, ewdot = sp.symbols('e_{\\\\theta},\\dot{e_{\\\\theta}},e_I,\\dot{e_I},e_omega,\\dot{e_\\omega}')\n",
    "thetadot, thetad, wdot = sp.symbols('\\dot{\\\\theta},\\\\theta_{d},\\dot{\\omega}')\n",
    "DELTA = sp.symbols('\\Delta')\n",
    "D, J,Kb, Kt, L, La, M, N1, N2, Ra = sp.symbols('D,J,K_b,K_t,L,L_a,M,N_1,N_2,R_a')"
   ]
  },
  {
   "cell_type": "code",
   "execution_count": 3,
   "id": "cbba5754",
   "metadata": {},
   "outputs": [],
   "source": [
    "# Symbolics \n",
    "etk, etk1 = sp.symbols('e_{\\\\theta}{(k)},e_{\\\\theta}{(k+1)}')\n",
    "ewk, ewk1 = sp.symbols('e_{\\omega}{(k)},e_{\\omega}{(k+1)}')\n",
    "eik, eik1 = sp.symbols('e_{I}{(k)},e_{I}{(k+1)}')\n",
    "fx_sym, gx_sym = sp.symbols('f(x_{k}),g(x_{k})')\n",
    "Delta = 0.01 # s\n",
    "Da = 0.1 # Nms/rad\n",
    "Dl = 1 # Nms/rad\n",
    "g_val = 9.81 #m/s^2\n",
    "Ja = 2 # kgm2/rad\n",
    "Kb_val = 6.36 # Dimensionless\n",
    "Kt_val = 11 # Dimensionless\n",
    "L_val = 1 # m\n",
    "La_val = 0.1 # H\n",
    "M_val = 5 # kg\n",
    "N1_val = 15 # teeth\n",
    "N2_val = 45 # teeth\n",
    "Ra_val = 10 # Ohm\n",
    "\n",
    "# Equilibrium points\n",
    "thetad_val = np.pi/6\n",
    "Ibar = N1_val/(Kt_val*N2_val)*M_val*g_val*sin(N1_val/N2_val*thetad_val)\n",
    "\n",
    "sub_lst = [(DELTA, Delta), \n",
    "           (D, Da + (N1_val/N2_val)**2*Dl), \n",
    "           (N1/N2, N1_val/N2_val), \n",
    "           (J, Ja + (N1_val/N2_val)**2*M*L**2), \n",
    "           (Kb, Kb_val), \n",
    "           (Kt, Kt_val),\n",
    "           (g, g_val),\n",
    "           (L, L_val),\n",
    "           (La, La_val),\n",
    "           (M, M_val),\n",
    "           (N1, N1_val),\n",
    "           (N2, N2_val),\n",
    "           (Ra, Ra_val),\n",
    "           (thetad, thetad_val)]\n",
    "\n",
    "# Maths for 3a\n",
    "_etdot = sp.Eq(etdot, omega)\n",
    "_ew = sp.Eq(ew, omega)\n",
    "_etdot_subs = _etdot.subs(omega, ew)\n",
    "_edot_forward = sp.Eq((etk1 - etk)/DELTA, _etdot_subs.rhs)\n",
    "_edot_euler = sp.Eq(etk1, sp.solve(_edot_forward, etk1)[0]).subs([(et, etk),\n",
    "                                                                  (ew, ewk),\n",
    "                                                                  (ei, eik)])\n",
    "_etdot_vals = _edot_euler.subs(sub_lst)\n",
    "\n",
    "# Maths for 3b\n",
    "_3b = sp.Eq(J*wdot + D*omega + M*g*L*N1/N2*(sp.sin(N1/N2*(et + thetad)) - sp.sin(N1/N2*thetad)), Kt*ei)\n",
    "_3b_subs = _3b.subs([(wdot, ewdot), (omega, ew)])\n",
    "_3b_isolate = sp.Eq(ewdot, sp.solve(_3b_subs, ewdot)[0])\n",
    "_3b_forward = sp.Eq((ewk1 - ewk)/DELTA, _3b_isolate.rhs)\n",
    "_3b_euler = sp.Eq(ewk1, sp.solve(_3b_forward, ewk1)[0]).subs([(et, etk),\n",
    "                                                              (ew, ewk),\n",
    "                                                              (ei, eik)])\n",
    "_3b_vals = sp.simplify(sp.expand(sp.N(_3b_euler.subs(sub_lst))))\n",
    "\n",
    "# Maths for 3c \n",
    "_3c = sp.Eq(La*eiei_oh + Ra*ei + Kb*omega, u)\n",
    "_3c_subs = sp.Eq(eiei_oh, sp.solve(_3c.subs(omega, ew), eiei_oh)[0])\n",
    "_3c_forward = sp.Eq((eik1 - eik)/DELTA, _3c_subs.rhs)\n",
    "_3c_euler = sp.Eq(eik1, sp.solve(_3c_forward, eik1)[0]).subs([(et, etk),\n",
    "                                                              (ew, ewk), \n",
    "                                                              (ei, eik)])\n",
    "_3c_vals = _3c_euler.subs(sub_lst)\n",
    "\n",
    "# Input and drift dynamics \n",
    "_fx = sp.Matrix([[_edot_euler.rhs], [_3b_euler.rhs], [_3c_euler.rhs.subs(u, 0)]])\n",
    "_gx = sp.Matrix([[0], [0], [_3c_euler.rhs]]).subs([(etk, 0), \n",
    "                                                   (ewk, 0), \n",
    "                                                   (eik, 0),\n",
    "                                                   (u, 1)])\n",
    "\n",
    "fxt, fxw, fxi = sp.symbols('f_\\\\theta{(k+1)},fx_\\omega{(k+1)},fi{(k+1)}')\n",
    "gxt, gxw, gxi = sp.symbols('g_\\\\theta{(k+1)},g_\\omega{(k+1)},g_i{(k+1)}')\n",
    "\n",
    "_fx_subs = _fx.subs(sub_lst)\n",
    "_gx_subs = _gx.subs(sub_lst)"
   ]
  },
  {
   "cell_type": "markdown",
   "id": "bb30e701",
   "metadata": {
    "variables": {
     "_edot_euler": "$\\displaystyle e_{\\theta}{(k+1)} = \\Delta e_{\\omega}{(k)} + e_{\\theta}{(k)}$",
     "_edot_forward": "$\\displaystyle \\frac{- e_{\\theta}{(k)} + e_{\\theta}{(k+1)}}{\\Delta} = e_{\\omega}$",
     "_etdot_subs": "$\\displaystyle \\dot{e_{\\theta}} = e_{\\omega}$",
     "_etdot_vals": "$\\displaystyle e_{\\theta}{(k+1)} = 0.01 e_{\\omega}{(k)} + e_{\\theta}{(k)}$",
     "_ew": "$\\displaystyle e_{\\omega} = \\omega$"
    }
   },
   "source": [
    "#### Equation 3a) \n",
    "\n",
    "Start of by substituting {{_ew}} into equation 3a which yields, \n",
    "\n",
    "{{_etdot_subs}}\n",
    "\n",
    "Using Euler's forward transfomration \n",
    "\n",
    "{{_edot_forward}}\n",
    "\n",
    "Then, \n",
    "\n",
    "{{_edot_euler}}\n",
    "\n",
    "The numerical values then become, \n",
    "\n",
    "{{_etdot_vals}}"
   ]
  },
  {
   "cell_type": "markdown",
   "id": "28e5c218",
   "metadata": {
    "variables": {
     "_3b_euler": "$\\displaystyle e_{\\omega}{(k+1)} = \\frac{J N_{2} e_{\\omega}{(k)} + L M N_{1} \\Delta g \\left(\\sin{\\left(\\frac{N_{1} \\theta_{d}}{N_{2}} \\right)} - \\sin{\\left(\\frac{N_{1} \\left(\\theta_{d} + e_{\\theta}{(k)}\\right)}{N_{2}} \\right)}\\right) + N_{2} \\Delta \\left(- D e_{\\omega}{(k)} + K_{t} e_{I}{(k)}\\right)}{J N_{2}}$",
     "_3b_forward": "$\\displaystyle \\frac{- e_{\\omega}{(k)} + e_{\\omega}{(k+1)}}{\\Delta} = \\frac{L M N_{1} g \\left(\\sin{\\left(\\frac{N_{1} \\theta_{d}}{N_{2}} \\right)} - \\sin{\\left(\\frac{N_{1} \\left(\\theta_{d} + e_{\\theta}\\right)}{N_{2}} \\right)}\\right) + N_{2} \\left(- D e_{\\omega} + K_{t} e_{I}\\right)}{J N_{2}}$",
     "_3b_isolate": "$\\displaystyle \\dot{e_\\omega} = \\frac{L M N_{1} g \\left(\\sin{\\left(\\frac{N_{1} \\theta_{d}}{N_{2}} \\right)} - \\sin{\\left(\\frac{N_{1} \\left(\\theta_{d} + e_{\\theta}\\right)}{N_{2}} \\right)}\\right) + N_{2} \\left(- D e_{\\omega} + K_{t} e_{I}\\right)}{J N_{2}}$",
     "_3b_subs": "$\\displaystyle D e_{\\omega} + J \\dot{e_\\omega} + \\frac{L M N_{1} g \\left(- \\sin{\\left(\\frac{N_{1} \\theta_{d}}{N_{2}} \\right)} + \\sin{\\left(\\frac{N_{1} \\left(\\theta_{d} + e_{\\theta}\\right)}{N_{2}} \\right)}\\right)}{N_{2}} = K_{t} e_{I}$",
     "_3b_vals.evalf(4)": "$\\displaystyle e_{\\omega}{(k+1)} = 0.04304 e_{I}{(k)} + 0.9992 e_{\\omega}{(k)} - 0.06398 \\sin{\\left(0.333333333333333 e_{\\theta}{(k)} + 0.174532925199433 \\right)} + 0.01111$",
     "_ew": "$\\displaystyle e_{\\omega} = \\omega$",
     "ewdot": "$\\displaystyle \\dot{e_\\omega}$"
    }
   },
   "source": [
    "#### Equation 3b) \n",
    "\n",
    "Start of by substituting {{_ew}} into equation 3b which yields, \n",
    "\n",
    "{{_3b_subs}}\n",
    "\n",
    "Isolating for {{ewdot}}, \n",
    "\n",
    "{{_3b_isolate}}\n",
    "\n",
    "Using Euler's forward transfomration \n",
    "\n",
    "{{_3b_forward}}\n",
    "\n",
    "Then, \n",
    "\n",
    "{{_3b_euler}}\n",
    "\n",
    "The numerical values then become, \n",
    "\n",
    "{{_3b_vals.evalf(4)}}"
   ]
  },
  {
   "cell_type": "markdown",
   "id": "d892f9ce",
   "metadata": {
    "variables": {
     "_3c_euler": "$\\displaystyle e_{I}{(k+1)} = \\frac{- K_{b} \\Delta e_{\\omega}{(k)} + L_{a} e_{I}{(k)} - R_{a} \\Delta e_{I}{(k)} + \\Delta u}{L_{a}}$",
     "_3c_forward": "$\\displaystyle \\frac{- e_{I}{(k)} + e_{I}{(k+1)}}{\\Delta} = \\frac{- K_{b} e_{\\omega} - R_{a} e_{I} + u}{L_{a}}$",
     "_3c_subs": "$\\displaystyle \\dot{e_I} = \\frac{- K_{b} e_{\\omega} - R_{a} e_{I} + u}{L_{a}}$",
     "_3c_vals": "$\\displaystyle e_{I}{(k+1)} = - 0.636 e_{\\omega}{(k)} + 0.1 u$",
     "_ew": "$\\displaystyle e_{\\omega} = \\omega$"
    }
   },
   "source": [
    "#### Equation 3c) \n",
    "\n",
    "Start of by substituting {{_ew}} into equation 3b which yields, \n",
    "\n",
    "{{_3c_subs}}\n",
    "\n",
    "Using Euler's forward transfomration \n",
    "\n",
    "{{_3c_forward}}\n",
    "\n",
    "Then, \n",
    "\n",
    "{{_3c_euler}}\n",
    "\n",
    "The numerical values then become, \n",
    "\n",
    "{{_3c_vals}}"
   ]
  },
  {
   "cell_type": "markdown",
   "id": "d0d55abc",
   "metadata": {
    "variables": {
     "display(sp.Eq(sp.Matrix([fxt, fxw, fxi]), _fx))": "$\\displaystyle \\left[\\begin{matrix}f_\\theta{(k+1)}\\\\fx_\\omega{(k+1)}\\\\fi{(k+1)}\\end{matrix}\\right] = \\left[\\begin{matrix}\\Delta e_{\\omega}{(k)} + e_{\\theta}{(k)}\\\\\\frac{J N_{2} e_{\\omega}{(k)} + L M N_{1} \\Delta g \\left(\\sin{\\left(\\frac{N_{1} \\theta_{d}}{N_{2}} \\right)} - \\sin{\\left(\\frac{N_{1} \\left(\\theta_{d} + e_{\\theta}{(k)}\\right)}{N_{2}} \\right)}\\right) + N_{2} \\Delta \\left(- D e_{\\omega}{(k)} + K_{t} e_{I}{(k)}\\right)}{J N_{2}}\\\\\\frac{- K_{b} \\Delta e_{\\omega}{(k)} + L_{a} e_{I}{(k)} - R_{a} \\Delta e_{I}{(k)}}{L_{a}}\\end{matrix}\\right]$",
     "display(sp.Eq(sp.Matrix([fxt, fxw, fxi]), _fx_subs.evalf(4)))": "$\\displaystyle \\left[\\begin{matrix}f_\\theta{(k+1)}\\\\fx_\\omega{(k+1)}\\\\fi{(k+1)}\\end{matrix}\\right] = \\left[\\begin{matrix}0.01 e_{\\omega}{(k)} + e_{\\theta}{(k)}\\\\0.04304 e_{I}{(k)} + 0.9992 e_{\\omega}{(k)} - 0.06398 \\sin{\\left(0.333333333333333 e_{\\theta}{(k)} + 0.174532925199433 \\right)} + 0.01111\\\\- 0.636 e_{\\omega}{(k)}\\end{matrix}\\right]$",
     "display(sp.Eq(sp.Matrix([gxt, gxw, gxi]), _gx))": "$\\displaystyle \\left[\\begin{matrix}g_\\theta{(k+1)}\\\\g_\\omega{(k+1)}\\\\g_i{(k+1)}\\end{matrix}\\right] = \\left[\\begin{matrix}0\\\\0\\\\\\frac{\\Delta}{L_{a}}\\end{matrix}\\right]$",
     "display(sp.Eq(sp.Matrix([gxt, gxw, gxi]), _gx_subs))": "$\\displaystyle \\left[\\begin{matrix}g_\\theta{(k+1)}\\\\g_\\omega{(k+1)}\\\\g_i{(k+1)}\\end{matrix}\\right] = \\left[\\begin{matrix}0\\\\0\\\\0.1\\end{matrix}\\right]$"
    }
   },
   "source": [
    "#### Drift and Input Dynamics\n",
    "\n",
    "The symbolic representation of the drift, $f_x$ dynamics and the input, $g_x$ dynamics are, \n",
    "\n",
    "{{display(sp.Eq(sp.Matrix([fxt, fxw, fxi]), _fx))}}\n",
    "\n",
    "{{display(sp.Eq(sp.Matrix([gxt, gxw, gxi]), _gx))}}\n",
    "\n",
    "Numerically these evaluate to, \n",
    "\n",
    "{{display(sp.Eq(sp.Matrix([fxt, fxw, fxi]), _fx_subs.evalf(4)))}}\n",
    "\n",
    "{{display(sp.Eq(sp.Matrix([gxt, gxw, gxi]), _gx_subs))}}"
   ]
  },
  {
   "cell_type": "code",
   "execution_count": 4,
   "id": "3cb6bf1f",
   "metadata": {},
   "outputs": [],
   "source": [
    "# Symbolic Declaration\n",
    "uk, x1k, x2k, x3k = sp.symbols('u_k,x_{1}(k),x_{2}(k),x_{3}(k)')\n",
    "w1, w2, w3, w4, w5, w6, w7, w8, w9 = sp.symbols('w_1,w_2,w_3,w_4,w_5,w_6,w_7,w_8,w_9')\n",
    "\n",
    "# Input dynamics (constant)\n",
    "gx = np.array([0, 0, 0.1]).reshape(-1,1)\n",
    "\n",
    "# Lambda function for drift and input dynamics\n",
    "_measure = _fx_subs + _gx_subs*uk\n",
    "measure_func = sp.lambdify([etk, ewk, eik, uk], _measure)\n",
    "\n",
    "# State vector definition (3x1)\n",
    "_X = sp.Matrix([x1k, x2k, x3k]).reshape(3,1)\n",
    "\n",
    "# Regressor vector definition (9x1)\n",
    "_phi = sp.Matrix([x1k, x2k, x3k,\n",
    "                  x1k*x2k, x1k*x3k, x2k*x3k,\n",
    "                  x1k**2, x2k**2, x3k**2])\n",
    "phi_func = sp.lambdify([x1k, x2k, x3k], _phi)\n",
    "\n",
    "# Regressor derivative vector (9x3)\n",
    "_phi_der = sp.zeros(len(sp.diff(_phi, x1k)), len(_X))\n",
    "for idx, state in enumerate(_X):\n",
    "    _phi_der[:, idx] = sp.diff(_phi, state)\n",
    "phi_der_func = sp.lambdify([x1k, x2k, x3k], _phi_der)\n",
    "\n",
    "# Constant Values \n",
    "Q = np.eye(len(_X)) # (3x3)\n",
    "R = np.array([0.05]).reshape(1,) # (scalar)\n",
    "\n",
    "# Cost function \n",
    "_r = _X.T@Q@_X + (R*uk**2).reshape(-1,1)\n",
    "r_func = sp.lambdify([x1k, x2k, x3k, uk], _r)"
   ]
  },
  {
   "cell_type": "code",
   "execution_count": 5,
   "id": "c41df877",
   "metadata": {},
   "outputs": [],
   "source": [
    "# display(_measure)\n",
    "# display(_X)\n",
    "# display(_phi) # Used for troubleshooting\n",
    "# display(_phi_der) # Used for troubleshooting\n",
    "# display(_r) # Used for troubleshooting"
   ]
  },
  {
   "cell_type": "markdown",
   "id": "51b0f1ef",
   "metadata": {},
   "source": [
    "### Problem 1.2"
   ]
  },
  {
   "cell_type": "code",
   "execution_count": 65,
   "id": "0088c4a8",
   "metadata": {},
   "outputs": [
    {
     "data": {
      "image/png": "[encoded data removed]",
      "text/plain": [
       "<Figure size 432x288 with 1 Axes>"
      ]
     },
     "metadata": {
      "needs_background": "light"
     },
     "output_type": "display_data"
    },
    {
     "data": {
      "image/png": "[encoded data removed]",
      "text/plain": [
       "<Figure size 432x288 with 1 Axes>"
      ]
     },
     "metadata": {
      "needs_background": "light"
     },
     "output_type": "display_data"
    },
    {
     "data": {
      "image/png": "[encoded data removed]",
      "text/plain": [
       "<Figure size 432x288 with 1 Axes>"
      ]
     },
     "metadata": {
      "needs_background": "light"
     },
     "output_type": "display_data"
    }
   ],
   "source": [
    "final_time = 10\n",
    "time = np.arange(0, final_time + Delta, Delta)\n",
    "k, kmax = 0, len(time)\n",
    "ALPHA, GAMMA = 0.01, 0.9\n",
    "eps_critic = 1e-6\n",
    "\n",
    "# Initial assignments of the states, randomly initialized weights and the input\n",
    "X = np.array([0 - thetad_val, 0, 0 - Ibar], float).reshape(-1,1) # Initial error states \n",
    "X_vals = X\n",
    "\n",
    "# Initialize W weights sampled randomly form N(0, 0.1)\n",
    "W = np.array([np.random.normal(0, scale=0.1)])\n",
    "for i in range(8):\n",
    "    W = np.concatenate((W, np.array([np.random.normal(0, scale=0.1)])), axis=0)\n",
    "W = W.reshape(-1,1)\n",
    "W_vals = W # List of previous weights\n",
    "\n",
    "# Calculate the first control action\n",
    "u = (-GAMMA/(2*R)@gx.T@phi_der_func(X[0][0], X[1][0], X[2][0]).T@W).reshape(-1,)\n",
    "u_vals = np.array(u).reshape(-1,) # List of all control actions (policy)\n",
    "\n",
    "# First loop to iterate through time\n",
    "while k <= kmax:\n",
    "    \n",
    "    # Store x_{k} into Xk \n",
    "    Xk = X\n",
    "    # Find the next value of the states x_k+1 and assign it to X\n",
    "    X = measure_func(X[0], X[1], X[2], u[0]).reshape(-1,1)\n",
    "    # Append to the list of previous states\n",
    "    X_vals = np.concatenate((X_vals, X), axis=1) # Append to states\n",
    "    \n",
    "    # Calculate the Value function from Bellman's equation with the approximation. \n",
    "    # val_approx = phi(x_{k})^T@W_{j+1} = r(x_{k}, hj(x_{k}) + gamma*phi^{T}W_{j})\n",
    "    val_approx = r_func(Xk[0][0], Xk[1][0], Xk[2][0], u[0]) + GAMMA*phi_func(X[0][0], X[1][0], X[2][0]).T@W_vals[:,-1]\n",
    "    \n",
    "    Wj = W_vals[:, -1] # Current critic gains - previously converged\n",
    "    Wj_iter = W_vals[:, -1].reshape(-1,1) # Current critic gains\n",
    "    \n",
    "    u = u_vals[-1].reshape(-1,) # Current control action\n",
    "    conv_critic = False\n",
    "    k += 1\n",
    "    \n",
    "    # Policy evaluation loop. Here we will iterate through the critic weights until \n",
    "    # a convergence criteria is met\n",
    "    while not conv_critic:\n",
    "        # Current phi vector\n",
    "        phi_lop = phi_func(Xk[0][0], Xk[1][0], Xk[2][0])\n",
    "        \n",
    "        # Store current critic weights\n",
    "        W_temp = Wj_iter\n",
    "        # Update critic weights with GD\n",
    "        update = ALPHA*phi_lop@(phi_lop.T@Wj_iter - val_approx)\n",
    "        Wj_iter -= update\n",
    "        W_vals = np.concatenate((W_vals, Wj_iter), axis=1) # Append to list\n",
    "        \n",
    "        # Take a new measurement\n",
    "        Xk = X\n",
    "        X = measure_func(X[0], X[1], X[2], u[0]).reshape(-1,1)\n",
    "        X_vals = np.concatenate((X_vals, X), axis=1)\n",
    "        \n",
    "        # Calculate the next control action and append to list\n",
    "        u = (-GAMMA/(2*R)@gx.T@phi_der_func(X[0][0], X[1][0], X[2][0]).T@Wj).reshape(-1,)\n",
    "        u_vals = np.concatenate((u_vals, u), axis=0)\n",
    "        \n",
    "        # Find the function approximation \n",
    "        val_approx = r_func(Xk[0][0], Xk[1][0], Xk[2][0], u[0]) + GAMMA*phi_func(X[0][0], X[1][0], X[2][0]).T@Wj\n",
    "        # Check for convergence or timeout\n",
    "        if update.sum() < eps_critic:\n",
    "            conv_critic = True\n",
    "        k += 1\n",
    "    # Append converged values to the critic list\n",
    "    W_vals = np.concatenate((W_vals, Wj_iter), axis=1)\n",
    "    \n",
    "    # Calculate control action with the new converged parameters\n",
    "    u = (-GAMMA/(2*R)@gx.T@phi_der_func(X[0][0], X[1][0], X[2][0]).T@Wj_iter).reshape(-1,)\n",
    "    u_vals = np.concatenate((u_vals, u)).reshape(-1,)\n",
    "    \n",
    "for state in X_vals:\n",
    "    plt.plot(time, state[0:len(time)])\n",
    "plt.legend(['$e_{\\\\theta}$', '$e_{\\omega}$', '$e_i$'])\n",
    "plt.title('Errors Q1')\n",
    "plt.show()\n",
    "\n",
    "for gain in W_vals:\n",
    "    plt.plot(time, gain[0:len(time)])\n",
    "plt.legend(['$W_1$', \n",
    "            '$W_2$', \n",
    "            '$W_3$', \n",
    "            '$W_4$', \n",
    "            '$W_5$', \n",
    "            '$W_6$', \n",
    "            '$W_7$', \n",
    "            '$W_8$', \n",
    "            '$W_9$'], loc='center right')\n",
    "plt.title('Critic Gains')\n",
    "plt.show()\n",
    "\n",
    "plt.plot(time, u_vals[0:len(time)])\n",
    "plt.title('Raw Input')\n",
    "plt.show()"
   ]
  },
  {
   "cell_type": "markdown",
   "id": "188a9788",
   "metadata": {},
   "source": [
    "### Problem 1.3"
   ]
  },
  {
   "cell_type": "code",
   "execution_count": 79,
   "id": "0d8e4d0b",
   "metadata": {},
   "outputs": [
    {
     "data": {
      "image/png": "[encoded data removed]",
      "text/plain": [
       "<Figure size 432x288 with 1 Axes>"
      ]
     },
     "metadata": {
      "needs_background": "light"
     },
     "output_type": "display_data"
    },
    {
     "data": {
      "image/png": "[encoded data removed]",
      "text/plain": [
       "<Figure size 432x288 with 1 Axes>"
      ]
     },
     "metadata": {
      "needs_background": "light"
     },
     "output_type": "display_data"
    },
    {
     "data": {
      "image/png": "[encoded data removed]",
      "text/plain": [
       "<Figure size 432x288 with 1 Axes>"
      ]
     },
     "metadata": {
      "needs_background": "light"
     },
     "output_type": "display_data"
    },
    {
     "data": {
      "image/png": "[encoded data removed]",
      "text/plain": [
       "<Figure size 432x288 with 1 Axes>"
      ]
     },
     "metadata": {
      "needs_background": "light"
     },
     "output_type": "display_data"
    }
   ],
   "source": [
    "final_time = 10\n",
    "time = np.arange(0, final_time + Delta, Delta)\n",
    "k, kmax = 0, len(time)\n",
    "ALPHA, BETA, GAMMA = 0.01, 1, 0.9\n",
    "eps_critic = 1e-5\n",
    "eps_actor = 1e-5\n",
    "\n",
    "std_critic = 0.1\n",
    "std_actor = 0.1\n",
    "\n",
    "# Initial assignments of the states, randomly initialized weights and the input\n",
    "X = np.array([0 - thetad_val, 0, 0 - Ibar], float).reshape(-1,1) # Initial error states \n",
    "X_vals = X\n",
    "\n",
    "# Initialize W weights sampled randomly form N(0, 0.1)\n",
    "W = np.array([np.random.normal(0, scale=std_critic)])\n",
    "for i in range(8):\n",
    "    W = np.concatenate((W, np.array([np.random.normal(0, scale=0.1)])), axis=0)\n",
    "W = W.reshape(-1,1)\n",
    "W_vals = W # List of previous weights\n",
    "\n",
    "# Initialize W weights sampled randomly form N(0, 0.1)\n",
    "U = np.array([np.random.normal(0, scale=0.)])\n",
    "for i in range(8):\n",
    "    U = np.concatenate((U, np.array([np.random.normal(0, scale=std_actor)])), axis=0)\n",
    "U = U.reshape(-1,1)\n",
    "U_vals = U # List of previous weights\n",
    "\n",
    "# Calculate the first control action using the actor gain approximaiton\n",
    "u = (phi_func(X[0][0], X[1][0], X[2][0]).T@U).reshape(-1,)\n",
    "u_vals = np.array(u).reshape(-1,) # List of all control actions (policy)\n",
    "\n",
    "# First loop to iterate through time\n",
    "while k <= kmax:\n",
    "    \n",
    "    # Store x_{k} into Xk \n",
    "    Xk = X\n",
    "    # Find the next value of the states x_k+1 and assign it to X\n",
    "    X = measure_func(X[0], X[1], X[2], u[0]).reshape(-1,1)\n",
    "    # Append to the list of previous states\n",
    "    X_vals = np.concatenate((X_vals, X), axis=1) # Append to states\n",
    "    \n",
    "    # Calculate the Value function from Bellman's equation with the approximation. \n",
    "    # val_approx = phi(x_{k})^T@W_{j+1} = r(x_{k}, hj(x_{k}) + gamma*phi^{T}W_{j})\n",
    "    val_approx = (r_func(Xk[0][0], Xk[1][0], Xk[2][0], u[0]) + GAMMA*phi_func(X[0][0], X[1][0], X[2][0]).T@W_vals[:,-1]).reshape(-1,)\n",
    "    \n",
    "    Wj = W_vals[:, -1] # Current critic gains - previously converged\n",
    "    Wj_iter = W_vals[:, -1].reshape(-1,1) # Current critic gains\n",
    "    \n",
    "    Uj = U_vals[:, -1] # Current actor gains - previously converged\n",
    "    \n",
    "    u = u_vals[-1].reshape(-1,) # Current control action\n",
    "    conv_critic = False\n",
    "    k += 1\n",
    "    \n",
    "    # Value evaluation loop. Here we will iterate through the critic weights until \n",
    "    # a convergence criteria is met\n",
    "    while not conv_critic:\n",
    "        # Current phi vectore=\n",
    "        phi_lop = phi_func(Xk[0][0], Xk[1][0], Xk[2][0])\n",
    "        \n",
    "        # Store current critic weights\n",
    "        W_temp = Wj_iter\n",
    "        # Update critic weights with GD\n",
    "        update = ALPHA*phi_lop@(phi_lop.T@Wj_iter - val_approx)\n",
    "        Wj_iter -= update\n",
    "        W_vals = np.concatenate((W_vals, Wj_iter), axis=1) # Append to list\n",
    "        \n",
    "        # Take a new measurement\n",
    "        Xk = X\n",
    "        X = measure_func(X[0], X[1], X[2], u[0]).reshape(-1,1)\n",
    "        X_vals = np.concatenate((X_vals, X), axis=1)\n",
    "        \n",
    "        # Calculate the next control action and append to list using the x_{k} \n",
    "        # and holding the actor weights constant\n",
    "        u = phi_func(Xk[0][0], Xk[1][0], Xk[2][0]).T@Uj\n",
    "        u_vals = np.concatenate((u_vals, u), axis=0)\n",
    "        U_vals = np.concatenate((U_vals, U_vals[:,-1].reshape(-1,1)), axis=1)\n",
    "        \n",
    "        # Find the function approximation \n",
    "        val_approx = r_func(Xk[0][0], Xk[1][0], Xk[2][0], u[0]) + GAMMA*phi_func(X[0][0], X[1][0], X[2][0]).T@Wj\n",
    "        # Check for convergence or timeout\n",
    "        if update.sum() < eps_critic:\n",
    "            conv_critic = True\n",
    "        k += 1\n",
    "    # Append converged values to the critic list and current control action \n",
    "    # to the control action list\n",
    "    W_vals = np.concatenate((W_vals, Wj_iter), axis=1)\n",
    "    u_vals = np.concatenate((u_vals, u), axis=0)\n",
    "    \n",
    "    # Storing the converged critic weights and setting up place holders to \n",
    "    # iterate over the actor weights until convergence\n",
    "    Wj = W_vals[:, -1]\n",
    "    Uj = U_vals[:, -1]\n",
    "    Uj_iter = U_vals[:, -1].reshape(-1,1)\n",
    "    conv_actor = False\n",
    "    \n",
    "    while not conv_actor:\n",
    "        # Current phi vector\n",
    "        phi_lop = phi_func(Xk[0][0], Xk[1][0], Xk[2][0])\n",
    "        phi_der_lop = phi_der_func(X[0][0], X[1][0], X[2][0])\n",
    "        \n",
    "        U_temp = Uj_iter\n",
    "        update = BETA*phi_lop*(2*R@phi_lop.T@Uj_iter + GAMMA*gx.T@phi_der_lop.T@Wj)\n",
    "        Uj_iter -= update\n",
    "        u = phi_lop.T@Uj_iter\n",
    "        \n",
    "        W_vals = np.concatenate((W_vals, Wj_iter), axis=1)\n",
    "        u_vals = np.concatenate((u_vals, u.reshape(-1,)), axis=0)\n",
    "        U_vals = np.concatenate((U_vals, Uj_iter), axis=1)\n",
    "        \n",
    "        # Take a new measurement\n",
    "        Xk = X\n",
    "        X = measure_func(X[0], X[1], X[2], u[0]).reshape(-1,1)\n",
    "        X_vals = np.concatenate((X_vals, X), axis=1)\n",
    "        if update.sum() < eps_critic:\n",
    "            conv_actor = True\n",
    "        k +=1   \n",
    "    \n",
    "for state in X_vals:\n",
    "    plt.plot(time, state[0:len(time)])\n",
    "plt.legend(['$e_{\\\\theta}$', '$e_{\\omega}$', '$e_i$'])\n",
    "plt.title('Errors')\n",
    "plt.show()\n",
    "\n",
    "for gain in W_vals:\n",
    "    plt.plot(gain[0:len(time)])\n",
    "plt.legend(['$W_1$', \n",
    "            '$W_2$', \n",
    "            '$W_3$', \n",
    "            '$W_4$', \n",
    "            '$W_5$', \n",
    "            '$W_6$', \n",
    "            '$W_7$', \n",
    "            '$W_8$', \n",
    "            '$W_9$'], loc='center right')\n",
    "plt.title('Critic Weights')\n",
    "plt.show()\n",
    "\n",
    "row, col = U_vals.shape\n",
    "time_actor = np.arange(0, col*Delta, Delta)\n",
    "for gain in U_vals:\n",
    "    plt.plot(gain[0:len(time)])\n",
    "plt.legend(['$U_1$', \n",
    "            '$U_2$', \n",
    "            '$U_3$', \n",
    "            '$U_4$', \n",
    "            '$U_5$', \n",
    "            '$U_6$', \n",
    "            '$U_7$', \n",
    "            '$U_8$', \n",
    "            '$U_9$'], loc='center right')\n",
    "plt.title('Actor Weights')\n",
    "plt.show()\n",
    "\n",
    "plt.plot(time, u_vals[0:len(time)])\n",
    "plt.title('Raw Input')\n",
    "plt.show()"
   ]
  },
  {
   "cell_type": "code",
   "execution_count": null,
   "id": "56e6d737",
   "metadata": {},
   "outputs": [],
   "source": []
  },
  {
   "cell_type": "code",
   "execution_count": null,
   "id": "7319832a",
   "metadata": {},
   "outputs": [],
   "source": []
  },
  {
   "cell_type": "code",
   "execution_count": null,
   "id": "6caa58c7",
   "metadata": {},
   "outputs": [],
   "source": []
  }
 ],
 "metadata": {
  "kernelspec": {
   "display_name": "Python 3 (ipykernel)",
   "language": "python",
   "name": "python3"
  },
  "language_info": {
   "codemirror_mode": {
    "name": "ipython",
    "version": 3
   },
   "file_extension": ".py",
   "mimetype": "text/x-python",
   "name": "python",
   "nbconvert_exporter": "python",
   "pygments_lexer": "ipython3",
   "version": "3.8.10"
  }
 },
 "nbformat": 4,
 "nbformat_minor": 5
}
